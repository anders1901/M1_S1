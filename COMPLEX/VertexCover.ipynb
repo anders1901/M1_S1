{
 "cells": [
  {
   "cell_type": "markdown",
   "metadata": {},
   "source": [
    "# Couverture de Graphe :"
   ]
  },
  {
   "cell_type": "markdown",
   "metadata": {},
   "source": [
    "#### Biblioteque utilisées :"
   ]
  },
  {
   "cell_type": "code",
   "execution_count": 1,
   "metadata": {},
   "outputs": [],
   "source": [
    "import numpy as np\n",
    "import matplotlib.pyplot as plt\n",
    "\n",
    "import pickle as pkl\n",
    "from math import *\n",
    "from random import *\n",
    "import networkx as nx\n",
    "import time\n",
    "from collections import deque\n",
    "\n",
    "\n",
    "%matplotlib notebook"
   ]
  },
  {
   "cell_type": "code",
   "execution_count": 2,
   "metadata": {},
   "outputs": [],
   "source": [
    "#import sys\n",
    "#sys.getrecursionlimit()\n",
    "#sys.setrecursionlimit(3000)"
   ]
  },
  {
   "cell_type": "markdown",
   "metadata": {},
   "source": [
    "## 1. Introduction :"
   ]
  },
  {
   "cell_type": "code",
   "execution_count": 3,
   "metadata": {},
   "outputs": [],
   "source": [
    "def lecture_graphe(fichier):\n",
    "    with open(fichier, 'r') as fichier_graph:\n",
    "        N = 0\n",
    "        M = 0\n",
    "        noeuds = []\n",
    "        aretes = []\n",
    "        for i, line in enumerate(fichier_graph):\n",
    "            if i == 1:\n",
    "                N = int(line)\n",
    "            if i >=3 and i<N+3:\n",
    "                noeuds.append(int(line))\n",
    "            if i==3+N+1:\n",
    "                M = line\n",
    "            if i>3+N+2:\n",
    "                aretes.append((int(line[0]), int(line[2])))\n",
    "    G = nx.Graph()\n",
    "    G.add_nodes_from(noeuds)\n",
    "    G.add_edges_from(aretes)\n",
    "    return G"
   ]
  },
  {
   "cell_type": "code",
   "execution_count": 4,
   "metadata": {},
   "outputs": [],
   "source": [
    "LG = lecture_graphe(\"exempleinstance.txt\")"
   ]
  },
  {
   "cell_type": "code",
   "execution_count": 5,
   "metadata": {},
   "outputs": [
    {
     "data": {
      "image/png": "[encoded data removed]",
      "text/plain": [
       "<Figure size 432x288 with 1 Axes>"
      ]
     },
     "metadata": {},
     "output_type": "display_data"
    }
   ],
   "source": [
    "nx.draw(LG, with_labels=True)"
   ]
  },
  {
   "cell_type": "markdown",
   "metadata": {},
   "source": [
    "## 2. Graphes :"
   ]
  },
  {
   "cell_type": "markdown",
   "metadata": {},
   "source": [
    "### 2.1 : Opérations de base : "
   ]
  },
  {
   "cell_type": "code",
   "execution_count": 6,
   "metadata": {},
   "outputs": [],
   "source": [
    "def Remove(G,v):\n",
    "    \"\"\"\n",
    "    G : networkx.Graph, v : int -> networkx.graph\n",
    "    retourne le Graphe G - v\n",
    "    \"\"\"\n",
    "    Gp = nx.Graph.copy(G)\n",
    "    Gp.remove_node(v)\n",
    "    return Gp\n",
    "\n",
    "def RemoveL(G,V):\n",
    "    \"\"\"\n",
    "    G : networkx.Graph, V : list(int) -> networkx.Graph\n",
    "    retourne le Graphe G - [v_ in V]\n",
    "    \"\"\"\n",
    "    if type(V) == int:    #On gere le cas si l'utilsateur s'est trompé est à rentré un entier\n",
    "        return Remove(G,V)\n",
    "    if len(V)==0:     #On gere le cas si la liste ne contient pas d'entier\n",
    "        return G\n",
    "    if len(V)==1 or type(V)==int:\n",
    "        return Remove(G,V[0])\n",
    "    Gp = nx.Graph.copy(G)\n",
    "    Gp.remove_nodes_from(V)\n",
    "    return Gp\n",
    "\n",
    "def Degre(G):\n",
    "    \"\"\"\n",
    "    G : networkx.Graph -> list(int, int)\n",
    "    retirune l'ensemble des (sommets, degres) de G \n",
    "    \"\"\"\n",
    "    return nx.degree(G)\n",
    "    #return list(dict(Degre(G)).values())\n",
    "\n",
    "def DegreM(G):\n",
    "    \"\"\"\n",
    "    G : networkx.Graph -> int\n",
    "    retourne le sommet de degre max sous forme de tuple\n",
    "    \"\"\"\n",
    "    if list(G.edges()):\n",
    "        degre = Degre(G)\n",
    "        L = sorted([[values, key] for key, values in dict(degre).items()])\n",
    "        m = max(L)\n",
    "        return [m[1], m[0]]\n",
    "    return[0,0]"
   ]
  },
  {
   "cell_type": "markdown",
   "metadata": {},
   "source": [
    "### 2.2 : Génération d'instances  : "
   ]
  },
  {
   "cell_type": "code",
   "execution_count": 7,
   "metadata": {},
   "outputs": [],
   "source": [
    "def RandomG(n, p, time_ = False, debut = 0):\n",
    "    \"\"\"\n",
    "    n : int, p : float, t : bool -> Graph\n",
    "    t : permet de choisir si on veut retourner le temps de calcul(t=True) ou le resultat(t=False)\n",
    "    retourne un Graphe de n sommets avec des aretes de proba p\n",
    "    \"\"\"\n",
    "    t0 = time.time()\n",
    "    \n",
    "    G = nx.Graph()\n",
    "    if n ==0:\n",
    "        if time_ == True: \n",
    "            return time.time() - t0\n",
    "        return G\n",
    "    G.add_nodes_from(range(debut,n+debut))\n",
    "    if p<0 or p>1:\n",
    "        raise ValueError ( 'le nombre p doit etre dans [0,1]' )\n",
    "    if p == 0 or p==0.0:\n",
    "        if time_ == True:\n",
    "            return time.time() - t0\n",
    "        return G\n",
    "    for i in range(debut, n+debut-1):\n",
    "        L = []\n",
    "        for j in range(i+1,n+debut):\n",
    "            if random()<p:\n",
    "                #print(\"(i,j)\", (i,j))\n",
    "                L.append((i,j))\n",
    "        G.add_edges_from(L)\n",
    "        \n",
    "    if time_ == True:\n",
    "        return time.time()-t0\n",
    "    return G"
   ]
  },
  {
   "cell_type": "markdown",
   "metadata": {},
   "source": [
    "On test rapidement nos fonctions : "
   ]
  },
  {
   "cell_type": "code",
   "execution_count": 8,
   "metadata": {},
   "outputs": [
    {
     "data": {
      "image/png": "[encoded data removed]",
      "text/plain": [
       "<Figure size 432x288 with 1 Axes>"
      ]
     },
     "metadata": {},
     "output_type": "display_data"
    }
   ],
   "source": [
    "#Première façon de créer un graphe \n",
    "\n",
    "GT = nx.Graph()     #On déclare le graphe\n",
    "GT.add_nodes_from(range(1,6))    #On rajoute les noeuds\n",
    "GT.add_edges_from([(1,2),(1,3), (3,4), (4,2),(2,5)])    #On rajoute les arêtes\n",
    "nx.draw(GT, with_labels=True)    #On affiche notre graphe"
   ]
  },
  {
   "cell_type": "code",
   "execution_count": 9,
   "metadata": {},
   "outputs": [],
   "source": [
    "noeuds = 5   #le nombre de noeuds qu'on veut pour notre graphe\n",
    "proba = .5   #la probabilite pour qu'une arrete connecte deux sommets\n",
    "\n",
    "G1 = RandomG(noeuds,proba)   #On genere un graphe random"
   ]
  },
  {
   "cell_type": "code",
   "execution_count": 10,
   "metadata": {},
   "outputs": [
    {
     "data": {
      "image/png": "[encoded data removed]",
      "text/plain": [
       "<Figure size 432x288 with 1 Axes>"
      ]
     },
     "metadata": {},
     "output_type": "display_data"
    }
   ],
   "source": [
    "#On affiche le graphe ainsi crée :\n",
    "nx.draw(G1, with_labels=True)"
   ]
  },
  {
   "cell_type": "code",
   "execution_count": 11,
   "metadata": {},
   "outputs": [
    {
     "name": "stdout",
     "output_type": "stream",
     "text": [
      "La liste des degres du graphe G1 est :  [(0, 1), (1, 3), (2, 1), (3, 2), (4, 1)]\n",
      "Le sommet 1  est de degré maximal 3\n"
     ]
    }
   ],
   "source": [
    "d = Degre(G1)\n",
    "dmax = DegreM(G1)\n",
    "print(\"La liste des degres du graphe G1 est : \",d)\n",
    "print(\"Le sommet %d\"%dmax[0],\" est de degré maximal %d\"%dmax[1])"
   ]
  },
  {
   "cell_type": "code",
   "execution_count": 12,
   "metadata": {},
   "outputs": [],
   "source": [
    "#On enleve le sommet de degre max\n",
    "s = dmax[0]\n",
    "G2 = Remove(G1,s)"
   ]
  },
  {
   "cell_type": "code",
   "execution_count": 13,
   "metadata": {},
   "outputs": [
    {
     "data": {
      "image/png": "[encoded data removed]",
      "text/plain": [
       "<Figure size 432x288 with 1 Axes>"
      ]
     },
     "metadata": {},
     "output_type": "display_data"
    }
   ],
   "source": [
    "nx.draw(G2, with_labels=True)"
   ]
  },
  {
   "cell_type": "code",
   "execution_count": 14,
   "metadata": {},
   "outputs": [
    {
     "data": {
      "image/png": "[encoded data removed]",
      "text/plain": [
       "<Figure size 432x288 with 1 Axes>"
      ]
     },
     "metadata": {},
     "output_type": "display_data"
    }
   ],
   "source": [
    "nx.draw(G1, with_labels=True)"
   ]
  },
  {
   "cell_type": "markdown",
   "metadata": {},
   "source": [
    "Le premier graphe n'est pas modifié par notre fonction. En effet notre fonction crée une copie du graphe initial puis renvoie ce dernier. On pourrait néanmoins discuter de l'efficacité de cette implémentation."
   ]
  },
  {
   "cell_type": "markdown",
   "metadata": {},
   "source": [
    "On va réaliser un test sur le temps de calcul de la fonction `RandomG(n, p, time_ = True)` c'est pour cela qu'on a instancié le parametre `time_ = True`.\n",
    "\n",
    "Dans toute la suite où on va devoir réliser des tests : $n \\in\\{Nmax/10,\\ 2Nmax/10,\\ 3Nmax/10, ...,\\ Nmax\\}$"
   ]
  },
  {
   "cell_type": "code",
   "execution_count": 15,
   "metadata": {},
   "outputs": [],
   "source": [
    "global Tmax, probaG, step_test\n",
    "\n",
    "Tmax = 4    #Temps max pour un algorithme\n",
    "probaG = 1  #Proba pire temps pour la création de Graphes Random, en effet toutes les arrêtes son connectées\n",
    "step_test = 100  #Le pas de sommets pour le test sur le temps de calcul "
   ]
  },
  {
   "cell_type": "code",
   "execution_count": 16,
   "metadata": {},
   "outputs": [],
   "source": [
    "def N_maxR(algo, proba = lambda i : 1./np.sqrt(i)):\n",
    "    \"\"\"\n",
    "    algo : function -> int\n",
    "    Mesure le nombre d'instances jusqu’a laquelle l’algorithme tourne rapidement\n",
    "    \"\"\"\n",
    "    #if type(proba)==int or type(proba)==float:#On calcul le nouveau temps de création d'un Graph random\n",
    "    #    n_ = 0   #Le nombre de sommets au début du test sur le temps de calcul \n",
    "    #    temps_algo = algo(n_, proba, True)\n",
    "    #else:\n",
    "    #    n_ = 1   #Le nombre de sommets au début du test sur le temps de calcul \n",
    "    #    temps_algo = algo(n_, proba(n_), True)\n",
    "    temps_algo = 0\n",
    "    n_ =0\n",
    "    while(temps_algo <= Tmax):   #Si le temps de de calcul <= Temps_max on continue\n",
    "        n_ += step_test   #On rajoute step_test sommets\n",
    "        if type(proba)==int or type(proba)==float:#On calcul le nouveau temps de création d'un Graph random\n",
    "            temps_algo = algo(n_, proba, True)\n",
    "        else:\n",
    "            temps_algo = algo(n_, proba(n_), True) \n",
    "    return n_-step_test    #Le nombre de sommets max pour lequel notre algo ne depasse pas Tmax secondes\n",
    "\n",
    "def generMoy(Nm, proba = lambda i : 1./np.sqrt(i)):\n",
    "    \"\"\"\n",
    "    Nm : int -> (list(float), np.array(float))\n",
    "    retourne la moyenne sur 10 intances du temps de cration d'un graphe random pour n comme prece\n",
    "    \"\"\"\n",
    "    i_ = 10\n",
    "    N_  = np.linspace(Nm/10, Nm, 10)\n",
    "    tempsM_= []\n",
    "    for n in  N_:\n",
    "        if type(proba)==int or type(proba)==float:\n",
    "            m = np.mean([RandomG(int(n), proba, True) for i in range(i_)])\n",
    "        else:\n",
    "            m = np.mean([RandomG(int(n), proba(int(n)), True) for i in range(i_)])\n",
    "        tempsM_.append(m)\n",
    "    return tempsM_, N_"
   ]
  },
  {
   "cell_type": "code",
   "execution_count": 17,
   "metadata": {},
   "outputs": [
    {
     "name": "stdout",
     "output_type": "stream",
     "text": [
      "Le nombre maximal de noeuds pour notre algorithme RandomG avec une proba de 1 est :  2400\n"
     ]
    }
   ],
   "source": [
    "global Nmax_R, Nmax_Rd, Nmax_Rs\n",
    "\n",
    "Nmax_R = N_maxR(RandomG, probaG)   #Nombre max d'instance pour notre fonction RandomG avec proba 1\n",
    "print(\"Le nombre maximal de noeuds pour notre algorithme RandomG avec une proba de 1 est : \", Nmax_R)"
   ]
  },
  {
   "cell_type": "code",
   "execution_count": 18,
   "metadata": {},
   "outputs": [
    {
     "name": "stdout",
     "output_type": "stream",
     "text": [
      "Le nombre maximal de noeuds pour notre algorithme RandomG avec une proba de .1 est :  6100\n"
     ]
    }
   ],
   "source": [
    "Nmax_Rd = N_maxR(RandomG, .1)    #Nombre max d'instance pour notre fonction RandomG avec proba 0.1\n",
    "print(\"Le nombre maximal de noeuds pour notre algorithme RandomG avec une proba de .1 est : \", Nmax_Rd)"
   ]
  },
  {
   "cell_type": "code",
   "execution_count": 19,
   "metadata": {},
   "outputs": [
    {
     "name": "stdout",
     "output_type": "stream",
     "text": [
      "Le nombre maximal de noeuds pour notre algorithme RandomG avec une proba de inverse est :  7700\n"
     ]
    }
   ],
   "source": [
    "Nmax_Rs = N_maxR(RandomG)    ##Nombre max d'instance pour notre fonction RandomG avec proba 1/racine(n)\n",
    "print(\"Le nombre maximal de noeuds pour notre algorithme RandomG avec une proba de inverse est : \", Nmax_Rs)"
   ]
  },
  {
   "cell_type": "code",
   "execution_count": 20,
   "metadata": {},
   "outputs": [],
   "source": [
    "M_R, N_R = generMoy(Nmax_R, proba = probaG)     #"
   ]
  },
  {
   "cell_type": "code",
   "execution_count": 21,
   "metadata": {},
   "outputs": [],
   "source": [
    "M_Rd, N_Rd = generMoy(Nmax_Rd, proba = .1)"
   ]
  },
  {
   "cell_type": "code",
   "execution_count": 22,
   "metadata": {},
   "outputs": [],
   "source": [
    "M_Rs, N_Rs = generMoy(Nmax_Rs)"
   ]
  },
  {
   "cell_type": "code",
   "execution_count": 23,
   "metadata": {},
   "outputs": [
    {
     "data": {
      "image/png": "[encoded data removed]",
      "text/plain": [
       "<Figure size 432x288 with 1 Axes>"
      ]
     },
     "metadata": {
      "needs_background": "light"
     },
     "output_type": "display_data"
    }
   ],
   "source": [
    "plt.figure(1)\n",
    "plt.plot(N_R, M_R)\n",
    "plt.plot(N_Rs, M_Rs)\n",
    "plt.plot(N_Rd, M_Rd)\n",
    "#plt.axis([0,2500, -3.5, 1.5])\n",
    "#plt.axis([0,2500, 0, 4.5])\n",
    "plt.title(\"$t_n$ d'un graphe en fonction de $n$ selon la probabilité\")\n",
    "#plt.ylabel(\"Log(Temps moyen de l'lagorithme)\")\n",
    "plt.ylabel(\"Temps moyen de l'lagorithme\")\n",
    "plt.xlabel(\"Nombre de noeuds\")\n",
    "plt.legend((\"p = 1\",\"p = 1/n\",\"p = 0.1\"))\n",
    "plt.show()"
   ]
  },
  {
   "cell_type": "code",
   "execution_count": 24,
   "metadata": {},
   "outputs": [],
   "source": [
    "def testAlgo_proba(algo, Nmax, p):\n",
    "    \"\"\"\n",
    "    algo1 & algo2 : function, Nmax1 & Nmax2 : int -> list(float), list(float)\n",
    "    \"\"\"\n",
    "    i_ = 10\n",
    "    P  = np.linspace(0,1,11)\n",
    "    P_algo = []\n",
    "    for p in P:\n",
    "        m = np.mean([algo(Nmax, p, time_ = True)for i in range(i_)])\n",
    "        P_algo.append(m)\n",
    "    \n",
    "    return P_algo, P"
   ]
  },
  {
   "cell_type": "code",
   "execution_count": 25,
   "metadata": {},
   "outputs": [],
   "source": [
    "T_PR, P_ = testAlgo_proba(RandomG, Nmax_R, probaG)"
   ]
  },
  {
   "cell_type": "code",
   "execution_count": 26,
   "metadata": {},
   "outputs": [
    {
     "data": {
      "image/png": "[encoded data removed]",
      "text/plain": [
       "<Figure size 432x288 with 1 Axes>"
      ]
     },
     "metadata": {
      "needs_background": "light"
     },
     "output_type": "display_data"
    }
   ],
   "source": [
    "plt.figure(2)\n",
    "plt.plot(P_, np.log(T_PR))\n",
    "plt.title(\"$t_n$ d'un graphe en fonction de $n$ selon la probabilité\")\n",
    "#plt.ylabel(\"Log(Temps moyen de l'lagorithme)\")\n",
    "plt.ylabel(\"Temps moyen de l'lagorithme\")\n",
    "plt.xlabel(\"Proba des aretes\")\n",
    "plt.show()"
   ]
  },
  {
   "cell_type": "markdown",
   "metadata": {},
   "source": [
    "## 3. Méthodes approchées :"
   ]
  },
  {
   "cell_type": "code",
   "execution_count": 27,
   "metadata": {},
   "outputs": [],
   "source": [
    "def algo_couplage(G, time_ = False):\n",
    "    \"\"\"\n",
    "    G : networkx(Graph), t : bool -> list(int)\n",
    "    t : permet de choisir si on veut retourner le temps de calcul(t=True) ou le resultat(t=False)\n",
    "    retourne une couverture\n",
    "    \"\"\"\n",
    "    t0 = time.time()   #On initilise le timer\n",
    "    \n",
    "    Cover =[]\n",
    "    for e in list(G.edges()):   #On itere sur les arretes de G\n",
    "        if(e[0] not in Cover) and (e[1] not in Cover):    #On verifie qu'aucun des deux sommets ne se trouve dans C\n",
    "            #print(e)\n",
    "            Cover.append(e[0])  #On rajoute les deux sommets dans C\n",
    "            Cover.append(e[1])\n",
    "            \n",
    "    if time_ == True:   #Si on a choisi d'afficher le temps on le fait\n",
    "        return time.time() - t0\n",
    "    return Cover    #Sinon on retorune la couverture\n",
    "\n",
    "\n",
    "def algo_glouton(G, time_ = False):  \n",
    "    \"\"\"\n",
    "    G : networkx(Graph), t : bool-> list(int)\n",
    "    t : permet de choisir si on veut retourner le temps de calcul(t=True) ou le resultat(t=False)\n",
    "    retourne une couverture\n",
    "    \"\"\"\n",
    "    t0 = time.time()\n",
    "    C = nx.Graph()  \n",
    "    Gt = nx.Graph.copy(G)\n",
    "    edges = Gt.edges() \n",
    "    while(edges):  \n",
    "        v = DegreM(Gt)  \n",
    "        C.add_node(v[0])   \n",
    "        Gt.remove_node(v[0])\n",
    "        \n",
    "    if time_ == True:\n",
    "        return time.time()-t0\n",
    "    return list(C.nodes)"
   ]
  },
  {
   "cell_type": "code",
   "execution_count": 28,
   "metadata": {},
   "outputs": [
    {
     "data": {
      "text/plain": [
       "[1, 2, 3, 4]"
      ]
     },
     "execution_count": 28,
     "metadata": {},
     "output_type": "execute_result"
    }
   ],
   "source": [
    "algo_couplage(GT)"
   ]
  },
  {
   "cell_type": "code",
   "execution_count": 29,
   "metadata": {},
   "outputs": [
    {
     "data": {
      "text/plain": [
       "[2, 3]"
      ]
     },
     "execution_count": 29,
     "metadata": {},
     "output_type": "execute_result"
    }
   ],
   "source": [
    "algo_glouton(GT)"
   ]
  },
  {
   "cell_type": "code",
   "execution_count": 30,
   "metadata": {},
   "outputs": [
    {
     "data": {
      "text/plain": [
       "[0, 1, 2, 3]"
      ]
     },
     "execution_count": 30,
     "metadata": {},
     "output_type": "execute_result"
    }
   ],
   "source": [
    "algo_couplage(G1)"
   ]
  },
  {
   "cell_type": "code",
   "execution_count": 31,
   "metadata": {},
   "outputs": [
    {
     "data": {
      "text/plain": [
       "[1, 3]"
      ]
     },
     "execution_count": 31,
     "metadata": {},
     "output_type": "execute_result"
    }
   ],
   "source": [
    "algo_glouton(G1) "
   ]
  },
  {
   "cell_type": "markdown",
   "metadata": {},
   "source": [
    "On va réaliser un test sur le temps de calcul et la qualité des réponses de nos deux fonctions `algo_couplage(G, time_ = True)` et  `algo_glouton(G, time_ = True)`c'est pour cela qu'on a instancié le parametre `time_ = True`. "
   ]
  },
  {
   "cell_type": "code",
   "execution_count": 32,
   "metadata": {},
   "outputs": [],
   "source": [
    "def N_max(algo, proba = lambda i : 1./np.sqrt(i)):\n",
    "    \"\"\"\n",
    "    algo : function -> int\n",
    "    Mesure le nombre d'instances max pour lequel l’algorithme tourne rapidement\n",
    "    \"\"\"\n",
    "\n",
    "    #if type(proba)==int or type(proba)==float:\n",
    "    #    n_ = 0   #Le nombre de sommets au début du test sur le temps de calcul \n",
    "    #    temps_algo = algo(RandomG(n_,proba), True)\n",
    "    #else:\n",
    "    #    n_ = 1\n",
    "    #    temps_algo = algo(RandomG(n_,proba(n_)), True)\n",
    "    temps_algo = 0\n",
    "    n_ = 0\n",
    "    while(temps_algo <= Tmax):    #Si le temps de de calcul <= Temps_max on continue\n",
    "        n_ += step_test   #On rajoute step_test sommets\n",
    "        if type(proba)==int or type(proba)==float:\n",
    "            R = RandomG(n_,proba)\n",
    "            temps_algo = algo(R, True)   #On calcul le nouveau temps de création d'un Graph random\n",
    "        else:\n",
    "            R = RandomG(n_,proba(n_))\n",
    "            temps_algo = algo(R, True)   #On calcul le nouveau temps de création d'un Graph random\n",
    "    return n_-step_test    #Le nombre de sommets max pour lequel notre algo ne depasse pas Tmax secondes\n",
    "    \n",
    "\n",
    "def testAlgo_time(algo1,algo2, Nmax1, Nmax2):\n",
    "    \"\"\"\n",
    "    algo1 & algo2 : function, Nmax1 & Nmax2 : int -> list(float), list(float)\n",
    "    \"\"\"\n",
    "    i_ = 10\n",
    "    N1  = np.linspace(Nmax1/10,Nmax1,10)\n",
    "    N2  = np.linspace(Nmax2/10,Nmax2,10)\n",
    "    T_algo1 = []\n",
    "    for n in N1:\n",
    "        m = np.mean([algo1(RandomG(int(n), probaG), True) for i in range(i_)])\n",
    "        T_algo1.append(m)\n",
    "    \n",
    "    T_algo2 = []\n",
    "    for n in N2:\n",
    "        m = np.mean([algo2(RandomG(int(n), probaG), True) for i in range(i_)])\n",
    "        T_algo2.append(m)\n",
    "        \n",
    "    return T_algo1, N1, T_algo2, N2\n",
    "\n",
    "def testAlgo_solutions(algo1,algo2, Nmax1, Nmax2, proba = lambda i : 1./np.sqrt(i) ):\n",
    "    \"\"\"\n",
    "    algo1 & algo2 : function, Nmax1 & Nmax2 : int -> list(float), list(float)\n",
    "    \"\"\"\n",
    "    i_ = 10\n",
    "    N1  = np.linspace(Nmax1/10,Nmax1,10)\n",
    "    N2  = np.linspace(Nmax2/10,Nmax2,10)\n",
    "    \n",
    "    L_algo1 = []\n",
    "    for n in N1:\n",
    "        if type(proba)==int or type(proba)==float:\n",
    "            m = np.mean([len(algo1(RandomG(int(n), proba))) for i in range(i_)])\n",
    "        else:\n",
    "            m = np.mean([len(algo1(RandomG(int(n), proba(int(n))))) for i in range(i_)])\n",
    "        L_algo1.append(m)\n",
    "    \n",
    "    L_algo2 = []\n",
    "    for n in N2:\n",
    "        if type(proba)==int or type(proba)==float:\n",
    "            m = np.mean([len(algo2(RandomG(int(n), proba))) for i in range(i_)])\n",
    "        else:\n",
    "            m = np.mean([len(algo1(RandomG(int(n), proba(int(n))))) for i in range(i_)])\n",
    "        L_algo2.append(m)\n",
    "    return L_algo1, L_algo2\n",
    "\n",
    "def testAlgo_solutions2(algo1,algo2, Nmax1):\n",
    "    \"\"\"\n",
    "    algo1 & algo2 : function, Nmax1 & Nmax2 : int -> list(float), list(float)\n",
    "    \"\"\"\n",
    "    i_ = 10\n",
    "    P  = np.linspace(0,1,11)\n",
    "    L_algo1 = []\n",
    "    for p in P:\n",
    "        m = np.mean([len(algo1(RandomG(Nmax1, p))) for i in range(i_)])\n",
    "        L_algo1.append(m)\n",
    "    \n",
    "    L_algo2 = []\n",
    "    for p in P:\n",
    "        m = np.mean([len(algo2(RandomG(Nmax1, p))) for i in range(i_)])\n",
    "        L_algo2.append(m)\n",
    "    return L_algo1, L_algo2, P"
   ]
  },
  {
   "cell_type": "code",
   "execution_count": 33,
   "metadata": {},
   "outputs": [],
   "source": [
    "global Nmax_C, Nmax_G\n",
    "step_test = 200"
   ]
  },
  {
   "cell_type": "code",
   "execution_count": 34,
   "metadata": {},
   "outputs": [
    {
     "name": "stdout",
     "output_type": "stream",
     "text": [
      "Le nombre maximal de noeuds pour algo_couplage est :  1200\n"
     ]
    }
   ],
   "source": [
    "Nmax_C = N_max(algo_couplage, proba = probaG)\n",
    "print(\"Le nombre maximal de noeuds pour algo_couplage est : \", Nmax_C)"
   ]
  },
  {
   "cell_type": "code",
   "execution_count": 35,
   "metadata": {},
   "outputs": [
    {
     "name": "stdout",
     "output_type": "stream",
     "text": [
      "Le nombre maximal de noeuds pour algo_glouton est :  400\n"
     ]
    }
   ],
   "source": [
    "Nmax_G = N_max(algo_glouton, proba = probaG)\n",
    "print(\"Le nombre maximal de noeuds pour algo_glouton est : \", Nmax_G)"
   ]
  },
  {
   "cell_type": "code",
   "execution_count": 36,
   "metadata": {},
   "outputs": [],
   "source": [
    "T_C, N_C, T_G, N_G = testAlgo_time(algo_couplage, algo_glouton, Nmax_C, Nmax_G)"
   ]
  },
  {
   "cell_type": "code",
   "execution_count": 37,
   "metadata": {},
   "outputs": [
    {
     "data": {
      "image/png": "[encoded data removed]",
      "text/plain": [
       "<Figure size 432x288 with 1 Axes>"
      ]
     },
     "metadata": {
      "needs_background": "light"
     },
     "output_type": "display_data"
    }
   ],
   "source": [
    "plt.figure(3)\n",
    "plt.plot(N_C, T_C)\n",
    "plt.plot(N_G, T_G)\n",
    "#plt.axis([0,2500, -3.5, 1.5])\n",
    "plt.title(\"Comparaison algo_glouton et algo_couplage\")\n",
    "plt.ylabel(\"Temps moyen de l'lagorithme\")\n",
    "plt.xlabel(\"Nombre de noeuds\")\n",
    "plt.legend((\"couplage\",\"glouton\"))\n",
    "plt.show()"
   ]
  },
  {
   "cell_type": "code",
   "execution_count": 38,
   "metadata": {},
   "outputs": [],
   "source": [
    "L_C, L_G = testAlgo_solutions(algo_couplage, algo_glouton, Nmax_C, Nmax_G, proba=probaG)"
   ]
  },
  {
   "cell_type": "code",
   "execution_count": 39,
   "metadata": {},
   "outputs": [],
   "source": [
    "L_Cd, L_Gd = testAlgo_solutions(algo_couplage, algo_glouton, Nmax_C, Nmax_G, proba=.1)"
   ]
  },
  {
   "cell_type": "code",
   "execution_count": 40,
   "metadata": {},
   "outputs": [],
   "source": [
    "L_Cs, L_Gs = testAlgo_solutions(algo_couplage, algo_glouton, Nmax_C, Nmax_G)"
   ]
  },
  {
   "cell_type": "code",
   "execution_count": 41,
   "metadata": {},
   "outputs": [
    {
     "data": {
      "text/plain": [
       "[113.2, 233.6, 353.4, 474.4, 591.4, 713.4, 833.2, 953.8, 1073.6, 1192.6]"
      ]
     },
     "execution_count": 41,
     "metadata": {},
     "output_type": "execute_result"
    }
   ],
   "source": [
    "L_Cd"
   ]
  },
  {
   "cell_type": "code",
   "execution_count": 42,
   "metadata": {},
   "outputs": [
    {
     "data": {
      "text/plain": [
       "[22.4, 54.5, 90.9, 127.9, 165.2, 203.0, 241.5, 279.9, 318.7, 358.9]"
      ]
     },
     "execution_count": 42,
     "metadata": {},
     "output_type": "execute_result"
    }
   ],
   "source": [
    "L_Gd"
   ]
  },
  {
   "cell_type": "code",
   "execution_count": 43,
   "metadata": {},
   "outputs": [
    {
     "data": {
      "image/png": "[encoded data removed]",
      "text/plain": [
       "<Figure size 432x288 with 1 Axes>"
      ]
     },
     "metadata": {
      "needs_background": "light"
     },
     "output_type": "display_data"
    }
   ],
   "source": [
    "plt.figure(4)\n",
    "#plt.plot(N_C, L_C, linestyle=\"--\")\n",
    "#plt.plot(N_G, L_G, linestyle=\"--\")\n",
    "plt.plot(N_C, L_Cd, linestyle=\":\")\n",
    "plt.plot(N_G, L_Gd, linestyle=\":\")\n",
    "#plt.plot(N_C, L_Cs, linestyle=\"-.\")\n",
    "#plt.plot(N_G, L_Gs, linestyle=\"-.\")\n",
    "#plt.axis([0,2500, -3.5, 1.5])\n",
    "plt.title(\"Comparaison solution algo_glouton et algo_couplage\")\n",
    "plt.ylabel(\"Longueur de la solution\")\n",
    "plt.xlabel(\"Nombre de noeuds\")\n",
    "plt.legend((\"couplage\",\"glouton\"))\n",
    "plt.show()\n"
   ]
  },
  {
   "cell_type": "code",
   "execution_count": 44,
   "metadata": {},
   "outputs": [],
   "source": [
    "L_PC, L_PG, P_CG = testAlgo_solutions2(algo_couplage, algo_glouton, Nmax_G)"
   ]
  },
  {
   "cell_type": "code",
   "execution_count": 45,
   "metadata": {},
   "outputs": [
    {
     "data": {
      "image/png": "[encoded data removed]",
      "text/plain": [
       "<Figure size 432x288 with 1 Axes>"
      ]
     },
     "metadata": {
      "needs_background": "light"
     },
     "output_type": "display_data"
    }
   ],
   "source": [
    "plt.figure(5)\n",
    "plt.plot(P_, L_PC)\n",
    "plt.plot(P_, L_PG)\n",
    "#plt.axis([0,2500, -3.5, 1.5])\n",
    "plt.title(\"Comparaison solution algo_glouton et algo_couplage\")\n",
    "plt.ylabel(\"Log(Longueur de la solution)\")\n",
    "plt.xlabel(\"Probabilité\")\n",
    "plt.legend((\"couplage\",\"glouton\"))\n",
    "plt.show()"
   ]
  },
  {
   "cell_type": "markdown",
   "metadata": {},
   "source": [
    "## 4. Séparation et évaluation :"
   ]
  },
  {
   "cell_type": "markdown",
   "metadata": {},
   "source": [
    "###  4.1 Branchement :"
   ]
  },
  {
   "cell_type": "code",
   "execution_count": 46,
   "metadata": {},
   "outputs": [],
   "source": [
    "GTEST = RandomG(22,.5)"
   ]
  },
  {
   "cell_type": "code",
   "execution_count": 47,
   "metadata": {},
   "outputs": [
    {
     "data": {
      "image/png": "[encoded data removed]",
      "text/plain": [
       "<Figure size 432x288 with 1 Axes>"
      ]
     },
     "metadata": {},
     "output_type": "display_data"
    }
   ],
   "source": [
    "nx.draw(GTEST, with_labels=True)"
   ]
  },
  {
   "cell_type": "markdown",
   "metadata": {},
   "source": [
    "Version Branchement simple avec recursivité double "
   ]
  },
  {
   "cell_type": "code",
   "execution_count": 48,
   "metadata": {},
   "outputs": [],
   "source": [
    "def BranchRecursivite2(G, Gm, P, S, time_ = False, noeuds_ = False):\n",
    "    \"\"\"\n",
    "    G : nx.Graph(), Gm : nx.Graph(), P : list(), S : list(), time_ : bool, noeuds_ : bool -> list(int)\n",
    "    time_ : Si True renvoie aussi le temps de calcul \n",
    "    noeuds_ : si True renvoie aussi le nombre de noeuds\n",
    "    retourne une couverture de longueur minimale\n",
    "    \"\"\"\n",
    "    global etape, timer   #variables globales qui permettent de garder le temps et le nombre de noeuds \n",
    "    etape+=1\n",
    "    #print(\"etape : \",etape)\n",
    "    timer = time.time()\n",
    "    edges = list(Gm.edges) \n",
    "    \n",
    "    if len(edges) == 0:     #Si il n'y a plus d'arretes dans le Graphe courant on a trouvé une solution\n",
    "        #print(\"ON y est \")\n",
    "        S.append(P.pop())     #On rajoute cette solution dans S en la dépilant de le pile \n",
    "        if len(P) == 0:    #Cas d'arret, notre pile est vide\n",
    "            noeuds = etape     #On se sert de la variable globale pour avoir le nombre de noeuds sans avoir a passer un parametre en plus \n",
    "            etape = 0     #On remet la variable globale a 0 pour les prochaines execution\n",
    "            if time_ == True :     #Si on veut avoir le temps d'execution\n",
    "                t0 = timer    #Meme methode que pour le temps\n",
    "                timer = 0     #On remet a 0\n",
    "                if noeuds_ == True:    #et le nombre de noeuds\n",
    "                    return min(S, key = len), time.time() - t0 , noeuds\n",
    "                return min(S, key = len), time.time() - t0\n",
    "            elif time_ == False:\n",
    "                if noeuds_ == True:     #Que le nombre de noeuds \n",
    "                    return min(S, key = len), noeuds\n",
    "            return min(S, key = len)\n",
    "        #Si la pile n'est pas vide on elague \n",
    "        return BranchRecursivite2(G, RemoveL(G, P[len(P)-1]), P, S, time_, noeuds_)     #Appel de recursion sur le graphe prive du nouveau dernier membre de la pile \n",
    "        \n",
    "    e = edges[0]    #On prend une arrete au hasard, disons la premiere\n",
    "    if len(P)!=0:    \n",
    "        r = P.pop()     #On regarde les arretes qu'on a enleve jusqu'a maintenant \n",
    "        r0 = r.copy()   \n",
    "        r0.append(e[0])    #On rajoute un sommet de l'arrete choisie dans les arretes enelvees actuellement\n",
    "        r1 = r.copy()\n",
    "        r1.append(e[1])    #On rajoute l'autre sommet de l'arrete choisie\n",
    "        P.append(r0)    #On rajoute les deux possibilites a la pile \n",
    "        P.append(r1)\n",
    "    else:  #La pile est vide car c'est le premier noeud\n",
    "        P.append([e[0]])    #On rajoute un sommet de l'arrete choisie dans la pile\n",
    "        P.append([e[1]])    #On rajoute l'autre sommet de l'arrete choisie dans la pile\n",
    "    return BranchRecursivite2(G, RemoveL(G, P[len(P)-1]), P, S, time_, noeuds_)    #On appel par recursion sur le graph prive du dernier membre de la pile\n"
   ]
  },
  {
   "cell_type": "markdown",
   "metadata": {},
   "source": [
    "Version Branchement simple avec recursivité simple "
   ]
  },
  {
   "cell_type": "code",
   "execution_count": 49,
   "metadata": {},
   "outputs": [],
   "source": [
    "def BranchRecusivite1(G, Gm, P, S, time_ = False, noeuds_ = False):\n",
    "    \"\"\"\n",
    "    G : nx.Graph(), Gm : nx.Graph(), P : list(), S : list(), time_ : bool, noeuds_ : bool -> list(int)\n",
    "    time_ : Si True renvoie aussi le temps de calcul \n",
    "    noeuds_ : si True renvoie aussi le nombre de noeuds\n",
    "    retourne une couverture de longueur minimale\n",
    "    \"\"\"\n",
    "    global etape, timer\n",
    "    etape+=1\n",
    "    timer = time.time()\n",
    "    E = list(Gm.edges) \n",
    "    while E:\n",
    "        e = E[0]    #On prend une arrete au hasard, disons la premiere\n",
    "        if len(P)!=0:    \n",
    "            r = P.pop()     #On regarde les arretes qu'on a enleve jusqu'a maintenant \n",
    "            r0 = r.copy()   \n",
    "            r0.append(e[0])    #On rajoute un sommet de l'arrete choisie dans les arretes enelvees actuellement\n",
    "            r1 = r.copy()\n",
    "            r1.append(e[1])    #On rajoute l'autre sommet de l'arrete choisie\n",
    "            P.append(r0)    #On rajoute les deux possibilites a la pile \n",
    "            P.append(r1)\n",
    "            E = list(RemoveL(Gm, P[len(P)-1]).edges) \n",
    "            etape+=1\n",
    "        else:  #La pile est vide car c'est le premier noeud\n",
    "            P.append([e[0]])    #On rajoute un sommet de l'arrete choisie dans la pile\n",
    "            P.append([e[1]])    #On rajoute l'autre sommet de l'arrete choisie dans la pile\n",
    "            E = list(RemoveL(Gm, P[len(P)-1]).edges) \n",
    "            etape+=1\n",
    "    S.append(P.pop())     #On rajoute cette solution dans S en la dépilant de le pile \n",
    "    if len(P)==0:    #Cas d'arret, notre pile est vide\n",
    "        noeuds = etape     #On se sert de la variable globale pour avoir le nombre de noeuds sans avoir a passer un parametre en plus \n",
    "        etape = 0     #On remet la variable globale a 0 pour les prochaines execution\n",
    "        if time_ == True :     #Si on veut avoir le temps d'execution\n",
    "            t0 = timer    #Meme methode que pour le temps\n",
    "            timer = 0     #On remet a 0\n",
    "            if noeuds_ == True:    #Et le nombre de noeuds\n",
    "                return min(S, key = len), time.time() - t0, noeuds\n",
    "            return min(S, key = len), time.time() - t0\n",
    "        elif time_ == False:\n",
    "            if noeuds_ == True:     #Que le nombre de noeuds \n",
    "                return min(S, key = len), noeuds\n",
    "        return min(S, key = len)\n",
    "        #Si la pile n'est pas vide on elague \n",
    "    return BranchRecusivite1(G, RemoveL(G, P[len(P)-1]), P, S, time_, noeuds_)     #Appel de recursion sur le graphe prive du nouveau dernier membre de la pile\n",
    "    "
   ]
  },
  {
   "cell_type": "markdown",
   "metadata": {},
   "source": [
    "Le probleme des versions recursives est qu'on atteint rapidement la limite de recusivite de la pile avant d'etteindre les 4 secondes.\n",
    "\n",
    "Version Branchement simple sans recursivite inspirée de la version recursive"
   ]
  },
  {
   "cell_type": "code",
   "execution_count": 50,
   "metadata": {},
   "outputs": [],
   "source": [
    "def BranchF(G, time_  = False, noeuds_ = False):\n",
    "    \"\"\"\n",
    "    G : nx.Graph(), time_ : bool, noeuds_ : bool -> list(int)\n",
    "    time_ : Si True renvoie aussi le temps de calcul \n",
    "    noeuds_ : si True renvoie aussi le nombre de noeuds\n",
    "    retourne une couverture de longueur minimale\n",
    "    \"\"\"\n",
    "    t0 = time.time() \n",
    "    \n",
    "    edges = list(G.edges)\n",
    "    if len(edges) == 0:  #Il n'y a aucune arete on s'arrete \n",
    "        if time_ == True :     #Si on veut avoir le temps d'execution\n",
    "            if noeuds_ == True:    #Et le nombre de noeuds\n",
    "                return [], time.time() - t0, 0\n",
    "            return [], time.time() - t0\n",
    "\n",
    "        if noeuds_ == True:     #Que le nombre de noeuds \n",
    "            return [], 0\n",
    "        return []\n",
    "    \n",
    "    Pile = []\n",
    "    Cover = []\n",
    "    noeuds = 1 #Sinon on a deja le noeud initial\n",
    "    e = edges[0]\n",
    "    Pile.append([e[0]])    #On rajoute un sommet de l'arrete choisie dans la pile\n",
    "    Pile.append([e[1]])    #On rajoute l'autre sommet de l'arrete choisie dans la pile \n",
    "    noeuds += 2   #On vientv de créer deux noeudss à notre arbre\n",
    "    \n",
    "    while(Pile):   #equivalent a while(len(Pile) != 0)\n",
    "        edges = list(RemoveL(G, Pile[len(Pile)-1]).edges) \n",
    "        while(edges):     #equivalent a while(len(Pile) != 0)\n",
    "            e = edges[0]    #On prend une arrete au hasard, disons la premiere\n",
    "            \n",
    "            if Pile:      #equivalent a if len(Pile) ! =0   \n",
    "                n = Pile.pop()     #On regarde les arretes qu'on a enleve jusqu'a maintenant \n",
    "                n0 = n.copy()   \n",
    "                n0.append(e[0])    #On rajoute un sommet de l'arrete choisie dans les arretes enelvees actuellement\n",
    "                n1 = n.copy()\n",
    "                n1.append(e[1])    #On rajoute l'autre sommet de l'arrete choisie\n",
    "                Pile.append(n0)    #On rajoute les deux possibilites a la pile \n",
    "                Pile.append(n1)\n",
    "                noeuds+=2     #deux noeuds de plus\n",
    "            edges = list(RemoveL(G, Pile[len(Pile)-1]).edges)  \n",
    "        Cover.append(Pile[len(Pile)-1])     #On rajoute cette solution dans S en la dépilant de le pile \n",
    "        edges = list(RemoveL(G, Pile[len(Pile)-1]).edges)\n",
    "        Pile.pop()\n",
    "        \n",
    "\n",
    "    if time_ == True :     #Si on veut avoir le temps d'execution\n",
    "        if noeuds_ == True:    #Et le nombre de noeuds\n",
    "            return min(Cover, key = len), time.time() - t0, noeuds\n",
    "        return min(Cover, key = len), time.time() - t0\n",
    "    if noeuds_ == True:     #Que le nombre de noeuds \n",
    "        return min(Cover, key = len), noeuds\n",
    "    return min(Cover, key = len)"
   ]
  },
  {
   "cell_type": "markdown",
   "metadata": {},
   "source": [
    "Cette méthode est plus rapide mais le problème est qu'en reprenant exactement la construction de la fonction récursive on a des cas redondants avec deux boucnes `while`. \n",
    "Deuxiéme fonction non récursive :"
   ]
  },
  {
   "cell_type": "code",
   "execution_count": 51,
   "metadata": {},
   "outputs": [],
   "source": [
    "def BranchS(G, time_ = False, noeuds_ =False): \n",
    "    \"\"\"\n",
    "    G : nx.Graph(), time_ : bool, noeuds_ : bool -> list(int)\n",
    "    time_ : Si True renvoie aussi le temps de calcul \n",
    "    noeuds_ : si True renvoie aussi le nombre de noeuds\n",
    "    retourne une couverture de longueur minimale\n",
    "    \"\"\"\n",
    "    t0 = time.time()\n",
    "\n",
    "    if len(list(G.edges())) == 0: \n",
    "        if time_ == True :     #Si on veut avoir le temps d'execution\n",
    "            if noeuds_ == True:    #Et le nombre de noeuds\n",
    "                return [], time.time() - t0, 0\n",
    "            return [], time.time() - t0\n",
    "\n",
    "        if noeuds_ == True:     #Que le nombre de noeuds \n",
    "            return [], 0\n",
    "        return []\n",
    "        \n",
    "     \n",
    "    Pile = []\n",
    "    Cover = [] \n",
    "    noeuds = 1\n",
    "    edges = list(G.edges())\n",
    "\n",
    "    n0, n1 = edges[0] #recupere arete \n",
    "    Pile.append([n0]) \n",
    "    Pile.append([n1]) \n",
    "    noeuds+=2\n",
    "    \n",
    "    while Pile :  \n",
    "        n = Pile.pop() \n",
    "        edges = list(RemoveL(G, n).edges()) \n",
    "        if edges :\n",
    "            n0, n1 = edges[0] \n",
    "            Pile.append(n+[n0]) \n",
    "            noeuds += 1 \n",
    "            Pile.append(n+[n1]) \n",
    "            noeuds += 1\n",
    "        else:\n",
    "            Cover.append(n)\n",
    "            \n",
    "    if time_ == True :     #Si on veut avoir le temps d'execution\n",
    "        if noeuds_ == True:    #Et le nombre de noeuds\n",
    "            return min(Cover, key = len), time.time() - t0, noeuds\n",
    "        return min(Cover, key = len), time.time() - t0\n",
    "    if noeuds_ == True:     #Que le nombre de noeuds \n",
    "        return min(Cover, key = len), noeuds\n",
    "    return min(Cover, key = len)"
   ]
  },
  {
   "cell_type": "code",
   "execution_count": 52,
   "metadata": {},
   "outputs": [
    {
     "data": {
      "text/plain": [
       "([2, 3], 0.0009942054748535156, 13)"
      ]
     },
     "execution_count": 52,
     "metadata": {},
     "output_type": "execute_result"
    }
   ],
   "source": [
    "BranchF(GT, time_=True, noeuds_=True)"
   ]
  },
  {
   "cell_type": "code",
   "execution_count": 53,
   "metadata": {},
   "outputs": [
    {
     "data": {
      "text/plain": [
       "([2, 3], 0.0006692409515380859, 13)"
      ]
     },
     "execution_count": 53,
     "metadata": {},
     "output_type": "execute_result"
    }
   ],
   "source": [
    "BranchS(GT, time_=True, noeuds_=True)"
   ]
  },
  {
   "cell_type": "code",
   "execution_count": 54,
   "metadata": {},
   "outputs": [
    {
     "name": "stdout",
     "output_type": "stream",
     "text": [
      "Le resultat est : ([2, 3], 1.0013580322265625e-05, 13)\n"
     ]
    }
   ],
   "source": [
    "Pile1 = []\n",
    "VC1 = []\n",
    "etape = 0\n",
    "Res1 = BranchRecursivite2(GT,GT, Pile1,VC1, time_ = True, noeuds_=True)\n",
    "print(\"Le resultat est :\", Res1)"
   ]
  },
  {
   "cell_type": "code",
   "execution_count": 55,
   "metadata": {},
   "outputs": [
    {
     "name": "stdout",
     "output_type": "stream",
     "text": [
      "Le resultat est : ([2, 3], 1.0013580322265625e-05, 13)\n"
     ]
    }
   ],
   "source": [
    "Pile2 = []\n",
    "VC2 = []\n",
    "Res2 = BranchRecusivite1(GT,GT, Pile1,VC2, time_ = True, noeuds_= True)\n",
    "print(\"Le resultat est :\", Res2)"
   ]
  },
  {
   "cell_type": "code",
   "execution_count": 56,
   "metadata": {},
   "outputs": [
    {
     "data": {
      "text/plain": [
       "([1, 3], 0.0005259513854980469, 11)"
      ]
     },
     "execution_count": 56,
     "metadata": {},
     "output_type": "execute_result"
    }
   ],
   "source": [
    "BranchS(G1, time_=True, noeuds_=True)"
   ]
  },
  {
   "cell_type": "code",
   "execution_count": 57,
   "metadata": {},
   "outputs": [
    {
     "data": {
      "text/plain": [
       "([1, 3], 0.0009949207305908203, 11)"
      ]
     },
     "execution_count": 57,
     "metadata": {},
     "output_type": "execute_result"
    }
   ],
   "source": [
    "BranchF(G1, time_=True, noeuds_=True)"
   ]
  },
  {
   "cell_type": "code",
   "execution_count": 58,
   "metadata": {},
   "outputs": [
    {
     "name": "stdout",
     "output_type": "stream",
     "text": [
      "Le resultat est : ([1, 3], 1.0013580322265625e-05, 11)\n"
     ]
    }
   ],
   "source": [
    "Pile1 = []\n",
    "VC1 = []\n",
    "Res1 = BranchRecursivite2(G1,G1, Pile1,VC1, time_ = True, noeuds_=True)\n",
    "print(\"Le resultat est :\", Res1)"
   ]
  },
  {
   "cell_type": "code",
   "execution_count": 59,
   "metadata": {},
   "outputs": [
    {
     "name": "stdout",
     "output_type": "stream",
     "text": [
      "Le resultat est : ([1, 3], 1.1920928955078125e-05, 11)\n"
     ]
    }
   ],
   "source": [
    "Pile2 = []\n",
    "VC2 = []\n",
    "Res2 = BranchRecusivite1(G1,G1, Pile1,VC2, time_ = True, noeuds_= True)\n",
    "print(\"Le resultat est :\", Res2)"
   ]
  },
  {
   "cell_type": "code",
   "execution_count": 60,
   "metadata": {},
   "outputs": [],
   "source": [
    "def Nmax_Branch(algo, proba = lambda i : 1./np.sqrt(i)):\n",
    "    \"\"\"\n",
    "    algo : function -> int\n",
    "    Mesure le nombre d'instances max pour lequel l’algorithme tourne rapidement\n",
    "    \"\"\"\n",
    "    #n_ = 0\n",
    "    #if type(proba)==int or type(proba)==float:\n",
    "    #    R = RandomG(n_, proba)\n",
    "    #else:\n",
    "    #    R = RandomG(n_, proba(n_))\n",
    "    #temps_algo = algo(R, time_ = True)\n",
    "    temps_algo = (0, 0)\n",
    "    n_ = 0\n",
    "    while(temps_algo[1] <= Tmax):    #Si le temps de de calcul <= Temps_max on continue\n",
    "        n_ += step_test   #On rajoute step_test sommets\n",
    "        if type(proba)==int or type(proba)==float:\n",
    "            R = RandomG(n_, proba)\n",
    "        else:\n",
    "            R = RandomG(n_, proba(n_))\n",
    "        temps_algo = algo(R, time_ = True)   #On calcul le nouveau temps de création d'un Graph random\n",
    "        #print(\"temps_algo  pour %d \"%n_,\" :\", temps_algo)\n",
    "    return n_-step_test    #Le nombre de sommets max pour lequel notre algo ne depasse pas Tmax secondes\n"
   ]
  },
  {
   "cell_type": "code",
   "execution_count": 61,
   "metadata": {},
   "outputs": [],
   "source": [
    "global Nmax_BF, Nmax_BS\n",
    "step_test=1"
   ]
  },
  {
   "cell_type": "code",
   "execution_count": 62,
   "metadata": {},
   "outputs": [
    {
     "name": "stdout",
     "output_type": "stream",
     "text": [
      "Le nombre maximal de noeuds pour notre algorithme BranchF :  13\n"
     ]
    }
   ],
   "source": [
    "Nmax_BF = Nmax_Branch(BranchF, proba = probaG)\n",
    "print(\"Le nombre maximal de noeuds pour notre algorithme BranchF : \", Nmax_BF)"
   ]
  },
  {
   "cell_type": "code",
   "execution_count": 63,
   "metadata": {},
   "outputs": [
    {
     "name": "stdout",
     "output_type": "stream",
     "text": [
      "Le nombre maximal de noeuds pour notre algorithme BranchS est :  14\n"
     ]
    }
   ],
   "source": [
    "Nmax_BS = Nmax_Branch(BranchS, proba = probaG)\n",
    "print(\"Le nombre maximal de noeuds pour notre algorithme BranchS est : \", Nmax_BS)"
   ]
  },
  {
   "cell_type": "code",
   "execution_count": 64,
   "metadata": {},
   "outputs": [],
   "source": [
    "def testAlgo_timeBranch(algo, Nmax):\n",
    "    \"\"\"\n",
    "    algo1 & algo2 : function, Nmax1 & Nmax2 : int -> list(float), list(float)\n",
    "    \"\"\"\n",
    "    i_ = 10\n",
    "    N_  = np.linspace(Nmax/10,Nmax,10)\n",
    "    T_algo = []\n",
    "    for n in N_:\n",
    "        m = np.mean([algo(RandomG(ceil(n), probaG), time_ = True)[1] for i in range(i_)])\n",
    "        T_algo.append(m)\n",
    "    \n",
    "    return T_algo, N_"
   ]
  },
  {
   "cell_type": "code",
   "execution_count": 65,
   "metadata": {},
   "outputs": [],
   "source": [
    "T_BF, N_BF = testAlgo_timeBranch(BranchF, Nmax_BF)"
   ]
  },
  {
   "cell_type": "code",
   "execution_count": 66,
   "metadata": {},
   "outputs": [],
   "source": [
    "T_BS, N_BS = testAlgo_timeBranch(BranchS, Nmax_BS)"
   ]
  },
  {
   "cell_type": "code",
   "execution_count": 67,
   "metadata": {},
   "outputs": [
    {
     "data": {
      "image/png": "[encoded data removed]",
      "text/plain": [
       "<Figure size 432x288 with 1 Axes>"
      ]
     },
     "metadata": {
      "needs_background": "light"
     },
     "output_type": "display_data"
    }
   ],
   "source": [
    "plt.figure(5)\n",
    "plt.plot(N_BS, np.log(T_BS))\n",
    "plt.plot(N_BF, np.log(T_BF))\n",
    "#plt.plot(N_BS, np.log(np.exp(N_BS)) -11)\n",
    "#plt.axis([0,2500, -3.5, 1.5])\n",
    "plt.title(\"Temps de calcul BranchF et BranchS\")\n",
    "plt.ylabel(\"Temps moyen de l'lagorithme\")\n",
    "plt.xlabel(\"Nombre de noeuds\")\n",
    "plt.legend((\"BranchS\",\"BranchF\"))\n",
    "plt.show()"
   ]
  },
  {
   "cell_type": "code",
   "execution_count": 68,
   "metadata": {},
   "outputs": [
    {
     "data": {
      "text/plain": [
       "[1, 2, 3, 4]"
      ]
     },
     "execution_count": 68,
     "metadata": {},
     "output_type": "execute_result"
    }
   ],
   "source": [
    "algo_couplage(GT)"
   ]
  },
  {
   "cell_type": "markdown",
   "metadata": {},
   "source": [
    "Donc algo polynomiale"
   ]
  },
  {
   "cell_type": "code",
   "execution_count": 69,
   "metadata": {},
   "outputs": [],
   "source": [
    "def testAlgo_probaBranch(algo, Nmax):\n",
    "    \"\"\"\n",
    "    algo1 & algo2 : function, Nmax1 & Nmax2 : int -> list(float), list(float)\n",
    "    \"\"\"\n",
    "    i_ = 10\n",
    "    P  = np.linspace(0,1,11)\n",
    "    P_algo = []\n",
    "    for p in P:\n",
    "        R = RandomG(Nmax, p)\n",
    "        m = np.mean([algo(RandomG(Nmax, p), time_ = True)[1] for i in range(i_)])\n",
    "        print(\"m :\",m)\n",
    "        P_algo.append(m)\n",
    "    \n",
    "    return P_algo, P"
   ]
  },
  {
   "cell_type": "code",
   "execution_count": 70,
   "metadata": {},
   "outputs": [],
   "source": [
    "def testAlgo_noeudsBranch(algo, Nmax, proba = lambda i : 1./np.sqrt(i)):\n",
    "    \"\"\"\n",
    "    algo1 & algo2 : function, Nmax1 & Nmax2 : int -> list(float), list(float)\n",
    "    \"\"\"\n",
    "    i_ = 10\n",
    "    N_  = np.linspace(Nmax/10,Nmax,10)\n",
    "    N_algo = []\n",
    "    for n in N_:\n",
    "        if type(proba)==int or type(proba)==float:\n",
    "            m = np.mean([algo(RandomG(ceil(n), proba), noeuds_ = True)[1] for i in range(i_)])\n",
    "        else:\n",
    "            m = np.mean([algo(RandomG(ceil(n), proba(ceil(n))), noeuds_ = True)[1] for i in range(i_)])\n",
    "        N_algo.append(m)\n",
    "    \n",
    "    return N_algo, N_"
   ]
  },
  {
   "cell_type": "code",
   "execution_count": 71,
   "metadata": {},
   "outputs": [
    {
     "name": "stdout",
     "output_type": "stream",
     "text": [
      "m : 1.0776519775390626e-05\n",
      "m : 0.00913379192352295\n",
      "m : 0.07329192161560058\n",
      "m : 0.11031613349914551\n",
      "m : 0.38660316467285155\n",
      "m : 0.6232511043548584\n",
      "m : 0.6999767541885376\n",
      "m : 1.114453673362732\n",
      "m : 1.5873030185699464\n",
      "m : 1.8183264970779418\n",
      "m : 2.2579010009765623\n"
     ]
    }
   ],
   "source": [
    "P_BF, P_ = testAlgo_probaBranch(BranchF, Nmax_BF)"
   ]
  },
  {
   "cell_type": "code",
   "execution_count": 72,
   "metadata": {},
   "outputs": [
    {
     "name": "stdout",
     "output_type": "stream",
     "text": [
      "m : 1.5950202941894533e-05\n",
      "m : 0.010212302207946777\n",
      "m : 0.043635892868041995\n",
      "m : 0.2936662197113037\n",
      "m : 0.4811985492706299\n",
      "m : 0.8820315361022949\n",
      "m : 1.276063084602356\n",
      "m : 1.8603901386260986\n",
      "m : 2.2951352834701537\n",
      "m : 3.026786756515503\n",
      "m : 3.4721729040145872\n"
     ]
    }
   ],
   "source": [
    "P_BS, P_ = testAlgo_probaBranch(BranchS, Nmax_BS)"
   ]
  },
  {
   "cell_type": "code",
   "execution_count": 73,
   "metadata": {},
   "outputs": [
    {
     "data": {
      "image/png": "[encoded data removed]",
      "text/plain": [
       "<Figure size 432x288 with 1 Axes>"
      ]
     },
     "metadata": {
      "needs_background": "light"
     },
     "output_type": "display_data"
    }
   ],
   "source": [
    "plt.figure(6)\n",
    "plt.plot(P_, np.log(P_BS))\n",
    "plt.plot(P_, np.log(P_BF))\n",
    "#plt.plot(N_BS, np.log(np.exp(N_BS)) -11)\n",
    "#plt.axis([0,2500, -3.5, 1.5])\n",
    "plt.title(\"Temps de calcul BranchF et BranchS selon proba. pour $N_{max}$ noeuds\")\n",
    "plt.ylabel(\"Log(Temps moyen de l'lagorithme)\")\n",
    "plt.xlabel(\"Probabilite\")\n",
    "plt.legend((\"BranchS\",\"BranchF\"))\n",
    "plt.show()\n",
    "plt.show()"
   ]
  },
  {
   "cell_type": "code",
   "execution_count": 74,
   "metadata": {},
   "outputs": [],
   "source": [
    "NodesS, N_NBS = testAlgo_noeudsBranch(BranchS, Nmax_BS, proba = probaG)"
   ]
  },
  {
   "cell_type": "code",
   "execution_count": 75,
   "metadata": {},
   "outputs": [],
   "source": [
    "NodesF, N_NBF = testAlgo_noeudsBranch(BranchF, Nmax_BF, proba = probaG)"
   ]
  },
  {
   "cell_type": "code",
   "execution_count": 76,
   "metadata": {},
   "outputs": [
    {
     "data": {
      "image/png": "[encoded data removed]",
      "text/plain": [
       "<Figure size 432x288 with 1 Axes>"
      ]
     },
     "metadata": {
      "needs_background": "light"
     },
     "output_type": "display_data"
    }
   ],
   "source": [
    "plt.figure(7)\n",
    "plt.plot(N_NBS, NodesS)\n",
    "plt.plot(N_NBF, NodesF)\n",
    "#plt.plot(N_BS, np.log(np.exp(N_BS)) -11)\n",
    "#plt.axis([0,2500, -3.5, 1.5])\n",
    "plt.title(\"Nombre de noeuds moyen BranchF et BranchS\")\n",
    "plt.ylabel(\"Nombre de noeuds branching\")\n",
    "plt.xlabel(\"Nombre de sommets\")\n",
    "plt.legend((\"BranchS\",\"BranchF\"))\n",
    "plt.show()"
   ]
  },
  {
   "cell_type": "markdown",
   "metadata": {},
   "source": [
    "###  4.2 Ajout de bornes :"
   ]
  },
  {
   "cell_type": "code",
   "execution_count": 77,
   "metadata": {},
   "outputs": [],
   "source": [
    "Break = RandomG(13, 1/sqrt(13))"
   ]
  },
  {
   "cell_type": "code",
   "execution_count": 78,
   "metadata": {},
   "outputs": [
    {
     "data": {
      "image/png": "[encoded data removed]",
      "text/plain": [
       "<Figure size 432x288 with 1 Axes>"
      ]
     },
     "metadata": {},
     "output_type": "display_data"
    }
   ],
   "source": [
    "nx.draw(Break, with_labels=True)"
   ]
  },
  {
   "cell_type": "code",
   "execution_count": 79,
   "metadata": {},
   "outputs": [
    {
     "data": {
      "text/plain": [
       "[1, 6, 11, 9, 7, 5, 4]"
      ]
     },
     "execution_count": 79,
     "metadata": {},
     "output_type": "execute_result"
    }
   ],
   "source": [
    "[1, 6, 11, 9, 7, 5, 4]"
   ]
  },
  {
   "cell_type": "code",
   "execution_count": 80,
   "metadata": {},
   "outputs": [],
   "source": [
    "BreakBranchF = BranchF(Break, time_ = True, noeuds_=True)"
   ]
  },
  {
   "cell_type": "code",
   "execution_count": 81,
   "metadata": {},
   "outputs": [
    {
     "data": {
      "text/plain": [
       "([2, 0, 10, 11, 5, 9, 8], 0.12183380126953125, 939)"
      ]
     },
     "execution_count": 81,
     "metadata": {},
     "output_type": "execute_result"
    }
   ],
   "source": [
    "BreakBranchF"
   ]
  },
  {
   "cell_type": "code",
   "execution_count": 82,
   "metadata": {},
   "outputs": [],
   "source": [
    "BreakBranchS = BranchS(Break, time_ = True, noeuds_=True)"
   ]
  },
  {
   "cell_type": "code",
   "execution_count": 83,
   "metadata": {},
   "outputs": [
    {
     "data": {
      "text/plain": [
       "([2, 0, 10, 11, 5, 9, 8], 0.08023667335510254, 939)"
      ]
     },
     "execution_count": 83,
     "metadata": {},
     "output_type": "execute_result"
    }
   ],
   "source": [
    "BreakBranchS"
   ]
  },
  {
   "cell_type": "code",
   "execution_count": 84,
   "metadata": {},
   "outputs": [],
   "source": [
    "def bound(G):\n",
    "    \"\"\"\n",
    "    \n",
    "    \"\"\"\n",
    "    M = algo_couplage(G)\n",
    "    m = len(G.edges())\n",
    "    n = len(G.nodes()) \n",
    "    b3 = (2*n-1-np.sqrt(np.power(2*n-1, 2)-8*m))/2\n",
    "    if DegreM(G)[1] == 0:\n",
    "        return b3\n",
    "    \n",
    "    b1 = ceil(m/ DegreM(G)[1])\n",
    "    b2 = len(M)/2   #car arretes et pas sommets\n",
    "    return max(b1, b2, b3)\n",
    "\n",
    "\n",
    "def BranchBound(G, time_ = False, noeuds_ = False): \n",
    "    \"\"\"\n",
    "    \n",
    "    \"\"\"\n",
    "    global b_max\n",
    "    t0 = time.time()\n",
    "    \n",
    "    if list(G.edges()) == []: \n",
    "        if time_ == True :     #Si on veut avoir le temps d'execution\n",
    "            if noeuds_ == True:    #Et le nombre de noeuds\n",
    "                return [], time.time() - t0, 0\n",
    "            return [], time.time() - t0\n",
    "        if noeuds_ == True:     #Que le nombre de noeuds \n",
    "            return [], 0\n",
    "        return [] \n",
    "    noeuds = 1 \n",
    "    Pile = []\n",
    "    Cover = [] \n",
    "     \n",
    "    b_ = bound(G)\n",
    "    #print(b_)\n",
    "    edges = list(G.edges())\n",
    "\n",
    "    n0, n1 = edges[0] #recupere arete \n",
    "    Pile.append([n0]) \n",
    "    Pile.append([n1]) \n",
    "    noeuds+=2\n",
    "    #print(\"Pile debut :\", Pile)\n",
    "     \n",
    "    while Pile :\n",
    "        #print(\"-----------Etape %d\"%noeuds,\"-----------\")\n",
    "        n = Pile.pop() \n",
    "        #print(\"n while :\", n)\n",
    "        edges = list(RemoveL(G, n).edges()) \n",
    "        b_ = bound(RemoveL(G, n))\n",
    "        #print(\"b_ a jour\", bound(RemoveL(G, n)))\n",
    "        #print(\"edges : \", edges)\n",
    "        if edges: \n",
    "            n0, n1 = edges[0] \n",
    "            sol_couplage = algo_couplage(RemoveL(G,n0)) \n",
    "            #print(\"sol couplage1 : \", len(sol_couplage)/2)\n",
    "            if len(Cover) < b_ or len(n)+b_<len(Cover): \n",
    "                Pile.append(n+[n0]) \n",
    "                noeuds += 1\n",
    "  \n",
    "            sol_couplage = algo_couplage(RemoveL(G,n1))\n",
    "            #print(\"sol couplage2 : \", len(sol_couplage)/2)\n",
    "            if len(Cover) < b_ or len(n)+b_<len(Cover) : \n",
    "                Pile.append(n+[n1]) \n",
    "                noeuds += 1\n",
    "        elif Cover == [] or len(n) < len(Cover): #plus d'arete \n",
    "            Cover = n \n",
    "            #print(\"Cover elif : \", Cover)\n",
    "        #print(\"Cover : \", Cover)\n",
    "        \n",
    "    if time_ == True :     #Si on veut avoir le temps d'execution\n",
    "        if noeuds_ == True:    #Et le nombre de noeuds\n",
    "            return Cover, time.time() - t0, noeuds\n",
    "        return Cover, time.time() - t0\n",
    "    if noeuds_ == True:     #Que le nombre de noeuds \n",
    "        return Cover, noeuds\n",
    "    return Cover"
   ]
  },
  {
   "cell_type": "code",
   "execution_count": 85,
   "metadata": {},
   "outputs": [
    {
     "data": {
      "image/png": "[encoded data removed]",
      "text/plain": [
       "<Figure size 432x288 with 1 Axes>"
      ]
     },
     "metadata": {},
     "output_type": "display_data"
    }
   ],
   "source": [
    "Dep = nx.Graph()\n",
    "#Première façon de créer un graphe \n",
    "Dep.add_nodes_from(range(1,7))    #On rajoute les noeuds\n",
    "Dep.add_edges_from([(1,2),(1,4), (2,3), (2,4),(2,5),(3,5), (4,6), (4,5),(5,6)])    #On rajoute les arêtes\n",
    "nx.draw(Dep, with_labels=True)    #On affiche notre graphe"
   ]
  },
  {
   "cell_type": "code",
   "execution_count": 86,
   "metadata": {},
   "outputs": [],
   "source": [
    "global Nmax_BBound, Nmax_BBoundd, Nmax_BBounds\n",
    "step_test = 1"
   ]
  },
  {
   "cell_type": "code",
   "execution_count": 87,
   "metadata": {},
   "outputs": [],
   "source": [
    "Nmax_BBound = Nmax_Branch(BranchBound, proba = probaG)"
   ]
  },
  {
   "cell_type": "code",
   "execution_count": 88,
   "metadata": {},
   "outputs": [
    {
     "name": "stdout",
     "output_type": "stream",
     "text": [
      "Le nombre maximal de noeuds pour notre algorithme BranchBound est de :  76\n"
     ]
    }
   ],
   "source": [
    "print(\"Le nombre maximal de noeuds pour notre algorithme BranchBound est de : \", Nmax_BBound)"
   ]
  },
  {
   "cell_type": "code",
   "execution_count": 89,
   "metadata": {},
   "outputs": [],
   "source": [
    "Nmax_BBoundd = Nmax_Branch(BranchBound, proba = .1)"
   ]
  },
  {
   "cell_type": "code",
   "execution_count": 90,
   "metadata": {},
   "outputs": [
    {
     "name": "stdout",
     "output_type": "stream",
     "text": [
      "Le nombre maximal de noeuds pour notre algorithme BranchBound est de :  38\n"
     ]
    }
   ],
   "source": [
    "print(\"Le nombre maximal de noeuds pour notre algorithme BranchBound est de : \", Nmax_BBoundd)"
   ]
  },
  {
   "cell_type": "code",
   "execution_count": 91,
   "metadata": {},
   "outputs": [],
   "source": [
    "Nmax_BBounds = Nmax_Branch(BranchBound)"
   ]
  },
  {
   "cell_type": "code",
   "execution_count": 92,
   "metadata": {},
   "outputs": [
    {
     "name": "stdout",
     "output_type": "stream",
     "text": [
      "Le nombre maximal de noeuds pour notre algorithme BranchBound est de :  28\n"
     ]
    }
   ],
   "source": [
    "print(\"Le nombre maximal de noeuds pour notre algorithme BranchBound est de : \", Nmax_BBounds)"
   ]
  },
  {
   "cell_type": "code",
   "execution_count": 93,
   "metadata": {},
   "outputs": [],
   "source": [
    "def testAlgo_timeBranch2(algo, Nmax, proba = lambda i : 1./np.sqrt(i)):\n",
    "    \"\"\"\n",
    "    algo1 & algo2 : function, Nmax1 & Nmax2 : int -> list(float), list(float)\n",
    "    \"\"\"\n",
    "    i_ = 10\n",
    "    N_  = np.linspace(Nmax/10,Nmax,10)\n",
    "    T_algo = []\n",
    "    for n in N_:\n",
    "        if type(proba)==int or type(proba)==float:\n",
    "            m = np.mean([algo(RandomG(ceil(n), proba), time_ = True)[1] for i in range(i_)])\n",
    "        else:\n",
    "            m = np.mean([algo(RandomG(ceil(n), proba(n)), time_ = True)[1] for i in range(i_)])\n",
    "        T_algo.append(m)\n",
    "    \n",
    "    return T_algo, N_"
   ]
  },
  {
   "cell_type": "code",
   "execution_count": 94,
   "metadata": {},
   "outputs": [],
   "source": [
    "T_BB, N_BB = testAlgo_timeBranch2(BranchBound, Nmax_BBound, proba=probaG)"
   ]
  },
  {
   "cell_type": "code",
   "execution_count": 95,
   "metadata": {},
   "outputs": [],
   "source": [
    "T_BBd, N_BBd = testAlgo_timeBranch2(BranchBound, Nmax_BBoundd, proba=.1)"
   ]
  },
  {
   "cell_type": "code",
   "execution_count": 96,
   "metadata": {},
   "outputs": [],
   "source": [
    "T_BBs, N_BBs = testAlgo_timeBranch2(BranchBound, Nmax_BBounds)"
   ]
  },
  {
   "cell_type": "code",
   "execution_count": 97,
   "metadata": {},
   "outputs": [
    {
     "data": {
      "image/png": "[encoded data removed]",
      "text/plain": [
       "<Figure size 432x288 with 1 Axes>"
      ]
     },
     "metadata": {
      "needs_background": "light"
     },
     "output_type": "display_data"
    }
   ],
   "source": [
    "plt.figure(8)\n",
    "plt.plot(N_BB, T_BB)\n",
    "#plt.plot(N_BS, np.log(np.exp(N_BS)) -11)\n",
    "#plt.axis([0,2500, -3.5, 1.5])\n",
    "plt.title(\"Temps de calcul BranchBound pour $p$ = 1\")\n",
    "plt.ylabel(\"Temps moyen de l'lagorithme\")\n",
    "plt.xlabel(\"Nombre de noeuds\")\n",
    "plt.show()"
   ]
  },
  {
   "cell_type": "code",
   "execution_count": 98,
   "metadata": {},
   "outputs": [
    {
     "data": {
      "image/png": "[encoded data removed]",
      "text/plain": [
       "<Figure size 432x288 with 1 Axes>"
      ]
     },
     "metadata": {
      "needs_background": "light"
     },
     "output_type": "display_data"
    }
   ],
   "source": [
    "plt.figure(9)\n",
    "plt.plot(N_BBd, T_BBd)\n",
    "#plt.plot(N_BS, np.log(np.exp(N_BS)) -11)\n",
    "#plt.axis([0,2500, -3.5, 1.5])\n",
    "plt.title(\"Temps de calcul BranchBound pour $p$ = 0.1\")\n",
    "plt.ylabel(\"Temps moyen de l'lagorithme\")\n",
    "plt.xlabel(\"Nombre de noeuds\")\n",
    "plt.show()"
   ]
  },
  {
   "cell_type": "code",
   "execution_count": 99,
   "metadata": {},
   "outputs": [
    {
     "data": {
      "image/png": "[encoded data removed]",
      "text/plain": [
       "<Figure size 432x288 with 1 Axes>"
      ]
     },
     "metadata": {
      "needs_background": "light"
     },
     "output_type": "display_data"
    }
   ],
   "source": [
    "plt.figure(10)\n",
    "plt.plot(N_BBs, T_BBs)\n",
    "#plt.plot(N_BS, np.log(np.exp(N_BS)) -11)\n",
    "#plt.axis([0,2500, -3.5, 1.5])\n",
    "plt.title(\"Temps de calcul BranchBound pour $p$ = 1/sqrt($n$)\")\n",
    "plt.ylabel(\"Temps moyen de l'lagorithme\")\n",
    "plt.xlabel(\"Nombre de noeuds\")\n",
    "plt.show()"
   ]
  },
  {
   "cell_type": "code",
   "execution_count": 100,
   "metadata": {},
   "outputs": [
    {
     "data": {
      "image/png": "[encoded data removed]",
      "text/plain": [
       "<Figure size 432x288 with 1 Axes>"
      ]
     },
     "metadata": {
      "needs_background": "light"
     },
     "output_type": "display_data"
    }
   ],
   "source": [
    "plt.figure(11)\n",
    "#plt.plot(N_BB, np.log(T_BB))\n",
    "plt.plot(N_BBd, np.log(T_BBd))\n",
    "plt.plot(N_BBs, np.log(T_BBs))\n",
    "#plt.plot(N_BS, np.log(np.exp(N_BS)) -11)\n",
    "#plt.axis([0,2500, -3.5, 1.5])\n",
    "plt.title(\"Temps de calcul BranchBound selon $n$ et $p$\")\n",
    "plt.ylabel(\"Log(Temps moyen de l'lagorithme)\")\n",
    "plt.xlabel(\"Nombre de noeuds\")\n",
    "plt.legend((\"p = 1\",\"p = .1\", \"p = 1/sqrt(n)\"))\n",
    "plt.show()"
   ]
  },
  {
   "cell_type": "code",
   "execution_count": 101,
   "metadata": {},
   "outputs": [
    {
     "name": "stdout",
     "output_type": "stream",
     "text": [
      "m : 1.3303756713867187e-05\n",
      "m : 0.006423807144165039\n",
      "m : 0.02040712833404541\n",
      "m : 0.036342954635620116\n",
      "m : 0.1748232364654541\n",
      "m : 0.38308279514312743\n",
      "m : 0.6324773311614991\n",
      "m : 0.8931747913360596\n",
      "m : 2.544847011566162\n",
      "m : 1.791404366493225\n",
      "m : 0.03675539493560791\n"
     ]
    }
   ],
   "source": [
    "P_BB, P_ = testAlgo_probaBranch(BranchBound, 16)"
   ]
  },
  {
   "cell_type": "code",
   "execution_count": 102,
   "metadata": {},
   "outputs": [
    {
     "data": {
      "image/png": "[encoded data removed]",
      "text/plain": [
       "<Figure size 432x288 with 1 Axes>"
      ]
     },
     "metadata": {
      "needs_background": "light"
     },
     "output_type": "display_data"
    }
   ],
   "source": [
    "plt.figure(12)\n",
    "plt.plot(P_, P_BB)\n",
    "#plt.plot(N_BS, np.log(np.exp(N_BS)) -11)\n",
    "#plt.axis([0,2500, -3.5, 1.5])\n",
    "plt.title(\"Temps de calcul BranchBound selon la probabilité $N_{max}$=16 noeuds\")\n",
    "plt.ylabel(\"Temps moyen de l'lagorithme\")\n",
    "plt.xlabel(\"Probabilite\")\n",
    "plt.show()"
   ]
  },
  {
   "cell_type": "markdown",
   "metadata": {},
   "source": [
    "###  4.3 Amélioration du branchement :"
   ]
  },
  {
   "cell_type": "markdown",
   "metadata": {},
   "source": [
    "On pourrait implémenter les noeuds de la même manière que précédement et même si cette méthode est plus rapide  le problème est qu'a chaque fois on doit recalculer `RemoveL(G, r)`, ce qui est assez coûteux. Un simple changement d'implémentation nous permet de gagner du temps. Au lieu d'avoir comme noeuds juste le sommet courant on rajoute simplement le graphe engendré. Ce petit coût mémoire nous permet en fin de compte de gagner pas mal de temps sur un nombre important de sommets et sera util par la suite du projet."
   ]
  },
  {
   "cell_type": "code",
   "execution_count": 103,
   "metadata": {},
   "outputs": [],
   "source": [
    "def BranchBoundU(G, time_ = False, noeuds_ =False): \n",
    "    \"\"\"\n",
    "    \n",
    "    \"\"\"\n",
    "    t0 = time.time()\n",
    "\n",
    "    if list(G.edges()) == []: \n",
    "        if time_ == True :     #Si on veut avoir le temps d'execution\n",
    "            if noeuds_ == True:    #Et le nombre de noeuds\n",
    "                return [], time.time() - t0, 0\n",
    "            return [], time.time() - t0\n",
    "        if noeuds_ == True:     #Que le nombre de noeuds \n",
    "            return [], 0\n",
    "        return [] \n",
    "        \n",
    "    noeuds = 1\n",
    "    Pile = [] \n",
    "    Cover = [] \n",
    "    b_ = bound(G) \n",
    "    edges = list(G.edges())\n",
    "    \n",
    "    n0, n1 = edges[0] #recupere arete \n",
    "    #print(\"n0 :\", n0 )\n",
    "    #print(\"nv :\", n1)\n",
    "    G1 = nx.Graph.copy(G)\n",
    "    G2 = nx.Graph.copy(G)\n",
    "    G1 = RemoveL(G1,list(G[n1]))\n",
    "    G1=Remove(G1, n1)\n",
    "    G2 = RemoveL(G2,n1 ) \n",
    "    Pile.append((list(G[n1]), G1)) \n",
    "    Pile.append(([n1], G2) )\n",
    "    noeuds += 2\n",
    "    #print(\"Pile debut :\", Pile)\n",
    "    \n",
    "    while Pile :  \n",
    "        n, Gt = Pile.pop() \n",
    "        edges = list(Gt.edges()) \n",
    "        b_ = bound(Gt) \n",
    "        #print(\"edges : \", edges)\n",
    "        if edges: \n",
    "            n0, n1 = edges[0] \n",
    "             \n",
    "            G1 = nx.Graph.copy(Gt) \n",
    "            G2 = nx.Graph.copy(Gt) \n",
    "            G1 = RemoveL(G1, list(Gt[n1])) \n",
    "            G1 = Remove(G1, n1)\n",
    "            G2 = RemoveL(G2, n1) \n",
    "             \n",
    "            sol_couplage = algo_couplage(G1) \n",
    "            if len(Cover) < b_ or (len(n) + b_ < len(Cover)): \n",
    "                #print(\"noeuds 1 = \",(n+list(Gt[n1]), G1) )\n",
    "                Pile.append((n+list(Gt[n1]), G1)) \n",
    "                noeuds+=1\n",
    " \n",
    "            sol_couplage = algo_couplage(G2) \n",
    "            if len(Cover) < b_ or (len(n) + b_ < len(Cover)) : \n",
    "                #print(\"noeuds 1 = \",(n+[n1], G2) )\n",
    "                Pile.append((n+[n1], G2)) \n",
    "                noeuds+=1\n",
    "            #print(\"Pile wile : \", Pile)\n",
    "        elif Cover == [] or len(n) < len(Cover): #plus d'arete \n",
    "            Cover = n \n",
    "            #print(\"Cover elif : \", Cover)\n",
    "        #print(\"Cover : \", Cover)\n",
    "        \n",
    "    if time_ == True :     #Si on veut avoir le temps d'execution\n",
    "        if noeuds_ == True:    #Et le nombre de noeuds\n",
    "            return Cover, time.time()-t0, noeuds\n",
    "        return Cover, time.time()-t0\n",
    "    if noeuds_ == True:     #Que le nombre de noeuds \n",
    "        return Cover, noeuds\n",
    "    return Cover"
   ]
  },
  {
   "cell_type": "code",
   "execution_count": 104,
   "metadata": {},
   "outputs": [],
   "source": [
    "global Nmax_BBoundU, Nmax_BBoundUd, Nmax_BBoundUds\n",
    "step_test = 1"
   ]
  },
  {
   "cell_type": "code",
   "execution_count": 105,
   "metadata": {},
   "outputs": [],
   "source": [
    "Nmax_BBoundU = Nmax_Branch(BranchBoundU, proba = probaG)"
   ]
  },
  {
   "cell_type": "code",
   "execution_count": 106,
   "metadata": {},
   "outputs": [
    {
     "name": "stdout",
     "output_type": "stream",
     "text": [
      "Le nombre maximal de noeuds pour BranchBoundU avec p = 1 est de :  134\n"
     ]
    }
   ],
   "source": [
    "print(\"Le nombre maximal de noeuds pour BranchBoundU avec p = 1 est de : \", Nmax_BBoundU)"
   ]
  },
  {
   "cell_type": "code",
   "execution_count": 107,
   "metadata": {},
   "outputs": [],
   "source": [
    "Nmax_BBoundUd = Nmax_Branch(BranchBoundU, proba = .1)"
   ]
  },
  {
   "cell_type": "code",
   "execution_count": 108,
   "metadata": {},
   "outputs": [
    {
     "name": "stdout",
     "output_type": "stream",
     "text": [
      "Le nombre maximal de noeuds pour BranchBoundU avec p = .1 est de :  53\n"
     ]
    }
   ],
   "source": [
    "print(\"Le nombre maximal de noeuds pour BranchBoundU avec p = .1 est de : \", Nmax_BBoundUd)"
   ]
  },
  {
   "cell_type": "code",
   "execution_count": 109,
   "metadata": {},
   "outputs": [],
   "source": [
    "Nmax_BBoundUs = Nmax_Branch(BranchBoundU)"
   ]
  },
  {
   "cell_type": "code",
   "execution_count": 110,
   "metadata": {},
   "outputs": [
    {
     "name": "stdout",
     "output_type": "stream",
     "text": [
      "Le nombre maximal de noeuds pour BranchBoundU avec p = 1/sqrt(n) est de :  57\n"
     ]
    }
   ],
   "source": [
    "print(\"Le nombre maximal de noeuds pour BranchBoundU avec p = 1/sqrt(n) est de : \", Nmax_BBoundUs)"
   ]
  },
  {
   "cell_type": "code",
   "execution_count": 111,
   "metadata": {},
   "outputs": [],
   "source": [
    "def BranchBoundMax(G, time_ = False, noeuds_ =False): \n",
    "    t0 = time.time()\n",
    "    \n",
    "    if list(G.edges()) == []: \n",
    "        if time_ == True :     #Si on veut avoir le temps d'execution\n",
    "            if noeuds_ == True:    #Et le nombre de noeuds\n",
    "                return [], time.time() - t0, 0\n",
    "            return [], time.time() - t0\n",
    "        if noeuds_ == True:     #Que le nombre de noeuds \n",
    "            return [], 0\n",
    "        return [] \n",
    "        \n",
    "    noeuds = 1\n",
    "    Pile = list() \n",
    "    Cover = [] \n",
    "    borne_inf = bound(G) \n",
    "    n1 = DegreM(G)[0]\n",
    "    n0 = list(G[n1])[0]\n",
    "    #print(\"n0 :\", n0)\n",
    "    #print(\"n1 :\", n1)\n",
    "    G1 = nx.Graph.copy(G)\n",
    "    G2 = nx.Graph.copy(G)\n",
    "    G1 = RemoveL(G1,list(G[n1]))\n",
    "    G1 = Remove(G1, n1)\n",
    "    G2 = RemoveL(G2, n1) \n",
    "    Pile.append((list(G[n1]), G1)) \n",
    "    Pile.append(([n1], G2) )\n",
    "    noeuds+=2\n",
    "    #print(\"Pile debut :\", Pile)\n",
    "    \n",
    "    while Pile :  \n",
    "        n, Gt = Pile.pop() \n",
    "        edges = list(Gt.edges()) \n",
    "        #print(\"edges : \", edges)\n",
    "        \n",
    "        if edges: \n",
    "            n1 = DegreM(Gt)[0]\n",
    "            n0 = list(Gt[n1])[0]\n",
    "            G1 = nx.Graph.copy(Gt) \n",
    "            G2 = nx.Graph.copy(Gt) \n",
    "            G1 = RemoveL(G1, list(Gt[n1])) \n",
    "            G1 = Remove(G1, n1)\n",
    "            G2 = RemoveL(G2, n1) \n",
    "             \n",
    "            sol_couplage = algo_couplage(G1) \n",
    "            if len(Cover) < borne_inf: \n",
    "                #print(\"noeuds 1 = \",(n+list(Gt[n1]), G1) )\n",
    "                Pile.append((n+list(Gt[n1]), G1)) \n",
    "                noeuds+=1\n",
    " \n",
    "            sol_couplage = algo_couplage(G2) \n",
    "            if len(Cover) < borne_inf: \n",
    "                #print(\"noeuds 1 = \",(n+[n1], G2) )\n",
    "                Pile.append((n+[n1], G2)) \n",
    "                noeuds+=1\n",
    "            #print(\"Pile wile : \", Pile)\n",
    "        elif Cover == [] or len(n) < len(Cover): #plus d'arete \n",
    "            Cover = n \n",
    "            #print(\"Cover elif : \", Cover)\n",
    "        #print(\"Cover : \", Cover)\n",
    "        \n",
    "    if time_ == True :     #Si on veut avoir le temps d'execution\n",
    "        if noeuds_ == True:    #Et le nombre de noeuds\n",
    "            return Cover, time.time() - t0, noeuds\n",
    "        return Cover, time.time() - t0\n",
    "    if noeuds_ == True:     #Que le nombre de noeuds \n",
    "        return Cover, noeuds\n",
    "    return Cover"
   ]
  },
  {
   "cell_type": "code",
   "execution_count": 112,
   "metadata": {},
   "outputs": [],
   "source": [
    "global Nmax_BBoundMax, Nmax_BBoundMaxd, Nmax_BBoundMaxs\n",
    "step_test = 1"
   ]
  },
  {
   "cell_type": "code",
   "execution_count": 113,
   "metadata": {},
   "outputs": [],
   "source": [
    "Nmax_BBoundMax = Nmax_Branch(BranchBoundMax, proba = probaG)"
   ]
  },
  {
   "cell_type": "code",
   "execution_count": 114,
   "metadata": {},
   "outputs": [
    {
     "name": "stdout",
     "output_type": "stream",
     "text": [
      "Le nombre maximal de noeuds pour BranchBoundMax avec p = 1 est :  130\n"
     ]
    }
   ],
   "source": [
    "print(\"Le nombre maximal de noeuds pour BranchBoundMax avec p = 1 est : \", Nmax_BBoundMax)"
   ]
  },
  {
   "cell_type": "code",
   "execution_count": 115,
   "metadata": {},
   "outputs": [],
   "source": [
    "Nmax_BBoundMaxd = Nmax_Branch(BranchBoundMax, proba = .1)"
   ]
  },
  {
   "cell_type": "code",
   "execution_count": 116,
   "metadata": {},
   "outputs": [
    {
     "name": "stdout",
     "output_type": "stream",
     "text": [
      "Le nombre maximal de noeuds pour BranchBoundMax avec p = .1 est :  219\n"
     ]
    }
   ],
   "source": [
    "print(\"Le nombre maximal de noeuds pour BranchBoundMax avec p = .1 est : \", Nmax_BBoundMaxd)"
   ]
  },
  {
   "cell_type": "code",
   "execution_count": 117,
   "metadata": {},
   "outputs": [],
   "source": [
    "Nmax_BBoundMaxs = Nmax_Branch(BranchBoundMax)"
   ]
  },
  {
   "cell_type": "code",
   "execution_count": 118,
   "metadata": {},
   "outputs": [
    {
     "name": "stdout",
     "output_type": "stream",
     "text": [
      "Le nombre maximal de noeuds pour BranchBoundMax avec p = 1/sqrt(n) est :  255\n"
     ]
    }
   ],
   "source": [
    "print(\"Le nombre maximal de noeuds pour BranchBoundMax avec p = 1/sqrt(n) est : \", Nmax_BBoundMaxs)"
   ]
  },
  {
   "cell_type": "code",
   "execution_count": 119,
   "metadata": {},
   "outputs": [],
   "source": [
    "def BranchBoundMax2(G, time_ = False, noeuds_ =False): \n",
    "    t0 = time.time()\n",
    "    \n",
    "    if list(G.edges()) == []: \n",
    "        if time_ == True :     #Si on veut avoir le temps d'execution\n",
    "            if noeuds_ == True:    #Et le nombre de noeuds\n",
    "                return [], time.time() - t0, 0\n",
    "            return [], time.time() - t0\n",
    "        if noeuds_ == True:     #Que le nombre de noeuds \n",
    "            return [], 0\n",
    "        return [] \n",
    "        \n",
    "    noeuds = 1\n",
    "    Pile = list() \n",
    "    Cover = [] \n",
    "    b_ = bound(G) \n",
    "    n1 = DegreM(G)[0]\n",
    "    n0 = list(G[n1])[0]\n",
    "    #print(\"n0 :\", n0)\n",
    "    #print(\"n1 :\", n1)\n",
    "    G1 = nx.Graph.copy(G)\n",
    "    G2 = nx.Graph.copy(G)\n",
    "    G1 = RemoveL(G1,list(G[n1]))\n",
    "    G1 = Remove(G1, n1)\n",
    "    G2 = RemoveL(G2, n1) \n",
    "    Pile.append((list(G[n1]), G1)) \n",
    "    Pile.append(([n1], G2) )\n",
    "    noeuds+=2\n",
    "    #print(\"Pile debut :\", Pile)\n",
    "    \n",
    "    while Pile :  \n",
    "        n, Gt = Pile.pop() \n",
    "        edges = list(Gt.edges()) \n",
    "        #print(\"edges : \", edges)\n",
    "        b_ = bound(Gt)\n",
    "        if edges: \n",
    "            n1 = DegreM(Gt)[0]\n",
    "            n0 = list(Gt[n1])[0]\n",
    "            G1 = nx.Graph.copy(Gt) \n",
    "            G2 = nx.Graph.copy(Gt) \n",
    "            G1 = RemoveL(G1, list(Gt[n1])) \n",
    "            G1 = Remove(G1, n1)\n",
    "            G2 = RemoveL(G2, n1) \n",
    "             \n",
    "            sol_couplage = algo_couplage(G1) \n",
    "            if len(Cover) < b_ or (len(n) <= b_): \n",
    "                #print(\"noeuds 1 = \",(n+list(Gt[n1]), G1) )\n",
    "                Pile.append((n+list(Gt[n1]), G1)) \n",
    "                noeuds+=1\n",
    " \n",
    "            sol_couplage = algo_couplage(G2) \n",
    "            if len(Cover) < b_ or (len(n) <= b_): \n",
    "                #print(\"noeuds 1 = \",(n+[n1], G2) )\n",
    "                Pile.append((n+[n1], G2)) \n",
    "                noeuds+=1\n",
    "            #print(\"Pile wile : \", Pile)\n",
    "        elif Cover == [] or len(n) < len(Cover): #plus d'arete \n",
    "            Cover = n \n",
    "            #print(\"Cover elif : \", Cover)\n",
    "        #print(\"Cover : \", Cover)\n",
    "        \n",
    "    if time_ == True :     #Si on veut avoir le temps d'execution\n",
    "        if noeuds_ == True:    #Et le nombre de noeuds\n",
    "            return Cover, time.time() - t0, noeuds\n",
    "        return Cover, time.time() - t0\n",
    "    if noeuds_ == True:     #Que le nombre de noeuds \n",
    "        return Cover, noeuds\n",
    "    return Cover"
   ]
  },
  {
   "cell_type": "code",
   "execution_count": 120,
   "metadata": {},
   "outputs": [],
   "source": [
    "global Nmax_BBoundMax2,  Nmax_BBoundMax2d,  Nmax_BBoundMax2s\n",
    "step_test = 1"
   ]
  },
  {
   "cell_type": "code",
   "execution_count": 121,
   "metadata": {},
   "outputs": [],
   "source": [
    "Nmax_BBoundMax2 = Nmax_Branch(BranchBoundMax2, proba = probaG)"
   ]
  },
  {
   "cell_type": "code",
   "execution_count": 122,
   "metadata": {},
   "outputs": [
    {
     "name": "stdout",
     "output_type": "stream",
     "text": [
      "Le nombre maximal de noeuds pour  BranchBoundMax2 avec p = 1 est :  130\n"
     ]
    }
   ],
   "source": [
    "print(\"Le nombre maximal de noeuds pour  BranchBoundMax2 avec p = 1 est : \", Nmax_BBoundMax2)"
   ]
  },
  {
   "cell_type": "code",
   "execution_count": 123,
   "metadata": {},
   "outputs": [],
   "source": [
    "Nmax_BBoundMax2d = Nmax_Branch(BranchBoundMax2, proba = .1)"
   ]
  },
  {
   "cell_type": "code",
   "execution_count": 124,
   "metadata": {},
   "outputs": [
    {
     "name": "stdout",
     "output_type": "stream",
     "text": [
      "Le nombre maximal de noeuds pour  BranchBoundMax2 avec p = .1 est :  122\n"
     ]
    }
   ],
   "source": [
    "print(\"Le nombre maximal de noeuds pour  BranchBoundMax2 avec p = .1 est : \", Nmax_BBoundMax2d)"
   ]
  },
  {
   "cell_type": "code",
   "execution_count": 125,
   "metadata": {},
   "outputs": [],
   "source": [
    "Nmax_BBoundMax2s = Nmax_Branch(BranchBoundMax2)"
   ]
  },
  {
   "cell_type": "code",
   "execution_count": 126,
   "metadata": {},
   "outputs": [
    {
     "name": "stdout",
     "output_type": "stream",
     "text": [
      "Le nombre maximal de noeuds pour  BranchBoundMax2 avec p = 1/sqrt(n) est :  122\n"
     ]
    }
   ],
   "source": [
    "print(\"Le nombre maximal de noeuds pour  BranchBoundMax2 avec p = 1/sqrt(n) est : \", Nmax_BBoundMax2d)"
   ]
  },
  {
   "cell_type": "code",
   "execution_count": 127,
   "metadata": {},
   "outputs": [],
   "source": [
    "T_BBU, N_BBU = testAlgo_timeBranch2(BranchBoundU, Nmax_BBoundU, proba=probaG)"
   ]
  },
  {
   "cell_type": "code",
   "execution_count": 128,
   "metadata": {},
   "outputs": [],
   "source": [
    "T_BBUd, N_BBUd = testAlgo_timeBranch2(BranchBoundU, Nmax_BBoundUd, proba=.1)"
   ]
  },
  {
   "cell_type": "code",
   "execution_count": 129,
   "metadata": {},
   "outputs": [],
   "source": [
    "T_BBUs, N_BBUs = testAlgo_timeBranch2(BranchBoundU, Nmax_BBoundUs)"
   ]
  },
  {
   "cell_type": "code",
   "execution_count": 130,
   "metadata": {},
   "outputs": [],
   "source": [
    "T_BBMax, N_BBMax = testAlgo_timeBranch2(BranchBoundMax, Nmax_BBoundMax, proba=probaG)"
   ]
  },
  {
   "cell_type": "code",
   "execution_count": 131,
   "metadata": {},
   "outputs": [],
   "source": [
    "T_BBMaxd, N_BBMaxd = testAlgo_timeBranch2(BranchBoundMax, Nmax_BBoundMaxd, .1)"
   ]
  },
  {
   "cell_type": "code",
   "execution_count": 132,
   "metadata": {},
   "outputs": [],
   "source": [
    "T_BBMaxs, N_BBMaxs = testAlgo_timeBranch2(BranchBoundMax, Nmax_BBoundMaxs)"
   ]
  },
  {
   "cell_type": "code",
   "execution_count": 133,
   "metadata": {},
   "outputs": [],
   "source": [
    "T_BBMax2, N_BBMax2 = testAlgo_timeBranch2(BranchBoundMax2, Nmax_BBoundMax2, proba=probaG)"
   ]
  },
  {
   "cell_type": "code",
   "execution_count": 134,
   "metadata": {},
   "outputs": [],
   "source": [
    "T_BBMax2d, N_BBMax2d = testAlgo_timeBranch2(BranchBoundMax2, Nmax_BBoundMax2d, .1)"
   ]
  },
  {
   "cell_type": "code",
   "execution_count": 135,
   "metadata": {},
   "outputs": [],
   "source": [
    "T_BBMax2s, N_BBMax2s = testAlgo_timeBranch2(BranchBoundMax2, Nmax_BBoundMax2s)"
   ]
  },
  {
   "cell_type": "code",
   "execution_count": 136,
   "metadata": {},
   "outputs": [
    {
     "data": {
      "image/png": "[encoded data removed]",
      "text/plain": [
       "<Figure size 432x288 with 1 Axes>"
      ]
     },
     "metadata": {
      "needs_background": "light"
     },
     "output_type": "display_data"
    }
   ],
   "source": [
    "plt.figure(13)\n",
    "plt.plot(N_BBU, np.log(T_BBU))\n",
    "plt.plot(N_BBUd, np.log(T_BBUd))\n",
    "plt.plot(N_BBUs, np.log(T_BBUs))\n",
    "#plt.plot(N_BBU, T_BBU)\n",
    "#plt.plot(N_BBUd, T_BBUd)\n",
    "#plt.plot(N_BBUs, T_BBUs)\n",
    "plt.title(\"Temps de calcul BranchBoundU selon $n$ et $p$\")\n",
    "plt.ylabel(\"Log(Temps moyen de l'lagorithme)\")\n",
    "plt.xlabel(\"Nombre de sommets\")\n",
    "plt.legend((\"$p$ = 1\",\"$p$ = 0.1\", \"$p$ = 1/sqrt(n)\"))\n",
    "plt.show()"
   ]
  },
  {
   "cell_type": "code",
   "execution_count": 137,
   "metadata": {},
   "outputs": [
    {
     "data": {
      "image/png": "[encoded data removed]",
      "text/plain": [
       "<Figure size 432x288 with 1 Axes>"
      ]
     },
     "metadata": {
      "needs_background": "light"
     },
     "output_type": "display_data"
    }
   ],
   "source": [
    "plt.figure(14)\n",
    "plt.plot(N_BBMax, T_BBMax)\n",
    "plt.plot(N_BBMax2, T_BBMax2)\n",
    "#plt.plot(N_BS, np.log(np.exp(N_BS)) -11)\n",
    "#plt.axis([0,2500, -3.5, 1.5])\n",
    "plt.title(\"Temps de calcul BranchBoundMax pour $p$ = 1\")\n",
    "plt.ylabel(\"Temps moyen de l'lagorithme\")\n",
    "plt.xlabel(\"Nombre de sommets\")\n",
    "plt.legend((\"BranchBoundMax\",\"BranchBoundMax2\"))\n",
    "plt.show()"
   ]
  },
  {
   "cell_type": "code",
   "execution_count": 138,
   "metadata": {},
   "outputs": [
    {
     "data": {
      "image/png": "[encoded data removed]",
      "text/plain": [
       "<Figure size 432x288 with 1 Axes>"
      ]
     },
     "metadata": {
      "needs_background": "light"
     },
     "output_type": "display_data"
    }
   ],
   "source": [
    "plt.figure(15)\n",
    "#plt.plot(N_BBMax, T_BBMax)\n",
    "#plt.plot(N_BBMaxd, T_BBMaxd)\n",
    "#plt.plot(N_BBMaxs, T_BBMaxs)\n",
    "plt.plot(N_BBMax2, np.log(T_BBMax2), linestyle=\":\")\n",
    "plt.plot(N_BBMax2d, np.log(T_BBMax2d), linestyle=\":\")\n",
    "plt.plot(N_BBMax2s, np.log(T_BBMax2s), linestyle=\":\")\n",
    "#plt.plot(N_BS, np.log(np.exp(N_BS)) -11)\n",
    "#plt.axis([0,2500, -3.5, 1.5])\n",
    "plt.title(\"Temps de calcul BranchBoundMax2 pour $p$ = 1\")\n",
    "plt.ylabel(\"Log(Temps moyen de l'lagorithme)\")\n",
    "plt.xlabel(\"Nombre de sommets\")\n",
    "#plt.legend((\"algo1 p = 1\",\"algo1 p = .1\", \"algo1 p = 1/sqrt(n)\",\"algo2 p = 1\", \"algo2 p = .1\",\"algo2 p = 1/sqrt(n)\"))\n",
    "plt.legend((\"BBU2 : $p$ = 1\", \"BBU2 : $p$ = .1\",\"BBU2 : $p$ = 1/sqrt(n)\"))\n",
    "plt.show()"
   ]
  },
  {
   "cell_type": "code",
   "execution_count": 139,
   "metadata": {},
   "outputs": [],
   "source": [
    "def testbranch_solutions(algo1,algo2, Nmax1):\n",
    "    \"\"\"\n",
    "    algo1 & algo2 : function, Nmax1 & Nmax2 : int -> list(float), list(float)\n",
    "    \"\"\"\n",
    "    i_ = 10\n",
    "    P  = np.linspace(0,1,11)\n",
    "    L_algo1 = []\n",
    "    print(\"algo1\")\n",
    "    for p in P:\n",
    "        m = np.mean([len(algo1(RandomG(Nmax1, p))) for i in range(i_)])\n",
    "        print(\"m : \",m)\n",
    "        L_algo1.append(m)\n",
    "    \n",
    "    L_algo2 = []\n",
    "    print(\"algo2\")\n",
    "    for p in P:\n",
    "        m = np.mean([len(algo2(RandomG(Nmax1, p))) for i in range(i_)])\n",
    "        print(\"m : \",m)\n",
    "        L_algo2.append(m)\n",
    "    return L_algo1, L_algo2, P"
   ]
  },
  {
   "cell_type": "code",
   "execution_count": 140,
   "metadata": {},
   "outputs": [
    {
     "name": "stdout",
     "output_type": "stream",
     "text": [
      "algo1\n",
      "m :  0.0\n",
      "m :  72.5\n",
      "m :  83.4\n",
      "m :  88.2\n",
      "m :  90.8\n",
      "m :  92.9\n",
      "m :  93.7\n",
      "m :  95.2\n",
      "m :  95.9\n",
      "m :  96.8\n",
      "m :  99.0\n",
      "algo2\n",
      "m :  0.0\n",
      "m :  72.1\n",
      "m :  83.5\n",
      "m :  87.5\n",
      "m :  90.5\n",
      "m :  92.7\n",
      "m :  94.1\n",
      "m :  95.6\n",
      "m :  95.6\n",
      "m :  96.8\n",
      "m :  99.0\n"
     ]
    }
   ],
   "source": [
    "Sol_BBMax, Sol_BBMax2, P_BBmax = testbranch_solutions(BranchBoundMax,BranchBoundMax2, 100)"
   ]
  },
  {
   "cell_type": "code",
   "execution_count": 141,
   "metadata": {},
   "outputs": [
    {
     "data": {
      "image/png": "[encoded data removed]",
      "text/plain": [
       "<Figure size 432x288 with 1 Axes>"
      ]
     },
     "metadata": {
      "needs_background": "light"
     },
     "output_type": "display_data"
    }
   ],
   "source": [
    "plt.figure(16)\n",
    "plt.plot(P_BBmax, Sol_BBMax)\n",
    "plt.plot(P_BBmax, Sol_BBMax2)\n",
    "plt.title(\"Longueur solution BranchBoundMax et BranchBoundMax2 selon $p$\")\n",
    "plt.ylabel(\"Longueur des couvertures\")\n",
    "plt.xlabel(\"Nombre de sommets\")\n",
    "plt.legend((\"BranchBoundMax\",\"BranchBoundMax2\"))\n",
    "plt.show()"
   ]
  },
  {
   "cell_type": "code",
   "execution_count": 142,
   "metadata": {},
   "outputs": [
    {
     "data": {
      "text/plain": [
       "([2, 10, 9, 6, 11, 0, 5], 0.002750873565673828, 15)"
      ]
     },
     "execution_count": 142,
     "metadata": {},
     "output_type": "execute_result"
    }
   ],
   "source": [
    "BranchBoundMax(Break, time_ = True, noeuds_ = True)"
   ]
  },
  {
   "cell_type": "code",
   "execution_count": 143,
   "metadata": {},
   "outputs": [
    {
     "data": {
      "text/plain": [
       "([2, 10, 9, 6, 11, 0, 5], 0.004440784454345703, 15)"
      ]
     },
     "execution_count": 143,
     "metadata": {},
     "output_type": "execute_result"
    }
   ],
   "source": [
    "BranchBoundMax2(Break, time_=True, noeuds_=True)"
   ]
  },
  {
   "cell_type": "code",
   "execution_count": 144,
   "metadata": {},
   "outputs": [
    {
     "data": {
      "text/plain": [
       "([2, 0, 10, 11, 5, 9, 8], 0.005611896514892578, 29)"
      ]
     },
     "execution_count": 144,
     "metadata": {},
     "output_type": "execute_result"
    }
   ],
   "source": [
    "BranchBoundU(Break, time_ = True, noeuds_ = True)"
   ]
  },
  {
   "cell_type": "code",
   "execution_count": 145,
   "metadata": {},
   "outputs": [
    {
     "data": {
      "text/plain": [
       "([2, 0, 10, 11, 5, 9, 8], 0.005031108856201172, 29)"
      ]
     },
     "execution_count": 145,
     "metadata": {},
     "output_type": "execute_result"
    }
   ],
   "source": [
    "BranchBoundU(Break, time_ = True, noeuds_ = True)"
   ]
  },
  {
   "cell_type": "code",
   "execution_count": 146,
   "metadata": {},
   "outputs": [
    {
     "data": {
      "text/plain": [
       "([2, 0, 10, 11, 5, 9, 8], 0.013675928115844727, 33)"
      ]
     },
     "execution_count": 146,
     "metadata": {},
     "output_type": "execute_result"
    }
   ],
   "source": [
    "BranchBound(Break, time_ = True, noeuds_ = True)"
   ]
  },
  {
   "cell_type": "code",
   "execution_count": 147,
   "metadata": {},
   "outputs": [
    {
     "data": {
      "text/plain": [
       "([2, 0, 10, 11, 5, 9, 8], 0.07387781143188477, 939)"
      ]
     },
     "execution_count": 147,
     "metadata": {},
     "output_type": "execute_result"
    }
   ],
   "source": [
    "BranchS(Break, time_ = True, noeuds_=True)"
   ]
  },
  {
   "cell_type": "code",
   "execution_count": 148,
   "metadata": {},
   "outputs": [
    {
     "data": {
      "text/plain": [
       "([2, 0, 10, 11, 5, 9, 8], 0.1129610538482666, 939)"
      ]
     },
     "execution_count": 148,
     "metadata": {},
     "output_type": "execute_result"
    }
   ],
   "source": [
    "BranchF(Break, time_ = True, noeuds_=True)"
   ]
  },
  {
   "cell_type": "code",
   "execution_count": 149,
   "metadata": {},
   "outputs": [
    {
     "data": {
      "text/plain": [
       "([1, 3], 0.0008091926574707031, 11)"
      ]
     },
     "execution_count": 149,
     "metadata": {},
     "output_type": "execute_result"
    }
   ],
   "source": [
    "BranchF(G1, time_=True, noeuds_=True)"
   ]
  },
  {
   "cell_type": "code",
   "execution_count": 150,
   "metadata": {},
   "outputs": [
    {
     "data": {
      "text/plain": [
       "([1, 3], 0.0005419254302978516, 11)"
      ]
     },
     "execution_count": 150,
     "metadata": {},
     "output_type": "execute_result"
    }
   ],
   "source": [
    "BranchS(G1, time_=True, noeuds_=True)"
   ]
  },
  {
   "cell_type": "code",
   "execution_count": 151,
   "metadata": {},
   "outputs": [
    {
     "data": {
      "text/plain": [
       "([1, 3], 0.0006577968597412109, 5)"
      ]
     },
     "execution_count": 151,
     "metadata": {},
     "output_type": "execute_result"
    }
   ],
   "source": [
    "BranchBound(G1, time_=True, noeuds_=True)"
   ]
  },
  {
   "cell_type": "code",
   "execution_count": 152,
   "metadata": {},
   "outputs": [
    {
     "data": {
      "text/plain": [
       "([1, 3], 0.0006859302520751953, 5)"
      ]
     },
     "execution_count": 152,
     "metadata": {},
     "output_type": "execute_result"
    }
   ],
   "source": [
    "BranchBoundU(G1, time_=True, noeuds_=True)"
   ]
  },
  {
   "cell_type": "code",
   "execution_count": 153,
   "metadata": {},
   "outputs": [
    {
     "data": {
      "text/plain": [
       "([1, 3], 0.0005939006805419922, 5)"
      ]
     },
     "execution_count": 153,
     "metadata": {},
     "output_type": "execute_result"
    }
   ],
   "source": [
    "BranchBoundMax(G1, time_=True, noeuds_=True)"
   ]
  },
  {
   "cell_type": "markdown",
   "metadata": {},
   "source": [
    "###  4.3 Qualité des algorithmes approchés :"
   ]
  },
  {
   "cell_type": "code",
   "execution_count": 154,
   "metadata": {},
   "outputs": [],
   "source": [
    "def test_rapportApprox(algo1, algo2, algoA, Nmax1, Nmax2, proba = lambda i : 1./np.sqrt(i)):\n",
    "    i_ = 10\n",
    "    Nmax = min(Nmax1, Nmax2)\n",
    "    N_ = np.linspace(Nmax/10,Nmax,10)\n",
    "    RA_1 = []\n",
    "    RA_2 = []\n",
    "    for n in N_:\n",
    "        if type(proba) == int or type(proba) == float:\n",
    "            G = RandomG(ceil(n), proba)\n",
    "            m1 = np.mean([ len(algo1(G))/ len(algoA(G))for i in range(i_)])\n",
    "            m2 = np.mean([ len(algo2(G))/ len(algoA(G))for i in range(i_)])\n",
    "        else:\n",
    "            G = RandomG(ceil(n), proba(ceil(n)))\n",
    "            m1 = np.mean([ len(algo1(G))/ len(algoA(G))for i in range(i_)])\n",
    "            m2 = np.mean([ len(algo2(G))/ len(algoA(G))for i in range(i_)])\n",
    "        RA_1.append(m1)\n",
    "        RA_2.append(m2)\n",
    "        \n",
    "    return N_, RA_1, RA_2"
   ]
  },
  {
   "cell_type": "code",
   "execution_count": 155,
   "metadata": {},
   "outputs": [],
   "source": [
    "N_ACG, RA_C, RA_G = test_rapportApprox(algo_couplage, algo_glouton, BranchBoundMax2, 120, 140, proba = probaG)"
   ]
  },
  {
   "cell_type": "code",
   "execution_count": 156,
   "metadata": {},
   "outputs": [],
   "source": [
    "N_ACG, RA_Cd, RA_Gd = test_rapportApprox(algo_couplage, algo_glouton, BranchBoundMax2, 120, 140, proba = .1)"
   ]
  },
  {
   "cell_type": "code",
   "execution_count": 157,
   "metadata": {},
   "outputs": [],
   "source": [
    "N_ACG, RA_Cs, RA_Gs = test_rapportApprox(algo_couplage, algo_glouton, BranchBoundMax2, 120, 140)"
   ]
  },
  {
   "cell_type": "code",
   "execution_count": 158,
   "metadata": {},
   "outputs": [
    {
     "data": {
      "image/png": "[encoded data removed]",
      "text/plain": [
       "<Figure size 432x288 with 1 Axes>"
      ]
     },
     "metadata": {
      "needs_background": "light"
     },
     "output_type": "display_data"
    }
   ],
   "source": [
    "plt.figure(17)\n",
    "plt.plot(N_ACG, RA_C, linestyle=\":\")\n",
    "plt.plot(N_ACG, RA_G)\n",
    "plt.plot(N_ACG, RA_Cd, linestyle=\":\")\n",
    "plt.plot(N_ACG, RA_Gd)\n",
    "plt.plot(N_ACG, RA_Cs, linestyle=\":\")\n",
    "plt.plot(N_ACG, RA_Gs)\n",
    "#plt.plot(N_BS, np.log(np.exp(N_BS)) -11)\n",
    "#plt.axis([0,2500, -3.5, 1.5])\n",
    "plt.title(\"Rapport d'approximation selon $n$ et $p$\")\n",
    "plt.ylabel(\"Rapport\")\n",
    "plt.xlabel(\"Nombre de sommets\")\n",
    "#plt.legend((\"algo1 p = 1\",\"algo1 p = .1\", \"algo1 p = 1/sqrt(n)\",\"algo2 p = 1\", \"algo2 p = .1\",\"algo2 p = 1/sqrt(n)\"))\n",
    "plt.legend((\"Couplage : $p$ = 1\", \"Glouton : $p$ = 1\", \"Couplage : $p$ = .1\",\"Glouton : $p$ = .1\",\"Couplage : $p$ = 1/sqrt(n)\", \"Glouton : $p$ = 1/sqrt(n)\"))\n",
    "plt.show()"
   ]
  },
  {
   "cell_type": "code",
   "execution_count": 163,
   "metadata": {},
   "outputs": [],
   "source": [
    "G1test = lecture_graphe(\"expl1.txt\")"
   ]
  },
  {
   "cell_type": "code",
   "execution_count": 164,
   "metadata": {},
   "outputs": [
    {
     "data": {
      "text/plain": [
       "[2, 8, 6, 4]"
      ]
     },
     "execution_count": 164,
     "metadata": {},
     "output_type": "execute_result"
    }
   ],
   "source": [
    "BranchBoundU(G1test)"
   ]
  },
  {
   "cell_type": "code",
   "execution_count": null,
   "metadata": {},
   "outputs": [],
   "source": []
  }
 ],
 "metadata": {
  "kernelspec": {
   "display_name": "Python 3",
   "language": "python",
   "name": "python3"
  },
  "language_info": {
   "codemirror_mode": {
    "name": "ipython",
    "version": 3
   },
   "file_extension": ".py",
   "mimetype": "text/x-python",
   "name": "python",
   "nbconvert_exporter": "python",
   "pygments_lexer": "ipython3",
   "version": "3.7.0"
  }
 },
 "nbformat": 4,
 "nbformat_minor": 2
}

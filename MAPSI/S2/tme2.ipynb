{
 "cells": [
  {
   "cell_type": "code",
   "execution_count": 2,
   "metadata": {},
   "outputs": [],
   "source": [
    "from random import *\n",
    "import matplotlib\n",
    "import matplotlib.pyplot as plt\n",
    "import numpy as np\n",
    "import math\n",
    "\n",
    "%matplotlib nbagg\n",
    "\n",
    "global epsilon\n",
    "\n",
    "epsilon = 1e-6"
   ]
  },
  {
   "cell_type": "markdown",
   "metadata": {},
   "source": [
    "# MAPSI - TME  - Rappels de Proba/stats"
   ]
  },
  {
   "cell_type": "markdown",
   "metadata": {},
   "source": [
    "## I- La planche de Galton (<font color=\"red\"> obligatoire</font>)"
   ]
  },
  {
   "cell_type": "markdown",
   "metadata": {},
   "source": [
    "### I.1- Loi de Bernouilli\n",
    "Écrire une fonction `bernouilli: float ->int` qui prend en argument la paramètre $p \\in [0,1]$ et qui renvoie aléatoirement $0$ (avec la probabilité $1-p$) ou $1$ (avec la probabilité $p$)."
   ]
  },
  {
   "cell_type": "code",
   "execution_count": 3,
   "metadata": {},
   "outputs": [],
   "source": [
    "def bernouilli(p):\n",
    "    # votre code\n",
    "    \"\"\"\n",
    "    p : float -> int\n",
    "    \"\"\"\n",
    "    if random()<p:\n",
    "        return 1\n",
    "    return 0"
   ]
  },
  {
   "cell_type": "markdown",
   "metadata": {},
   "source": [
    "### I.2- Loi binomiale\n",
    "Écrire une fonction `binomiale: int , float -> int` qui prend en argument un entier $n$ et $p \\in [0,1]$ et qui renvoie aléatoirement un nimbre tiré selon la distribution ${\\cal B}(n,p)$."
   ]
  },
  {
   "cell_type": "code",
   "execution_count": 4,
   "metadata": {},
   "outputs": [
    {
     "name": "stdout",
     "output_type": "stream",
     "text": [
      "3\n"
     ]
    }
   ],
   "source": [
    "def binomiale(n,p, plot = 1):\n",
    "    #Votre code\n",
    "    \"\"\" \n",
    "    n : int, p :float, plot =1 si on veut obtenir la liste des epreuves de bernouilli -> int, (list(int))\n",
    "    \"\"\"\n",
    "    L = []\n",
    "    S = 0\n",
    "    for i in range(n):\n",
    "        S+= bernouilli(p)\n",
    "        L.append(S)\n",
    "    if(plot == 0):\n",
    "        return S\n",
    "    return S, L\n",
    "\n",
    "print(binomiale(3,.7, plot = 0))"
   ]
  },
  {
   "cell_type": "markdown",
   "metadata": {},
   "source": [
    "### I.3- Histogramme de la loi binomiale\n",
    "<img src=\"tme2_Galton.jpg\" title=\"Planche de Galton\" style=\"float: right;\">\n",
    "\n",
    "Dans cette question, on considère une planche de Galton de hauteur $n$. On rappelle que des bâtons horizontaux (oranges) sont cloués à cette planche comme le montre la figure ci-contre. \n",
    "\n",
    " Des billes bleues tombent du haut de la planche et, à chaque niveau, se retrouvent à la verticale d'un des bâtons. Elles vont alors tomber soit à gauche, soit à droite du bâton, jusqu'à atteindre le bas de la planche. Ce dernier est constitué de petites boites dont les bords sont symbolisés par les lignes verticales grises. \n",
    " \n",
    "Chaque boite renferme des billes qui sont passées exactement le même nombre de fois à droite des bâtons oranges. Par exemple, la boite la plus à gauche renferme les billes qui ne sont jamais passées à droite d'un bâton, celle juste à sa droite renferme les billes passées une seule fois à droite d'un bâton et toutes les autres fois à gauche, et ainsi de suite. \n",
    "\n",
    "La répartition des billes dans les boites suit donc une loi binomiale ${\\cal B}(n,0.5)$. \n",
    "\n",
    "Écrire un script qui crée un tableau de $1000$ cases dont le contenu correspond à $1000$ instanciations de la loi binomiale ${\\cal B}(n,0.5)$. Afin de voir la répartition des billes dans la planche de Galton, tracer l'histogramme de ce tableau. Vous pourrez utiliser la fonction hist de matplotlib.pyplot: "
   ]
  },
  {
   "cell_type": "code",
   "execution_count": 5,
   "metadata": {},
   "outputs": [
    {
     "data": {
      "image/png": "[encoded data removed]",
      "text/plain": [
       "<Figure size 432x288 with 1 Axes>"
      ]
     },
     "metadata": {
      "needs_background": "light"
     },
     "output_type": "display_data"
    }
   ],
   "source": [
    "plt.hist ([0,1,2,1,2,4,1,1], 4);"
   ]
  },
  {
   "cell_type": "markdown",
   "metadata": {},
   "source": [
    "Pour le nombre de bins, calculez le nombre de valeurs différentes dans votre tableau."
   ]
  },
  {
   "cell_type": "code",
   "execution_count": 6,
   "metadata": {},
   "outputs": [
    {
     "data": {
      "image/png": "[encoded data removed]",
      "text/plain": [
       "<Figure size 432x288 with 1 Axes>"
      ]
     },
     "metadata": {
      "needs_background": "light"
     },
     "output_type": "display_data"
    }
   ],
   "source": [
    "# votre code\n",
    "\n",
    "h = 12\n",
    "P = .5\n",
    "N = 1000\n",
    "\n",
    "G = [binomiale(N,P, 0) for i in range(N)]\n",
    "bins = len(set(G))     \n",
    "#set() permet d'obtenir les valeurs uniques d'une liste \n",
    "#sa longueur nous donne donc le nombre de valeurs differentes de notre liste\n",
    "plt.hist(G)\n",
    "plt.show()"
   ]
  },
  {
   "cell_type": "markdown",
   "metadata": {},
   "source": [
    "## II- Visualisation d'indépendances (<font color=\"red\"> obligatoire</font>)"
   ]
  },
  {
   "cell_type": "markdown",
   "metadata": {},
   "source": [
    "### II.1- Loi normale centrée réduite\n",
    "<img src=\"tme2_normale.jpg\" title=\"Planche de Galton\" style=\"float: right;\">\n",
    "\n",
    "On souhaite visualiser la fonction de densité de la loi normale. Pour cela, on va créer un ensemble de $k$ points $(x_i,y_i$), pour des $x_i$ équi-espacés variant de $-2σ$ à $2σ$, les $y_i$ correspondant à la valeur de la fonction de densité de la loi normale centrée de variance $σ^2$, autrement dit ${\\cal N}(0,σ^2)$.\n",
    "\n",
    "Écrire une fonction `normale : int , float -> float np.array` qui, étant donné un paramètre entier `k` impair et un paramètre réel `sigma` renvoie l'`array numpy` des $k$ valeurs $y_i$. Afin que l'`array numpy` soit bien symmétrique, on lèvera une exception si $k$ est pair."
   ]
  },
  {
   "cell_type": "code",
   "execution_count": 7,
   "metadata": {},
   "outputs": [],
   "source": [
    "def densite_normale(x, mu = 0, sigm = 1):    #densite de N(mu,sigma)\n",
    "    \"\"\"\n",
    "    x : int, mu = 0 : float (moyenne), sigm = 1 : float (variance) -> float\n",
    "    \"\"\"\n",
    "    return (1./(sigm*np.sqrt(2*np.pi)))*np.exp(-(x*x)/2*sigm**2)\n",
    "\n",
    "\n",
    "def normale(k, mu = 0, sigma = 1 ):\n",
    "    \"\"\"\n",
    "    k : int impair, mu = 0 : float (moyenne), sigma = 1: float (variance) -> np.array(float) (,np.array(float)) \"\"\"\n",
    "    #votre code\n",
    "    if k %2 == 0:\n",
    "        raise ValueError('le nombre k doit etre impair' )\n",
    "    S_ = np.linspace(-2*sigma,2*sigma,k, dtype=\"float\")\n",
    "    Y_ = densite_normale(S_,sigm=sigma)\n",
    "    \n",
    "    return S_,Y_\n"
   ]
  },
  {
   "cell_type": "markdown",
   "metadata": {},
   "source": [
    "Vérfier la validité de votre fonction en affichant grâce à la fonction plot les points générés dans une figure. "
   ]
  },
  {
   "cell_type": "code",
   "execution_count": 8,
   "metadata": {},
   "outputs": [
    {
     "data": {
      "text/plain": [
       "[<matplotlib.lines.Line2D at 0x11f1e3e80>]"
      ]
     },
     "execution_count": 8,
     "metadata": {},
     "output_type": "execute_result"
    },
    {
     "data": {
      "image/png": "[encoded data removed]",
      "text/plain": [
       "<Figure size 432x288 with 1 Axes>"
      ]
     },
     "metadata": {
      "needs_background": "light"
     },
     "output_type": "display_data"
    }
   ],
   "source": [
    "#votre code\n",
    "X_, Y_ = normale(N+1)\n",
    "plt.plot(X_, Y_)"
   ]
  },
  {
   "cell_type": "markdown",
   "metadata": {},
   "source": [
    "### II.2- Distribution de probabilité affine\n",
    "<img src=\"tme2_lineaire.jpg\" title=\"Distribution affine\" style=\"float: right;\">\n",
    "\n",
    "Dans cette question, on considère une généralisation de la distribution uniforme: une distribution affine, c'est-à-dire que la fonction de densité est une droite, mais pas forcément horizontale, comme le montre la figure ci-contre. \n",
    "\n",
    "Écrire une fonction `proba_affine : int , float -> float np.array` qui, comme dans la question précédente, va générer un ensemble de $k$ points $y_i, i=0,...,k−1$, représentant cette distribution (paramétrée par sa pente `slope`). On vérifiera ici aussi que l'entier $k$ est impair. Si la pente est égale à $0$, c'est-à-dire si la distribution est uniforme, chaque point $y_i$ devrait être égal à $\\frac{1}{k}$ (afin que $\\sum y_i=1$). Si la pente est différente de $0$, il suffit de choisir, $\\forall i=0,...,k−1$,\n",
    "\n",
    "$$y_i=\\frac{1}{k}+(i−\\frac{k−1}{2})×slope$$\n",
    "\n",
    "Vous pourrez aisément vérifier que, ici aussi, $\\sum y_i=1$. Afin que la distribution soit toujours positive (c'est quand même un minimum pour une distribution de probabilité), il faut que la pente slope ne soit ni trop grande ni trop petite. Le bout de code ci-dessous lèvera une exception si la pente est trop élevée et indiquera la pente maximale possible. "
   ]
  },
  {
   "cell_type": "code",
   "execution_count": 9,
   "metadata": {},
   "outputs": [
    {
     "name": "stdout",
     "output_type": "stream",
     "text": [
      "Densite de proba qui somme bien à :  1.0\n"
     ]
    },
    {
     "data": {
      "image/png": "[encoded data removed]",
      "text/plain": [
       "<Figure size 432x288 with 1 Axes>"
      ]
     },
     "metadata": {
      "needs_background": "light"
     },
     "output_type": "display_data"
    }
   ],
   "source": [
    "def densite_affine(x, i, k, slope):    #deniste de probabilite d'une loi affine\n",
    "    \"\"\"\n",
    "    x :int, i : int, k : int, slope : float -> float \n",
    "    \"\"\"\n",
    "    return 1./k + (i - float(k-1)/2)*slope\n",
    "\n",
    "\n",
    "\n",
    "def proba_affine ( k, slope ):\n",
    "    \"\"\"\n",
    "    k : int, slope : float -> np.array(float)\n",
    "    \"\"\"\n",
    "    if k % 2 == 0:\n",
    "        raise ValueError ( 'le nombre k doit etre impair' )\n",
    "    if abs ( slope  ) > 2. / ( k * k ):\n",
    "        raise ValueError ( 'la pente est trop raide : pente max = ' +str ( 2. / ( k * k ) ) )\n",
    "        \n",
    "    #votre code\n",
    "    X_ = np.linspace(0,k,k,dtype=\"float\")\n",
    "    Y_ = [densite_affine(X_[i],i,k,slope) for i in range(0, len(X_))]\n",
    "    return X_, np.array(Y_)\n",
    "    \n",
    "    \n",
    "X_, Y_ = proba_affine(23, 0.003780718336483932)\n",
    "print(\"Densite de proba qui somme bien à : \",np.array(Y_).sum())\n",
    "plt.plot(X_, Y_)\n",
    "plt.show()"
   ]
  },
  {
   "cell_type": "code",
   "execution_count": 10,
   "metadata": {},
   "outputs": [
    {
     "data": {
      "text/plain": [
       "[<matplotlib.lines.Line2D at 0x11f390518>]"
      ]
     },
     "execution_count": 10,
     "metadata": {},
     "output_type": "execute_result"
    },
    {
     "data": {
      "image/png": "[encoded data removed]",
      "text/plain": [
       "<Figure size 432x288 with 1 Axes>"
      ]
     },
     "metadata": {
      "needs_background": "light"
     },
     "output_type": "display_data"
    }
   ],
   "source": [
    "TX_, TY_ = proba_affine(101,0.00001)\n",
    "\n",
    "\n",
    "plt.plot(np.linspace(0,101,101,dtype=\"float\"),TY_)"
   ]
  },
  {
   "cell_type": "markdown",
   "metadata": {},
   "source": [
    "### II.3- Distribution jointe\n",
    "Écrire une fonction `Pxy : float np.array , float np.array -> float np.2D-array` qui, étant donné deux tableaux numpy de nombres réels à $1$ dimension générés par les fonctions des questions précédentes et représentant deux distributions de probabilités $P(A)$ et $P(B)$, renvoie la distribution jointe $P(A,B)$ sous forme d'un tableau numpy à $2$ dimensions de nombres réels, en supposant que $A$ et $B$ sont des variables aléatoires indépendantes. Par exemple, si:"
   ]
  },
  {
   "cell_type": "code",
   "execution_count": 11,
   "metadata": {},
   "outputs": [],
   "source": [
    "PA = np.array ( [0.2, 0.7, 0.1] )\n",
    "PB = np.array ( [0.4, 0.4, 0.2] )"
   ]
  },
  {
   "cell_type": "markdown",
   "metadata": {},
   "source": [
    "alors `Pxy(A,B)` renverra le tableau :\n",
    "```\n",
    "np.array([[ 0.08,  0.08,  0.04],\n",
    "          [ 0.28,  0.28,  0.14],\n",
    "          [ 0.04,  0.04,  0.02]])\n",
    "```"
   ]
  },
  {
   "cell_type": "code",
   "execution_count": 12,
   "metadata": {},
   "outputs": [],
   "source": [
    "def Pxy(x,y):\n",
    "    \"\"\"\n",
    "    x : np.array(float), y : np.array(float) ->np.2D-array(float)\n",
    "    \"\"\"\n",
    "    #votre code\n",
    "    #Pour chaque element de x on cree une ligne de elem_x*y\n",
    "    return np.array([i*y for i in x])"
   ]
  },
  {
   "cell_type": "code",
   "execution_count": 13,
   "metadata": {},
   "outputs": [
    {
     "data": {
      "text/plain": [
       "array([[0.08, 0.08, 0.04],\n",
       "       [0.28, 0.28, 0.14],\n",
       "       [0.04, 0.04, 0.02]])"
      ]
     },
     "execution_count": 13,
     "metadata": {},
     "output_type": "execute_result"
    }
   ],
   "source": [
    "Pxy(PA,PB)    #affichage de la loi jointe de PA et PB"
   ]
  },
  {
   "cell_type": "markdown",
   "metadata": {},
   "source": [
    "### II.4- Affichage de la distribution jointe\n",
    "<img src=\"tme2_jointe.jpg\" title=\"Distribution jointe\" style=\"float: right;\">\n",
    "\n",
    "Le code ci-dessous permet d'afficher en 3D une probabilité jointe générée par la fonction précédente. Exécutez-le avec une probabilité jointe résultant de la combinaison d'une loi normale et d'une distribution affine. \n",
    "\n",
    "Si la commande `%matplotlib notebook` fonctione, vous pouvez interagir avec la courbe. Si le contenu de la fenêtre est vide, redimensionnez celle-ci et le contenu devrait apparaître. Cliquez à la souris à l'intérieur de la fenêtre et bougez la souris en gardant le bouton appuyé afin de faire pivoter la courbe. Observez sous différents angles cette courbe. Refaites l'expérience avec une probaiblité jointe résultant de deux lois normales. Essayez de comprendre ce que signifie, visuellement, l'indépendance probabiliste. Vous pouvez également recommencer l'expérience avec le logarithme des lois jointes.\n"
   ]
  },
  {
   "cell_type": "code",
   "execution_count": 14,
   "metadata": {},
   "outputs": [],
   "source": [
    "from mpl_toolkits.mplot3d import Axes3D\n",
    "#%matplotlib inline  \n",
    "#%matplotib notebook\n",
    "# essayer `%matplotib notebook` pour interagir avec la visualisation 3D\n",
    "\n",
    "def dessine ( P_jointe ):\n",
    "    fig = plt.figure()\n",
    "    ax = fig.add_subplot(111, projection='3d')\n",
    "    x = np.linspace ( -3, 3, P_jointe.shape[0] )\n",
    "    y = np.linspace ( -3, 3, P_jointe.shape[1] )\n",
    "    X, Y = np.meshgrid(x, y)\n",
    "    ax.plot_surface(X, Y, P_jointe, rstride=1, cstride=1 )\n",
    "    ax.set_xlabel('A')\n",
    "    ax.set_ylabel('B')\n",
    "    ax.set_zlabel('P(A) * P(B)')\n",
    "    plt.show ()"
   ]
  },
  {
   "cell_type": "code",
   "execution_count": 15,
   "metadata": {},
   "outputs": [
    {
     "data": {
      "image/png": "[encoded data removed]",
      "text/plain": [
       "<Figure size 432x288 with 1 Axes>"
      ]
     },
     "metadata": {
      "needs_background": "light"
     },
     "output_type": "display_data"
    }
   ],
   "source": [
    "dessine(np.array([[ 0.08,  0.08,  0.04],\n",
    "                  [ 0.28,  0.28,  0.14],\n",
    "                  [ 0.04,  0.04,  0.02]]))"
   ]
  },
  {
   "cell_type": "code",
   "execution_count": 16,
   "metadata": {},
   "outputs": [
    {
     "data": {
      "image/png": "[encoded data removed]",
      "text/plain": [
       "<Figure size 432x288 with 1 Axes>"
      ]
     },
     "metadata": {
      "needs_background": "light"
     },
     "output_type": "display_data"
    }
   ],
   "source": [
    "NJ = 23\n",
    "a_ =0.003780718336483932\n",
    "\n",
    "NX, NY = normale(NJ, sigma = 1.5)   #N(0,1.5)\n",
    "AX, AY = proba_affine (NJ, a_)  #A(a_)\n",
    "NX_2, NY_2 = normale(NJ)   #N(0,1)\n",
    "\n",
    "\n",
    "PNA = Pxy(NY,AY)   \n",
    "PNA2 = Pxy(NY, NY_2)\n",
    "dessine(PNA)"
   ]
  },
  {
   "cell_type": "code",
   "execution_count": 16,
   "metadata": {},
   "outputs": [
    {
     "data": {
      "image/png": "[encoded data removed]",
      "text/plain": [
       "<Figure size 432x288 with 1 Axes>"
      ]
     },
     "metadata": {
      "needs_background": "light"
     },
     "output_type": "display_data"
    }
   ],
   "source": [
    "dessine(PNA2)"
   ]
  },
  {
   "cell_type": "markdown",
   "metadata": {},
   "source": [
    "## III- Indépendances conditionnelles (<font color=\"red\"> obligatoire</font>)\n",
    "\n",
    "Dans cet exercice, on considère quatre variables aléatoires booléennes $X$, $Y$, $Z$ et $T$ ainsi que leur distribution jointe $P(X,Y,Z,T)$ encodée en python de la manière suivante : "
   ]
  },
  {
   "cell_type": "code",
   "execution_count": 17,
   "metadata": {},
   "outputs": [
    {
     "data": {
      "text/plain": [
       "array([[[0.0192, 0.1728],\n",
       "        [0.0384, 0.0096]],\n",
       "\n",
       "       [[0.0144, 0.1296],\n",
       "        [0.0288, 0.0072]]])"
      ]
     },
     "execution_count": 17,
     "metadata": {},
     "output_type": "execute_result"
    }
   ],
   "source": [
    "# creation de P(X,Y,Z,T)\n",
    "P_XYZT = np.array([[[[ 0.0192,  0.1728],\n",
    "                     [ 0.0384,  0.0096]],\n",
    "\n",
    "                    [[ 0.0768,  0.0512],\n",
    "                     [ 0.016 ,  0.016 ]]],\n",
    "\n",
    "                   [[[ 0.0144,  0.1296],\n",
    "                     [ 0.0288,  0.0072]],\n",
    "\n",
    "                    [[ 0.2016,  0.1344],\n",
    "                     [ 0.042 ,  0.042 ]]]])\n",
    "\n",
    "P_XYZT[:,0]"
   ]
  },
  {
   "cell_type": "markdown",
   "metadata": {},
   "source": [
    "Ainsi, $\\forall (x,y,z,t) \\in \\{0,1\\}^4$, `P_XYZT[x][y][z][t]` correspond à $P(X=x,Y=y,Z=z,T=t)$ ou, en version abrégée, à $P(x,y,z,t)$. "
   ]
  },
  {
   "cell_type": "markdown",
   "metadata": {},
   "source": [
    "### III.1- Indépendance de X et T conditionnellement à (Y,Z)\n",
    "On souhaite tester si les variables aléatoires $X$ et $T$ sont indépendantes conditionnellement à $(Y,Z)$. Il s'agit donc de vérifer que dans la loi $P$, $$P(X,T|Y,Z)=P(X|Y,Z)\\cdot P(T|Y,Z)$$\n",
    "\n",
    "\n",
    "Pour cela, tout d'abord, calculer à partir de `P_XYZT` le tableau `P_YZ` représentant la distribution $P(Y,Z)$. On rappelle que $$P(Y,Z)=\\sum_{X,T} P(X,Y,Z,T)$$\n",
    "\n",
    "Le tableau `P_YZ` est donc un tableau à deux dimensions, dont la première correspond à $Y$ et la deuxième à $Z$. Si vous ne vous êtes pas trompé(e)s, vous devez obtenir le tableau suivant : \n",
    "```\n",
    "np.array([[ 0.336,  0.084],\n",
    "          [ 0.464,  0.116]])\n",
    "```\n",
    "\n",
    "Ainsi $P(Y=0,Z=1)=$ `P_YZ[0][1]` $=0.084$"
   ]
  },
  {
   "cell_type": "code",
   "execution_count": 18,
   "metadata": {},
   "outputs": [
    {
     "data": {
      "text/plain": [
       "array([[0.336, 0.084],\n",
       "       [0.464, 0.116]])"
      ]
     },
     "execution_count": 18,
     "metadata": {},
     "output_type": "execute_result"
    }
   ],
   "source": [
    "##### votre code\n",
    "#Grâce à np.sum on peut additionner sur l'axe 0 qui correspond a la v.a X, \n",
    "#puis sur l'axe 2 qui correspond à la v.a T\n",
    "P_YZ = np.sum(np.sum(P_XYZT,axis=0),axis=2)\n",
    "P_YZ"
   ]
  },
  {
   "cell_type": "markdown",
   "metadata": {},
   "source": [
    "Ensuite, calculer le tableau `P_XTcondYZ` représentant la distribution $P(X,T|Y,Z)$. Ce tableau a donc 4 dimensions, chacune correspondant à une des variables aléatoires. De plus, les valeurs de `P_XTcondYZ` sont obtenues en utilisant la formule des probabilités conditionnelles: $$P(X,T|Y,Z)=\\frac{P(X,Y,Z,T)}{P(Y,Z)}$$"
   ]
  },
  {
   "cell_type": "code",
   "execution_count": 19,
   "metadata": {},
   "outputs": [
    {
     "name": "stdout",
     "output_type": "stream",
     "text": [
      "Le tableau ainsi crée à bien 4 dimensions\n",
      "[[[[0.05714286 0.51428571]\n",
      "   [0.45714286 0.11428571]]\n",
      "\n",
      "  [[0.16551724 0.11034483]\n",
      "   [0.13793103 0.13793103]]]\n",
      "\n",
      "\n",
      " [[[0.04285714 0.38571429]\n",
      "   [0.34285714 0.08571429]]\n",
      "\n",
      "  [[0.43448276 0.28965517]\n",
      "   [0.36206897 0.36206897]]]]\n"
     ]
    }
   ],
   "source": [
    "P_XTcondYZ = P_XYZT.copy()  #On copie le tableau de la loi jointe\n",
    "for i in range(len(P_XTcondYZ)):\n",
    "    for j in range(len(P_XTcondYZ)):\n",
    "        P_XTcondYZ[:,i,j,:] = P_XTcondYZ[:,i,j,:]/P_YZ[i,j]#On doit diviser les dimensions associées entre elles pour les v.a Y et Z \n",
    "\n",
    "print(\"Le tableau ainsi crée à bien %d\"%len(P_XTcondYZ.shape),\"dimensions\")\n",
    "print(P_XTcondYZ)"
   ]
  },
  {
   "cell_type": "markdown",
   "metadata": {},
   "source": [
    "Calculer à partir de `P_XTcondYZ` les tableaux à 3 dimensions `P_XcondYZ` et `P_TcondYZ` représentant respectivement les distributions $P(X|Y,Z)$ et $P(T|Y,Z)$. On rappelle que $$P(X|Y,Z)=∑_Y P(X,T|Y,Z)$$"
   ]
  },
  {
   "cell_type": "code",
   "execution_count": 20,
   "metadata": {},
   "outputs": [
    {
     "name": "stdout",
     "output_type": "stream",
     "text": [
      "[[[0.57142857 0.57142857]\n",
      "  [0.27586207 0.27586207]]\n",
      "\n",
      " [[0.42857143 0.42857143]\n",
      "  [0.72413793 0.72413793]]]\n",
      "\n",
      " [[[0.1 0.9]\n",
      "  [0.8 0.2]]\n",
      "\n",
      " [[0.6 0.4]\n",
      "  [0.5 0.5]]]\n"
     ]
    }
   ],
   "source": [
    "#votre code\n",
    "P_XcondYZ = np.sum(P_XTcondYZ, axis = 3)   #on marginalise sur la v.a T qui correspond à l'axe 3\n",
    "print(P_XcondYZ)\n",
    "P_TcondYZ = np.sum(P_XTcondYZ, axis = 0)   ##on marginalise sur la v.a X qui correspond à l'axe 0\n",
    "print(\"\\n\",P_TcondYZ)"
   ]
  },
  {
   "cell_type": "markdown",
   "metadata": {},
   "source": [
    "Enfin, tester si $X$ et $T$ sont indépendantes conditionnellement à $(Y,Z)$: si c'est bien le cas, on doit avoir $$P(X,T|Y,Z)=P(X|Y,Z)×P(T|Y,Z)$$ "
   ]
  },
  {
   "cell_type": "markdown",
   "metadata": {},
   "source": [
    "### Explication de ma méthode de calcul de : $P(X,T|Y,Z)=P(X|Y,Z)×P(T|Y,Z)$\n",
    "\n",
    "Je n'ai pas vu de manière plus simple que de faire 4 boucles imbriquées pour réaliser ce produit, ce qui est très couteux.\n",
    "Pour le faire j'ai donc décider de passer par le produit tensoriel et la fonction outer.\n",
    "\n",
    "Grâce à celle ci j'ai donc pu obtenir les coefficients correspondant dans chaque sous dimension de la matrice résultat et il ne me restait plus qu'à récupérer les coefficients correspondants."
   ]
  },
  {
   "cell_type": "code",
   "execution_count": 21,
   "metadata": {},
   "outputs": [],
   "source": [
    "MultP_XcondYZ_P_TcondYZ = np.array([[np.multiply.outer(P_XcondYZ, P_TcondYZ)[i,j,0,j] for j in range(len(P_XcondYZ))] for i in range(len(P_XcondYZ)) ])"
   ]
  },
  {
   "cell_type": "code",
   "execution_count": 22,
   "metadata": {},
   "outputs": [
    {
     "data": {
      "text/plain": [
       "array([[[[0.05714286, 0.51428571],\n",
       "         [0.45714286, 0.11428571]],\n",
       "\n",
       "        [[0.16551724, 0.11034483],\n",
       "         [0.13793103, 0.13793103]]],\n",
       "\n",
       "\n",
       "       [[[0.04285714, 0.38571429],\n",
       "         [0.34285714, 0.08571429]],\n",
       "\n",
       "        [[0.43448276, 0.28965517],\n",
       "         [0.36206897, 0.36206897]]]])"
      ]
     },
     "execution_count": 22,
     "metadata": {},
     "output_type": "execute_result"
    }
   ],
   "source": [
    "MultP_XcondYZ_P_TcondYZ"
   ]
  },
  {
   "cell_type": "code",
   "execution_count": 23,
   "metadata": {},
   "outputs": [
    {
     "data": {
      "text/plain": [
       "array([[[[0.05714286, 0.51428571],\n",
       "         [0.45714286, 0.11428571]],\n",
       "\n",
       "        [[0.16551724, 0.11034483],\n",
       "         [0.13793103, 0.13793103]]],\n",
       "\n",
       "\n",
       "       [[[0.04285714, 0.38571429],\n",
       "         [0.34285714, 0.08571429]],\n",
       "\n",
       "        [[0.43448276, 0.28965517],\n",
       "         [0.36206897, 0.36206897]]]])"
      ]
     },
     "execution_count": 23,
     "metadata": {},
     "output_type": "execute_result"
    }
   ],
   "source": [
    "P_XTcondYZ"
   ]
  },
  {
   "cell_type": "markdown",
   "metadata": {},
   "source": [
    "A cause du produit tensoriel et des differentes operations sur les matrices, de legers arrondis peuvent avoir lieu. \n",
    "Exprimer l'egalite de ces deux probabilites grâce à `MultP_XcondYZ_P_TcondYZ == P_XTcondYZ` ne donnerait donc pas un résulat satisfaisant et réaliste. Pour cela j'ai implemente cette fonction equal avec un degre de difference `epsilon`"
   ]
  },
  {
   "cell_type": "code",
   "execution_count": 24,
   "metadata": {},
   "outputs": [
    {
     "data": {
      "text/plain": [
       "True"
      ]
     },
     "execution_count": 24,
     "metadata": {},
     "output_type": "execute_result"
    }
   ],
   "source": [
    "def equal(X,Y, epsilon = 0):\n",
    "    \"\"\"\n",
    "    X: np.array, Y: np.array -> bool\n",
    "    \"\"\"\n",
    "    #Si toutes les variables sont egales a un epsilon pres alors elles valent True i.e 1, \n",
    "    #donc la somme de l'array sur chaque dimension vaudra sa dimension si elles sont toutes vraies\n",
    "    return np.sum(abs(X-Y)<=epsilon) == X.size\n",
    "#print(len(P_XTcondYZ.shape))\n",
    "equal(MultP_XcondYZ_P_TcondYZ,P_XTcondYZ,epsilon)"
   ]
  },
  {
   "cell_type": "markdown",
   "metadata": {},
   "source": [
    "A premiere vue $X$ et $T$ sont bien indépendantes conditionnellement à $(Y,Z)$"
   ]
  },
  {
   "cell_type": "markdown",
   "metadata": {},
   "source": [
    "### III.2- Indépendance de X et (Y,Z)\n",
    "\n",
    "On souhaite maintenant déterminer si $X$ et $(Y,Z)$ sont indépendantes. Pour cela, commencer par calculer à partir de `P_XYZT` le tableau `P_XYZ` représentant la distribution $P(X,Y,Z)$. \n",
    "\n",
    "Ensuite, calculer à partir de `P_XYZ` les tableaux `P_X` et `P_YZ` représentant respectivement les distributions $P(X)$ et $P(Y,Z)$. On rappelle que $$P(X)=∑_Y∑_Z P(X,Y,Z)$$\n",
    "\n",
    "Si vous ne vous êtes pas trompé(e), P_X doit être égal au tableau suivant : \n",
    "```\n",
    "np.array([ 0.4,  0.6])\n",
    "```"
   ]
  },
  {
   "cell_type": "code",
   "execution_count": 25,
   "metadata": {},
   "outputs": [
    {
     "name": "stdout",
     "output_type": "stream",
     "text": [
      "[0.4 0.6]\n"
     ]
    }
   ],
   "source": [
    "#votre code\n",
    "P_XYZ = np.sum(P_XYZT, axis = 3)   #On marginalise sur l'axe qui correspond à T i.e le troisieme\n",
    "P_X = np.sum(np.sum(P_XYZ, axis =2), axis = 1)   #On marginalise P_XYZ sur Z(axe = 2) puis sur Y(axe = 1)\n",
    "print(P_X)"
   ]
  },
  {
   "cell_type": "markdown",
   "metadata": {},
   "source": [
    "Enfin, si $X$ et $(Y,Z)$ sont bien indépendantes, on doit avoir $$P(X,Y,Z)=P(X)×P(Y,Z)$$"
   ]
  },
  {
   "cell_type": "code",
   "execution_count": 26,
   "metadata": {},
   "outputs": [
    {
     "name": "stdout",
     "output_type": "stream",
     "text": [
      "P_XYZ :\n",
      " [[[0.192 0.048]\n",
      "  [0.128 0.032]]\n",
      "\n",
      " [[0.144 0.036]\n",
      "  [0.336 0.084]]]\n",
      "\n",
      "P_X*P_YZ :\n",
      " [[[0.1344 0.0336]\n",
      "  [0.1856 0.0464]]\n",
      "\n",
      " [[0.2016 0.0504]\n",
      "  [0.2784 0.0696]]]\n"
     ]
    },
    {
     "data": {
      "text/plain": [
       "False"
      ]
     },
     "execution_count": 26,
     "metadata": {},
     "output_type": "execute_result"
    }
   ],
   "source": [
    "#votre code\n",
    "print(\"P_XYZ :\\n\",P_XYZ)\n",
    "\n",
    "MultP_X_P_YZ = np.array([i*P_YZ for i in P_X])\n",
    "print(\"\\nP_X*P_YZ :\\n\", MultP_X_P_YZ)\n",
    "equal(P_XYZ,MultP_X_P_YZ,epsilon)"
   ]
  },
  {
   "cell_type": "markdown",
   "metadata": {},
   "source": [
    "$X$ et $(Y,Z)$ ne sont donc pas indépendantes a priori."
   ]
  },
  {
   "cell_type": "markdown",
   "metadata": {},
   "source": [
    "## IV- Indépendances conditionnelles et consommation mémoire  (<font color=\"red\"> obligatoire</font>)\n",
    "\n",
    "Le but de cet exercice est d'exploiter les probabilités conditionnelles et les indépendances conditionnelles afin de décomposer une probabilité jointe en un produit de \"petites probabilités conditionnelles\". Cela permet de stocker des probabilités jointes de grandes tailles sur des ordinateurs \"standards\". Au cours de l'exercice, vous allez donc partir d'une probabilité jointe et, progressivement, construire un programme qui identifie ces indépendances conditionnelles.\n",
    "\n",
    "Pour simplifier, dans la suite de cet exercice, nous allons considérer un ensemble $X_0,…,X_n$ de variables aléatoires binaires (elles ne peuvent prendre que 2 valeurs : 0 et 1). \n",
    "\n",
    "### Simplification du code : utilisation de pyAgrum\n",
    "\n",
    "Manipuler des probabilités et des opérations sur des probabilités complexes est difficiles avec les outils classiques. La difficulté principale est certainement le problème du mapping entre axe et variable aléatoire. `pyAgrum` propose une gestion de `Potential` qui sont des tableaux multidimensionnels dont les axes sont caractérisés par des variables et sont donc non ambigüs.\n",
    "\n",
    "Par exemple, après l'initiation du `Potential PABCD` :"
   ]
  },
  {
   "cell_type": "code",
   "execution_count": 27,
   "metadata": {},
   "outputs": [],
   "source": [
    "import pyAgrum as gum\n",
    "import pyAgrum.lib.notebook as gnb\n",
    "\n",
    "X,Y,Z,T=[gum.LabelizedVariable(x,x,2) for x in \"XYZT\"]\n",
    "pXYZT=gum.Potential().add(T).add(Z).add(Y).add(X)\n",
    "pXYZT[:]=[[[[ 0.0192,  0.1728],\n",
    "            [ 0.0384,  0.0096]],\n",
    "           [[ 0.0768,  0.0512],\n",
    "            [ 0.016 ,  0.016 ]]],\n",
    "          [[[ 0.0144,  0.1296],\n",
    "            [ 0.0288,  0.0072]],\n",
    "           [[ 0.2016,  0.1344],\n",
    "            [ 0.042 ,  0.042 ]]]]"
   ]
  },
  {
   "cell_type": "markdown",
   "metadata": {},
   "source": [
    "On peut alors utiliser la méthode `margSumOut` qui supprime les variables par sommations: `p.margSumOut(['X','Y'])` correspond à calculer $\\sum_{X,Y} p$\n",
    "\n",
    "La réponse a question III.1 se calcule donc ainsi :"
   ]
  },
  {
   "cell_type": "code",
   "execution_count": 28,
   "metadata": {},
   "outputs": [
    {
     "name": "stdout",
     "output_type": "stream",
     "text": [
      "=> X et T sont indépendants conditionnellemnt à Y et Z\n"
     ]
    }
   ],
   "source": [
    "pXT_YZ=pXYZT/pXYZT.margSumOut(['X','T'])\n",
    "\n",
    "pX_YZ=pXT_YZ.margSumOut(['T'])\n",
    "pT_YZ=pXT_YZ.margSumOut(['X'])\n",
    "\n",
    "if pXT_YZ==pX_YZ*pT_YZ:\n",
    "    print(\"=> X et T sont indépendants conditionnellemnt à Y et Z\")\n",
    "else:\n",
    "    print(\"=> pas d'indépendance trouvée\")\n"
   ]
  },
  {
   "cell_type": "code",
   "execution_count": 29,
   "metadata": {},
   "outputs": [
    {
     "data": {
      "text/html": [
       "<table style=\"border:1px solid black;\">\n",
       "<tr><th colspan='3'></th><th colspan='2' style='border:1px solid black;color:black;background-color:#808080;'><center>Z</center></th></tr>\n",
       "<tr><th style='border:1px solid black;color:black;background-color:#808080'><center>X</center></th><th style='border:1px solid black;color:black;background-color:#808080'><center>T</center></th><th style='border:1px solid black;color:black;background-color:#808080'><center>Y</center></th><th style='border:1px solid black;border-bottom-style: double;color:black;background-color:#BBBBBB'><center>0</center></th><th style='border:1px solid black;border-bottom-style: double;color:black;background-color:#BBBBBB'><center>1</center></th></tr>\n",
       "<tr><th style='border:1px solid black;color:black;background-color:#BBBBBB;' rowspan = '4'><center>0</center></th><th style='border:1px solid black;color:black;background-color:#BBBBBB;' rowspan = '2'><center>0</center></th><th style='border:1px solid black;color:black;background-color:#BBBBBB'><center>0</center></th><td style='text-align:right;'>0.0571</td><td style='text-align:right;'>0.4571</td></tr>\n",
       "<tr><th style='border:1px solid black;color:black;background-color:#BBBBBB'><center>1</center></th><td style='text-align:right;'>0.1655</td><td style='text-align:right;'>0.1379</td></tr>\n",
       "<tr><th style='border:1px solid black;color:black;background-color:#BBBBBB;' rowspan = '2'><center>1</center></th><th style='border:1px solid black;color:black;background-color:#BBBBBB'><center>0</center></th><td style='text-align:right;'>0.5143</td><td style='text-align:right;'>0.1143</td></tr>\n",
       "<tr><th style='border:1px solid black;color:black;background-color:#BBBBBB'><center>1</center></th><td style='text-align:right;'>0.1103</td><td style='text-align:right;'>0.1379</td></tr>\n",
       "<tr><th style='border:1px solid black;color:black;background-color:#BBBBBB;' rowspan = '4'><center>1</center></th><th style='border:1px solid black;color:black;background-color:#BBBBBB;' rowspan = '2'><center>0</center></th><th style='border:1px solid black;color:black;background-color:#BBBBBB'><center>0</center></th><td style='text-align:right;'>0.0429</td><td style='text-align:right;'>0.3429</td></tr>\n",
       "<tr><th style='border:1px solid black;color:black;background-color:#BBBBBB'><center>1</center></th><td style='text-align:right;'>0.4345</td><td style='text-align:right;'>0.3621</td></tr>\n",
       "<tr><th style='border:1px solid black;color:black;background-color:#BBBBBB;' rowspan = '2'><center>1</center></th><th style='border:1px solid black;color:black;background-color:#BBBBBB'><center>0</center></th><td style='text-align:right;'>0.3857</td><td style='text-align:right;'>0.0857</td></tr>\n",
       "<tr><th style='border:1px solid black;color:black;background-color:#BBBBBB'><center>1</center></th><td style='text-align:right;'>0.2897</td><td style='text-align:right;'>0.3621</td></tr>\n",
       "</table>"
      ],
      "text/plain": [
       "(gum::Potential<double>@0x7f8b85e60ee0) <Z:0|Y:0|T:0|X:0> :: 0.0571429 /<Z:1|Y:0|T:0|X:0> :: 0.457143 /<Z:0|Y:1|T:0|X:0> :: 0.165517 /<Z:1|Y:1|T:0|X:0> :: 0.137931 /<Z:0|Y:0|T:1|X:0> :: 0.514286 /<Z:1|Y:0|T:1|X:0> :: 0.114286 /<Z:0|Y:1|T:1|X:0> :: 0.110345 /<Z:1|Y:1|T:1|X:0> :: 0.137931 /<Z:0|Y:0|T:0|X:1> :: 0.0428571 /<Z:1|Y:0|T:0|X:1> :: 0.342857 /<Z:0|Y:1|T:0|X:1> :: 0.434483 /<Z:1|Y:1|T:0|X:1> :: 0.362069 /<Z:0|Y:0|T:1|X:1> :: 0.385714 /<Z:1|Y:0|T:1|X:1> :: 0.0857143 /<Z:0|Y:1|T:1|X:1> :: 0.289655 /<Z:1|Y:1|T:1|X:1> :: 0.362069"
      ]
     },
     "execution_count": 29,
     "metadata": {},
     "output_type": "execute_result"
    }
   ],
   "source": [
    "pXT_YZ"
   ]
  },
  {
   "cell_type": "markdown",
   "metadata": {},
   "source": [
    "La réponse à la question III.2 se calcule ainsi :"
   ]
  },
  {
   "cell_type": "code",
   "execution_count": 30,
   "metadata": {},
   "outputs": [
    {
     "name": "stdout",
     "output_type": "stream",
     "text": [
      "=> pas d'indépendance trouvée\n"
     ]
    }
   ],
   "source": [
    "pXYZ=pXYZT.margSumOut(\"T\")\n",
    "pYZ=pXYZ.margSumOut(\"X\")\n",
    "pX=pXYZ.margSumOut([\"Y\",\"Z\"])\n",
    "if pXYZ==pX*pYZ:\n",
    "    print(\"=> X et YZ sont indépendants\")\n",
    "else:\n",
    "    print(\"=> pas d'indépendance trouvée\")"
   ]
  },
  {
   "cell_type": "code",
   "execution_count": 31,
   "metadata": {},
   "outputs": [
    {
     "data": {
      "text/html": [
       "<table style=\"border-style: hidden; border-collapse: collapse;\" width=\"100%\"><tr><td style=\"border-top:hidden;border-bottom:hidden;\"><div align=\"center\" style=\"\"><table style=\"border:1px solid black;\">\n",
       "<tr><th colspan='2'></th><th colspan='2' style='border:1px solid black;color:black;background-color:#808080;'><center>Z</center></th></tr>\n",
       "<tr><th style='border:1px solid black;color:black;background-color:#808080'><center>X</center></th><th style='border:1px solid black;color:black;background-color:#808080'><center>Y</center></th><th style='border:1px solid black;border-bottom-style: double;color:black;background-color:#BBBBBB'><center>0</center></th><th style='border:1px solid black;border-bottom-style: double;color:black;background-color:#BBBBBB'><center>1</center></th></tr>\n",
       "<tr><th style='border:1px solid black;color:black;background-color:#BBBBBB;' rowspan = '2'><center>0</center></th><th style='border:1px solid black;color:black;background-color:#BBBBBB'><center>0</center></th><td style='color:black;background-color:#e69764;text-align:right;'>0.1920</td><td style='color:black;background-color:#f88564;text-align:right;'>0.0480</td></tr>\n",
       "<tr><th style='border:1px solid black;color:black;background-color:#BBBBBB'><center>1</center></th><td style='color:black;background-color:#ee8f64;text-align:right;'>0.1280</td><td style='color:black;background-color:#fa8364;text-align:right;'>0.0320</td></tr>\n",
       "<tr><th style='border:1px solid black;color:black;background-color:#BBBBBB;' rowspan = '2'><center>1</center></th><th style='border:1px solid black;color:black;background-color:#BBBBBB'><center>0</center></th><td style='color:black;background-color:#ec9164;text-align:right;'>0.1440</td><td style='color:black;background-color:#fa8364;text-align:right;'>0.0360</td></tr>\n",
       "<tr><th style='border:1px solid black;color:black;background-color:#BBBBBB'><center>1</center></th><td style='color:black;background-color:#d3aa64;text-align:right;'>0.3360</td><td style='color:black;background-color:#f48964;text-align:right;'>0.0840</td></tr>\n",
       "</table></div></td><td style=\"border-top:hidden;border-bottom:hidden;\"><div align=\"center\" style=\"\"><table style=\"border:1px solid black;\">\n",
       "<tr style='border:1px solid black;color:black;background-color:#808080'><th colspan='2'><center>X</center></th></tr>\n",
       "<tr><th style='border:1px solid black;border-bottom-style: double;color:black;background-color:#BBBBBB'><center>0</center></th><th style='border:1px solid black;border-bottom-style: double;color:black;background-color:#BBBBBB'><center>1</center></th></tr>\n",
       "<tr><td style='color:black;background-color:#cbb264;text-align:right;'>0.4000</td><td style='color:black;background-color:#b2cb64;text-align:right;'>0.6000</td></tr>\n",
       "</table></div></td><td style=\"border-top:hidden;border-bottom:hidden;\"><div align=\"center\" style=\"\"><table style=\"border:1px solid black;\">\n",
       "<tr><th colspan='1'></th><th colspan='2' style='border:1px solid black;color:black;background-color:#808080;'><center>Z</center></th></tr>\n",
       "<tr><th style='border:1px solid black;color:black;background-color:#808080'><center>Y</center></th><th style='border:1px solid black;border-bottom-style: double;color:black;background-color:#BBBBBB'><center>0</center></th><th style='border:1px solid black;border-bottom-style: double;color:black;background-color:#BBBBBB'><center>1</center></th></tr>\n",
       "<tr><th style='border:1px solid black;color:black;background-color:#BBBBBB'><center>0</center></th><td style='color:black;background-color:#d3aa64;text-align:right;'>0.3360</td><td style='color:black;background-color:#f48964;text-align:right;'>0.0840</td></tr>\n",
       "<tr><th style='border:1px solid black;color:black;background-color:#BBBBBB'><center>1</center></th><td style='color:black;background-color:#c3ba64;text-align:right;'>0.4640</td><td style='color:black;background-color:#f08d64;text-align:right;'>0.1160</td></tr>\n",
       "</table></div></td><td style=\"border-top:hidden;border-bottom:hidden;\"><div align=\"center\" style=\"\"><table style=\"border:1px solid black;\">\n",
       "<tr><th colspan='2'></th><th colspan='2' style='border:1px solid black;color:black;background-color:#808080;'><center>Z</center></th></tr>\n",
       "<tr><th style='border:1px solid black;color:black;background-color:#808080'><center>X</center></th><th style='border:1px solid black;color:black;background-color:#808080'><center>Y</center></th><th style='border:1px solid black;border-bottom-style: double;color:black;background-color:#BBBBBB'><center>0</center></th><th style='border:1px solid black;border-bottom-style: double;color:black;background-color:#BBBBBB'><center>1</center></th></tr>\n",
       "<tr><th style='border:1px solid black;color:black;background-color:#BBBBBB;' rowspan = '2'><center>0</center></th><th style='border:1px solid black;color:black;background-color:#BBBBBB'><center>0</center></th><td style='color:black;background-color:#ed9064;text-align:right;'>0.1344</td><td style='color:black;background-color:#fa8364;text-align:right;'>0.0336</td></tr>\n",
       "<tr><th style='border:1px solid black;color:black;background-color:#BBBBBB'><center>1</center></th><td style='color:black;background-color:#e79664;text-align:right;'>0.1856</td><td style='color:black;background-color:#f98464;text-align:right;'>0.0464</td></tr>\n",
       "<tr><th style='border:1px solid black;color:black;background-color:#BBBBBB;' rowspan = '2'><center>1</center></th><th style='border:1px solid black;color:black;background-color:#BBBBBB'><center>0</center></th><td style='color:black;background-color:#e59864;text-align:right;'>0.2016</td><td style='color:black;background-color:#f88564;text-align:right;'>0.0504</td></tr>\n",
       "<tr><th style='border:1px solid black;color:black;background-color:#BBBBBB'><center>1</center></th><td style='color:black;background-color:#dba264;text-align:right;'>0.2784</td><td style='color:black;background-color:#f68764;text-align:right;'>0.0696</td></tr>\n",
       "</table></div></td></tr><tr><td style=\"border-top:hidden;border-bottom:hidden;\"><div align=\"center\"><small>$P(X,Y,Z)$</small></div></td><td style=\"border-top:hidden;border-bottom:hidden;\"><div align=\"center\"><small>$P(X)$</small></div></td><td style=\"border-top:hidden;border-bottom:hidden;\"><div align=\"center\"><small>$P(Y,Z)$</small></div></td><td style=\"border-top:hidden;border-bottom:hidden;\"><div align=\"center\"><small>$P(X)\\cdot P(Y,Z)$</small></div></td></tr></table>"
      ],
      "text/plain": [
       "<IPython.core.display.HTML object>"
      ]
     },
     "metadata": {},
     "output_type": "display_data"
    }
   ],
   "source": [
    "gnb.sideBySide(pXYZ,pX,pYZ,pX*pYZ,\n",
    "               captions=['$P(X,Y,Z)$','$P(X)$','$P(Y,Z)$','$P(X)\\cdot P(Y,Z)$'])"
   ]
  },
  {
   "cell_type": "markdown",
   "metadata": {},
   "source": [
    "`asia.txt` contient la description d'une probabilité jointe sur un ensemble de $8$ variables aléatoires binaires (256 paramètres). Le fichier est produit à partir du site web suivant `http://www.bnlearn.com/bnrepository/`.\n",
    "\n",
    "Le code suivant permet de lire ce fichier et d'en récupérer la probabilité jointe (sous forme d'une `gum.Potential`) qu'il contient : "
   ]
  },
  {
   "cell_type": "code",
   "execution_count": 50,
   "metadata": {},
   "outputs": [
    {
     "name": "stdout",
     "output_type": "stream",
     "text": [
      "Les variables : ['visit_to_Asia?', 'tuberculosis?', 'smoking?', 'lung_cancer?', 'tuberculosis_or_lung_cancer?', 'bronchitis?', 'positive_Xray?', 'dyspnoea?']\n"
     ]
    }
   ],
   "source": [
    "def read_file ( filename ):\n",
    "    \"\"\"\n",
    "    Renvoie les variables aléatoires et la probabilité contenues dans le\n",
    "    fichier dont le nom est passé en argument.\n",
    "    \"\"\"\n",
    "    Pres = gum.Potential ()\n",
    "    vars=[]\n",
    "\n",
    "    with open ( filename, 'r' ) as fic:\n",
    "        # on rajoute les variables dans le potentiel\n",
    "        nb_vars = int ( fic.readline () )\n",
    "        for i in range ( nb_vars ):\n",
    "            name, domsize = fic.readline ().split ()\n",
    "            vars.append(name)\n",
    "            variable = gum.LabelizedVariable(name,name,int (domsize))\n",
    "            Pres.add(variable)\n",
    "\n",
    "        # on rajoute les valeurs de proba dans le potentiel\n",
    "        cpt = []\n",
    "        for line in fic:\n",
    "            cpt.append ( float(line) )\n",
    "        Pres.fillWith( cpt )\n",
    "    return vars,Pres\n",
    "\n",
    "vars,Pjointe=read_file('asia.txt')\n",
    "# afficher Pjointe est un peu délicat (retire le commentaire de la ligne suivante)\n",
    "# Pjointe\n",
    "\n",
    "print('Les variables : '+str(vars))"
   ]
  },
  {
   "cell_type": "code",
   "execution_count": 51,
   "metadata": {},
   "outputs": [
    {
     "data": {
      "text/html": [
       "<table style=\"border:1px solid black;\">\n",
       "<tr><th colspan='1'></th><th colspan='2' style='border:1px solid black;color:black;background-color:#808080;'><center>tuberculosis?</center></th></tr>\n",
       "<tr><th style='border:1px solid black;color:black;background-color:#808080'><center>lung_cancer?</center></th><th style='border:1px solid black;border-bottom-style: double;color:black;background-color:#BBBBBB'><center>0</center></th><th style='border:1px solid black;border-bottom-style: double;color:black;background-color:#BBBBBB'><center>1</center></th></tr>\n",
       "<tr><th style='border:1px solid black;color:black;background-color:#BBBBBB'><center>0</center></th><td style='color:black;background-color:#fe7f64;text-align:right;'>0.0006</td><td style='color:black;background-color:#f88564;text-align:right;'>0.0544</td></tr>\n",
       "<tr><th style='border:1px solid black;color:black;background-color:#BBBBBB'><center>1</center></th><td style='color:black;background-color:#fd8064;text-align:right;'>0.0098</td><td style='color:black;background-color:#87f664;text-align:right;'>0.9352</td></tr>\n",
       "</table>"
      ],
      "text/plain": [
       "(gum::Potential<double>@0x7f8b85cbb9c0) <tuberculosis?:0|lung_cancer?:0> :: 0.000572 /<tuberculosis?:1|lung_cancer?:0> :: 0.054428 /<tuberculosis?:0|lung_cancer?:1> :: 0.009828 /<tuberculosis?:1|lung_cancer?:1> :: 0.935172"
      ]
     },
     "execution_count": 51,
     "metadata": {},
     "output_type": "execute_result"
    }
   ],
   "source": [
    "# Noter qu'il existe une fonction margSumIn qui, à l'inverse de MargSumOut, élimine \n",
    "# toutes les variables qui ne sont pas dans les arguments\n",
    "Pjointe.margSumIn(['tuberculosis?','lung_cancer?'])"
   ]
  },
  {
   "cell_type": "markdown",
   "metadata": {},
   "source": [
    "### IV.1- test d'indépendance conditionnelle\n",
    "\n",
    "En utilisant la méthode `margSumIn` (voir juste au dessus), écrire une fonction `conditional_indep: Potential,str,str,list[str]->bool` qui rend vrai si dans le `Potential`, on peut lire l'indépendance conditionnelle.\n",
    "\n",
    "Par exemple, l'appel\n",
    "\n",
    "`conditional_indep(Pjointe,'bronchitis?', 'positive_Xray?',['tuberculosis?','lung_cancer?'])` \n",
    "\n",
    "vérifie si `bronchitis` est indépendant de `posititve_Xray` conditionnellement à `tuberculosis?` et `lung_cancer?`\n",
    "\n",
    "D'un point de vue général, on vérifie que $X$ et $Y$ sont indépendants conditionnellement à $Z_1,\\cdots,Z_d$ par l'égalité :\n",
    "$$P(X,Y|Z_1,\\cdots,Z_d)=P(X|Z_1,\\cdot,Z_d)\\cdot P(Y|Z_1,\\cdots,Z_d)$$\n",
    "\n",
    "Ces trois probabilités sont calculables à partir de la loi jointe de $P(X,Y,Z_1,\\cdots,Z_d)$.\n",
    "\n",
    "<em>Remarque</em> Vérifier l'égalité `P==Q` de 2 `Potential` peut être problématique si les 2 sont des résultats de calcul : il peut exister une petite variation. Un meilleur test est de vérifier `(P-Q).abs().max()<epsilon` avec `epsilon` assez petit."
   ]
  },
  {
   "cell_type": "code",
   "execution_count": 52,
   "metadata": {},
   "outputs": [],
   "source": [
    "def conditional_indep(P,X,Y,Zs):\n",
    "    \"\"\"\n",
    "    P : Potential, X : str, Y : str, Z : list[str] -> bool\n",
    "    \"\"\"\n",
    "    #votre code\n",
    "    if len(Zs) == 0:\n",
    "        pXY_Zs = P\n",
    "    else:\n",
    "        pXY_Zs = P/P.margSumIn(Zs)\n",
    "    pX_Zs = pXY_Zs.margSumOut([Y])\n",
    "    pY_Zs = pXY_Zs.margSumOut([X])\n",
    "    if (pXY_Zs-pX_Zs*pY_Zs).abs().max()<epsilon == False:\n",
    "        return False\n",
    "    return True"
   ]
  },
  {
   "cell_type": "code",
   "execution_count": 53,
   "metadata": {},
   "outputs": [
    {
     "data": {
      "text/plain": [
       "True"
      ]
     },
     "execution_count": 53,
     "metadata": {},
     "output_type": "execute_result"
    }
   ],
   "source": [
    "conditional_indep(Pjointe,\n",
    "                  'bronchitis?', \n",
    "                  'positive_Xray?',\n",
    "                  ['tuberculosis?','lung_cancer?'])"
   ]
  },
  {
   "cell_type": "code",
   "execution_count": 54,
   "metadata": {},
   "outputs": [
    {
     "data": {
      "text/plain": [
       "True"
      ]
     },
     "execution_count": 54,
     "metadata": {},
     "output_type": "execute_result"
    }
   ],
   "source": [
    "conditional_indep(Pjointe,'bronchitis?', 'visit_to_Asia?',[])"
   ]
  },
  {
   "cell_type": "markdown",
   "metadata": {},
   "source": [
    "### IV.2- Factorisation compacte de loi jointe\n",
    "\n",
    "On sait que si un ensemble de variables aléatoires ${\\cal S} = \\{X_{i_0},\\ldots,X_{i_{n-1}}\\}$ peut être partitionné en deux sous-ensembles $\\cal K$ et $\\cal L$ (c'est-à-dire tels que ${\\cal K} \\cap {\\cal L} = \\emptyset$ et ${\\cal K} \\cup {\\cal L} = \\{X_{i_0},\\ldots,X_{i_{n-1}}\\}$) tels qu'une variable $X_{i_n}$ est indépendante de ${\\cal L}$ conditionnellement à ${\\cal K}$, alors:\n",
    "\n",
    "$$P(X_{i_n}|X_{i_0},\\ldots,X_{i_{n-1}}) = P(X_{i_n} | {\\cal K},{\\cal L}) = P(X_{i_n} | {\\cal K})$$\n",
    "\n",
    "C'est ce que nous avons vu au cours n°2 (cf. définition des probabilités conditionnelles). Cette formule est intéressante car elle permet de réduire la taille mémoire consommée pour stocker $P(X_{i_n}|X_{i_0},\\ldots,X_{i_{n-1}})$: il suffit en effet de stocker uniquement $P(X_{i_n} | {\\cal K})$ pour obtenir la même information."
   ]
  },
  {
   "cell_type": "markdown",
   "metadata": {},
   "source": [
    "Écrire une fonction `compact_conditional_proba: Potential,str-> Potential` qui, étant donné une probabilité jointe $P(X_{i_0},\\ldots,X_{i_n})$, une variable aléatoire $X_{i_n}$, retourne cette probabilité conditionnelle $P(X_{i_n} | {\\cal K})$. Pour cela, nous vous proposons l'algorithme itératif suivant:\n",
    "\n",
    "```\n",
    "K=S\n",
    "Pour tout X in K:\n",
    "  Si X indépendante de Xin conditionnellement à K\\{X) alors\n",
    "    Supprimer X de K\n",
    "retourner P(Xin|K)$\n",
    "```\n",
    "\n",
    "Trois petites aides :\n",
    "\n",
    "1- La fonction precédente `conditional_indep` devrait vous servir...\n",
    "\n",
    "2- Obtenir la liste des noms des variables dans un `Potential` se fait par l'attribut  \n",
    "```\n",
    "P.var_names\n",
    "```\n",
    "\n",
    "3- Afin que l'affichage soit plus facile à comprendre, il peut être judicieux de placer la variable $X_{i_n}$ en premier dans la liste des variables du Potential, ce que l'on peut faire avec le code suivant : \n",
    "```\n",
    "proba = proba.putFirst(Xin)\n",
    "```\n",
    "\n"
   ]
  },
  {
   "cell_type": "code",
   "execution_count": 55,
   "metadata": {},
   "outputs": [],
   "source": [
    "def compact_conditional_proba(P,X):\n",
    "    #votre code\n",
    "    \"\"\"\n",
    "    P : Potential, X : str-> Potential\n",
    "    \"\"\"\n",
    "    K = P.var_names\n",
    "    print(K)\n",
    "    P = P.putFirst(X)\n",
    "    for X_i in K:\n",
    "        if conditional_indep(P, X_i,X,[i for i in K if i!=X ]):\n",
    "            K.remove(X_i)\n",
    "    return P.margSumOut(K)"
   ]
  },
  {
   "cell_type": "code",
   "execution_count": 56,
   "metadata": {},
   "outputs": [
    {
     "name": "stdout",
     "output_type": "stream",
     "text": [
      "['dyspnoea?', 'positive_Xray?', 'bronchitis?', 'tuberculosis_or_lung_cancer?', 'lung_cancer?', 'smoking?', 'tuberculosis?', 'visit_to_Asia?']\n"
     ]
    },
    {
     "data": {
      "text/html": [
       "<table style=\"border:1px solid black;\">\n",
       "<tr><th colspan='3'></th><th colspan='2' style='border:1px solid black;color:black;background-color:#808080;'><center>tuberculosis?</center></th></tr>\n",
       "<tr><th style='border:1px solid black;color:black;background-color:#808080'><center>dyspnoea?</center></th><th style='border:1px solid black;color:black;background-color:#808080'><center>bronchitis?</center></th><th style='border:1px solid black;color:black;background-color:#808080'><center>lung_cancer?</center></th><th style='border:1px solid black;border-bottom-style: double;color:black;background-color:#BBBBBB'><center>0</center></th><th style='border:1px solid black;border-bottom-style: double;color:black;background-color:#BBBBBB'><center>1</center></th></tr>\n",
       "<tr><th style='border:1px solid black;color:black;background-color:#BBBBBB;' rowspan = '4'><center>0</center></th><th style='border:1px solid black;color:black;background-color:#BBBBBB;' rowspan = '2'><center>0</center></th><th style='border:1px solid black;color:black;background-color:#BBBBBB'><center>0</center></th><td style='color:black;background-color:#fe7f64;text-align:right;'>0.0003</td><td style='color:black;background-color:#fb8264;text-align:right;'>0.0280</td></tr>\n",
       "<tr><th style='border:1px solid black;color:black;background-color:#BBBBBB'><center>1</center></th><td style='color:black;background-color:#fe7f64;text-align:right;'>0.0039</td><td style='color:black;background-color:#d9a464;text-align:right;'>0.2907</td></tr>\n",
       "<tr><th style='border:1px solid black;color:black;background-color:#BBBBBB;' rowspan = '2'><center>1</center></th><th style='border:1px solid black;color:black;background-color:#BBBBBB'><center>0</center></th><td style='color:black;background-color:#fe7f64;text-align:right;'>0.0002</td><td style='color:black;background-color:#fc8164;text-align:right;'>0.0184</td></tr>\n",
       "<tr><th style='border:1px solid black;color:black;background-color:#BBBBBB'><center>1</center></th><td style='color:black;background-color:#fe7f64;text-align:right;'>0.0043</td><td style='color:black;background-color:#f78664;text-align:right;'>0.0557</td></tr>\n",
       "<tr><th style='border:1px solid black;color:black;background-color:#BBBBBB;' rowspan = '4'><center>1</center></th><th style='border:1px solid black;color:black;background-color:#BBBBBB;' rowspan = '2'><center>0</center></th><th style='border:1px solid black;color:black;background-color:#BBBBBB'><center>0</center></th><td style='color:black;background-color:#fe7f64;text-align:right;'>0.0000</td><td style='color:black;background-color:#fe7f64;text-align:right;'>0.0032</td></tr>\n",
       "<tr><th style='border:1px solid black;color:black;background-color:#BBBBBB'><center>1</center></th><td style='color:black;background-color:#fe7f64;text-align:right;'>0.0004</td><td style='color:black;background-color:#ef8e64;text-align:right;'>0.1234</td></tr>\n",
       "<tr><th style='border:1px solid black;color:black;background-color:#BBBBBB;' rowspan = '2'><center>1</center></th><th style='border:1px solid black;color:black;background-color:#BBBBBB'><center>0</center></th><td style='color:black;background-color:#fe7f64;text-align:right;'>0.0001</td><td style='color:black;background-color:#fe7f64;text-align:right;'>0.0048</td></tr>\n",
       "<tr><th style='border:1px solid black;color:black;background-color:#BBBBBB'><center>1</center></th><td style='color:black;background-color:#fe7f64;text-align:right;'>0.0011</td><td style='color:black;background-color:#c3ba64;text-align:right;'>0.4653</td></tr>\n",
       "</table>"
      ],
      "text/plain": [
       "(gum::Potential<double>@0x7f8b85d4fea0) <tuberculosis?:0|lung_cancer?:0|bronchitis?:0|dyspnoea?:0> :: 0.000294185 /<tuberculosis?:1|lung_cancer?:0|bronchitis?:0|dyspnoea?:0> :: 0.0279928 /<tuberculosis?:0|lung_cancer?:1|bronchitis?:0|dyspnoea?:0> :: 0.00390846 /<tuberculosis?:1|lung_cancer?:1|bronchitis?:0|dyspnoea?:0> :: 0.290732 /<tuberculosis?:0|lung_cancer?:0|bronchitis?:1|dyspnoea?:0> :: 0.000193809 /<tuberculosis?:1|lung_cancer?:0|bronchitis?:1|dyspnoea?:0> :: 0.0184417 /<tuberculosis?:0|lung_cancer?:1|bronchitis?:1|dyspnoea?:0> :: 0.00434215 /<tuberculosis?:1|lung_cancer?:1|bronchitis?:1|dyspnoea?:0> :: 0.0557496 /<tuberculosis?:0|lung_cancer?:0|bronchitis?:0|dyspnoea?:1> :: 3.34152e-05 /<tuberculosis?:1|lung_cancer?:0|bronchitis?:0|dyspnoea?:1> :: 0.00317958 /<tuberculosis?:0|lung_cancer?:1|bronchitis?:0|dyspnoea?:1> :: 0.000443945 /<tuberculosis?:1|lung_cancer?:1|bronchitis?:0|dyspnoea?:1> :: 0.123416 /<tuberculosis?:0|lung_cancer?:0|bronchitis?:1|dyspnoea?:1> :: 5.05908e-05 /<tuberculosis?:1|lung_cancer?:0|bronchitis?:1|dyspnoea?:1> :: 0.00481391 /<tuberculosis?:0|lung_cancer?:1|bronchitis?:1|dyspnoea?:1> :: 0.00113345 /<tuberculosis?:1|lung_cancer?:1|bronchitis?:1|dyspnoea?:1> :: 0.465275"
      ]
     },
     "execution_count": 56,
     "metadata": {},
     "output_type": "execute_result"
    }
   ],
   "source": [
    "compact_conditional_proba(Pjointe,\"visit_to_Asia?\")"
   ]
  },
  {
   "cell_type": "code",
   "execution_count": 57,
   "metadata": {},
   "outputs": [
    {
     "name": "stdout",
     "output_type": "stream",
     "text": [
      "['positive_Xray?', 'tuberculosis_or_lung_cancer?', 'smoking?', 'visit_to_Asia?']\n"
     ]
    },
    {
     "data": {
      "text/html": [
       "<table style=\"border:1px solid black;\">\n",
       "<tr><th colspan='5'></th><th colspan='2' style='border:1px solid black;color:black;background-color:#808080;'><center>dyspnoea?</center></th></tr>\n",
       "<tr><th style='border:1px solid black;color:black;background-color:#808080'><center>positive_Xray?</center></th><th style='border:1px solid black;color:black;background-color:#808080'><center>bronchitis?</center></th><th style='border:1px solid black;color:black;background-color:#808080'><center>lung_cancer?</center></th><th style='border:1px solid black;color:black;background-color:#808080'><center>smoking?</center></th><th style='border:1px solid black;color:black;background-color:#808080'><center>tuberculosis?</center></th><th style='border:1px solid black;border-bottom-style: double;color:black;background-color:#BBBBBB'><center>0</center></th><th style='border:1px solid black;border-bottom-style: double;color:black;background-color:#BBBBBB'><center>1</center></th></tr>\n",
       "<tr><th style='border:1px solid black;color:black;background-color:#BBBBBB;' rowspan = '16'><center>0</center></th><th style='border:1px solid black;color:black;background-color:#BBBBBB;' rowspan = '8'><center>0</center></th><th style='border:1px solid black;color:black;background-color:#BBBBBB;' rowspan = '4'><center>0</center></th><th style='border:1px solid black;color:black;background-color:#BBBBBB;' rowspan = '2'><center>0</center></th><th style='border:1px solid black;color:black;background-color:#BBBBBB'><center>0</center></th><td style='color:black;background-color:#fe7f64;text-align:right;'>0.0003</td><td style='color:black;background-color:#fe7f64;text-align:right;'>0.0000</td></tr>\n",
       "<tr><th style='border:1px solid black;color:black;background-color:#BBBBBB'><center>1</center></th><td style='color:black;background-color:#fb8264;text-align:right;'>0.0259</td><td style='color:black;background-color:#fe7f64;text-align:right;'>0.0029</td></tr>\n",
       "<tr><th style='border:1px solid black;color:black;background-color:#BBBBBB;' rowspan = '2'><center>1</center></th><th style='border:1px solid black;color:black;background-color:#BBBBBB'><center>0</center></th><td style='color:black;background-color:#fe7f64;text-align:right;'>0.0000</td><td style='color:black;background-color:#fe7f64;text-align:right;'>0.0000</td></tr>\n",
       "<tr><th style='border:1px solid black;color:black;background-color:#BBBBBB'><center>1</center></th><td style='color:black;background-color:#fe7f64;text-align:right;'>0.0013</td><td style='color:black;background-color:#fe7f64;text-align:right;'>0.0001</td></tr>\n",
       "<tr><th style='border:1px solid black;color:black;background-color:#BBBBBB;' rowspan = '4'><center>1</center></th><th style='border:1px solid black;color:black;background-color:#BBBBBB;' rowspan = '2'><center>0</center></th><th style='border:1px solid black;color:black;background-color:#BBBBBB'><center>0</center></th><td style='color:black;background-color:#fe7f64;text-align:right;'>0.0025</td><td style='color:black;background-color:#fe7f64;text-align:right;'>0.0003</td></tr>\n",
       "<tr><th style='border:1px solid black;color:black;background-color:#BBBBBB'><center>1</center></th><td style='color:black;background-color:#fd8064;text-align:right;'>0.0116</td><td style='color:black;background-color:#fe7f64;text-align:right;'>0.0042</td></tr>\n",
       "<tr><th style='border:1px solid black;color:black;background-color:#BBBBBB;' rowspan = '2'><center>1</center></th><th style='border:1px solid black;color:black;background-color:#BBBBBB'><center>0</center></th><td style='color:black;background-color:#fe7f64;text-align:right;'>0.0013</td><td style='color:black;background-color:#fe7f64;text-align:right;'>0.0002</td></tr>\n",
       "<tr><th style='border:1px solid black;color:black;background-color:#BBBBBB'><center>1</center></th><td style='color:black;background-color:#fe7f64;text-align:right;'>0.0064</td><td style='color:black;background-color:#fe7f64;text-align:right;'>0.0023</td></tr>\n",
       "<tr><th style='border:1px solid black;color:black;background-color:#BBBBBB;' rowspan = '8'><center>1</center></th><th style='border:1px solid black;color:black;background-color:#BBBBBB;' rowspan = '4'><center>0</center></th><th style='border:1px solid black;color:black;background-color:#BBBBBB;' rowspan = '2'><center>0</center></th><th style='border:1px solid black;color:black;background-color:#BBBBBB'><center>0</center></th><td style='color:black;background-color:#fe7f64;text-align:right;'>0.0002</td><td style='color:black;background-color:#fe7f64;text-align:right;'>0.0000</td></tr>\n",
       "<tr><th style='border:1px solid black;color:black;background-color:#BBBBBB'><center>1</center></th><td style='color:black;background-color:#fd8064;text-align:right;'>0.0154</td><td style='color:black;background-color:#fe7f64;text-align:right;'>0.0038</td></tr>\n",
       "<tr><th style='border:1px solid black;color:black;background-color:#BBBBBB;' rowspan = '2'><center>1</center></th><th style='border:1px solid black;color:black;background-color:#BBBBBB'><center>0</center></th><td style='color:black;background-color:#fe7f64;text-align:right;'>0.0000</td><td style='color:black;background-color:#fe7f64;text-align:right;'>0.0000</td></tr>\n",
       "<tr><th style='border:1px solid black;color:black;background-color:#BBBBBB'><center>1</center></th><td style='color:black;background-color:#fe7f64;text-align:right;'>0.0027</td><td style='color:black;background-color:#fe7f64;text-align:right;'>0.0007</td></tr>\n",
       "<tr><th style='border:1px solid black;color:black;background-color:#BBBBBB;' rowspan = '4'><center>1</center></th><th style='border:1px solid black;color:black;background-color:#BBBBBB;' rowspan = '2'><center>0</center></th><th style='border:1px solid black;color:black;background-color:#BBBBBB'><center>0</center></th><td style='color:black;background-color:#fe7f64;text-align:right;'>0.0015</td><td style='color:black;background-color:#fe7f64;text-align:right;'>0.0004</td></tr>\n",
       "<tr><th style='border:1px solid black;color:black;background-color:#BBBBBB'><center>1</center></th><td style='color:black;background-color:#fe7f64;text-align:right;'>0.0023</td><td style='color:black;background-color:#fd8064;text-align:right;'>0.0083</td></tr>\n",
       "<tr><th style='border:1px solid black;color:black;background-color:#BBBBBB;' rowspan = '2'><center>1</center></th><th style='border:1px solid black;color:black;background-color:#BBBBBB'><center>0</center></th><td style='color:black;background-color:#fe7f64;text-align:right;'>0.0028</td><td style='color:black;background-color:#fe7f64;text-align:right;'>0.0007</td></tr>\n",
       "<tr><th style='border:1px solid black;color:black;background-color:#BBBBBB'><center>1</center></th><td style='color:black;background-color:#fe7f64;text-align:right;'>0.0044</td><td style='color:black;background-color:#fc8164;text-align:right;'>0.0159</td></tr>\n",
       "<tr><th style='border:1px solid black;color:black;background-color:#BBBBBB;' rowspan = '16'><center>1</center></th><th style='border:1px solid black;color:black;background-color:#BBBBBB;' rowspan = '8'><center>0</center></th><th style='border:1px solid black;color:black;background-color:#BBBBBB;' rowspan = '4'><center>0</center></th><th style='border:1px solid black;color:black;background-color:#BBBBBB;' rowspan = '2'><center>0</center></th><th style='border:1px solid black;color:black;background-color:#BBBBBB'><center>0</center></th><td style='color:black;background-color:#fe7f64;text-align:right;'>0.0000</td><td style='color:black;background-color:#fe7f64;text-align:right;'>0.0000</td></tr>\n",
       "<tr><th style='border:1px solid black;color:black;background-color:#BBBBBB'><center>1</center></th><td style='color:black;background-color:#fe7f64;text-align:right;'>0.0007</td><td style='color:black;background-color:#fe7f64;text-align:right;'>0.0001</td></tr>\n",
       "<tr><th style='border:1px solid black;color:black;background-color:#BBBBBB;' rowspan = '2'><center>1</center></th><th style='border:1px solid black;color:black;background-color:#BBBBBB'><center>0</center></th><td style='color:black;background-color:#fe7f64;text-align:right;'>0.0000</td><td style='color:black;background-color:#fe7f64;text-align:right;'>0.0000</td></tr>\n",
       "<tr><th style='border:1px solid black;color:black;background-color:#BBBBBB'><center>1</center></th><td style='color:black;background-color:#fe7f64;text-align:right;'>0.0000</td><td style='color:black;background-color:#fe7f64;text-align:right;'>0.0000</td></tr>\n",
       "<tr><th style='border:1px solid black;color:black;background-color:#BBBBBB;' rowspan = '4'><center>1</center></th><th style='border:1px solid black;color:black;background-color:#BBBBBB;' rowspan = '2'><center>0</center></th><th style='border:1px solid black;color:black;background-color:#BBBBBB'><center>0</center></th><td style='color:black;background-color:#fe7f64;text-align:right;'>0.0001</td><td style='color:black;background-color:#fe7f64;text-align:right;'>0.0000</td></tr>\n",
       "<tr><th style='border:1px solid black;color:black;background-color:#BBBBBB'><center>1</center></th><td style='color:black;background-color:#e89564;text-align:right;'>0.1760</td><td style='color:black;background-color:#f58864;text-align:right;'>0.0754</td></tr>\n",
       "<tr><th style='border:1px solid black;color:black;background-color:#BBBBBB;' rowspan = '2'><center>1</center></th><th style='border:1px solid black;color:black;background-color:#BBBBBB'><center>0</center></th><td style='color:black;background-color:#fe7f64;text-align:right;'>0.0000</td><td style='color:black;background-color:#fe7f64;text-align:right;'>0.0000</td></tr>\n",
       "<tr><th style='border:1px solid black;color:black;background-color:#BBBBBB'><center>1</center></th><td style='color:black;background-color:#f28b64;text-align:right;'>0.0968</td><td style='color:black;background-color:#f98464;text-align:right;'>0.0415</td></tr>\n",
       "<tr><th style='border:1px solid black;color:black;background-color:#BBBBBB;' rowspan = '8'><center>1</center></th><th style='border:1px solid black;color:black;background-color:#BBBBBB;' rowspan = '4'><center>0</center></th><th style='border:1px solid black;color:black;background-color:#BBBBBB;' rowspan = '2'><center>0</center></th><th style='border:1px solid black;color:black;background-color:#BBBBBB'><center>0</center></th><td style='color:black;background-color:#fe7f64;text-align:right;'>0.0000</td><td style='color:black;background-color:#fe7f64;text-align:right;'>0.0000</td></tr>\n",
       "<tr><th style='border:1px solid black;color:black;background-color:#BBBBBB'><center>1</center></th><td style='color:black;background-color:#fe7f64;text-align:right;'>0.0003</td><td style='color:black;background-color:#fe7f64;text-align:right;'>0.0002</td></tr>\n",
       "<tr><th style='border:1px solid black;color:black;background-color:#BBBBBB;' rowspan = '2'><center>1</center></th><th style='border:1px solid black;color:black;background-color:#BBBBBB'><center>0</center></th><td style='color:black;background-color:#fe7f64;text-align:right;'>0.0000</td><td style='color:black;background-color:#fe7f64;text-align:right;'>0.0000</td></tr>\n",
       "<tr><th style='border:1px solid black;color:black;background-color:#BBBBBB'><center>1</center></th><td style='color:black;background-color:#fe7f64;text-align:right;'>0.0001</td><td style='color:black;background-color:#fe7f64;text-align:right;'>0.0000</td></tr>\n",
       "<tr><th style='border:1px solid black;color:black;background-color:#BBBBBB;' rowspan = '4'><center>1</center></th><th style='border:1px solid black;color:black;background-color:#BBBBBB;' rowspan = '2'><center>0</center></th><th style='border:1px solid black;color:black;background-color:#BBBBBB'><center>0</center></th><td style='color:black;background-color:#fe7f64;text-align:right;'>0.0000</td><td style='color:black;background-color:#fe7f64;text-align:right;'>0.0000</td></tr>\n",
       "<tr><th style='border:1px solid black;color:black;background-color:#BBBBBB'><center>1</center></th><td style='color:black;background-color:#fc8164;text-align:right;'>0.0168</td><td style='color:black;background-color:#eb9264;text-align:right;'>0.1508</td></tr>\n",
       "<tr><th style='border:1px solid black;color:black;background-color:#BBBBBB;' rowspan = '2'><center>1</center></th><th style='border:1px solid black;color:black;background-color:#BBBBBB'><center>0</center></th><td style='color:black;background-color:#fe7f64;text-align:right;'>0.0001</td><td style='color:black;background-color:#fe7f64;text-align:right;'>0.0000</td></tr>\n",
       "<tr><th style='border:1px solid black;color:black;background-color:#BBBBBB'><center>1</center></th><td style='color:black;background-color:#fa8364;text-align:right;'>0.0323</td><td style='color:black;background-color:#d9a464;text-align:right;'>0.2903</td></tr>\n",
       "</table>"
      ],
      "text/plain": [
       "(gum::Potential<double>@0x7f8b85d57b20) <dyspnoea?:0|tuberculosis?:0|smoking?:0|lung_cancer?:0|bronchitis?:0|positive_Xray?:0> :: 0.000272541 /<dyspnoea?:1|tuberculosis?:0|smoking?:0|lung_cancer?:0|bronchitis?:0|positive_Xray?:0> :: 3.0317e-05 /<dyspnoea?:0|tuberculosis?:1|smoking?:0|lung_cancer?:0|bronchitis?:0|positive_Xray?:0> :: 0.0259334 /<dyspnoea?:1|tuberculosis?:1|smoking?:0|lung_cancer?:0|bronchitis?:0|positive_Xray?:0> :: 0.00288478 /<dyspnoea?:0|tuberculosis?:0|smoking?:1|lung_cancer?:0|bronchitis?:0|positive_Xray?:0> :: 1.36271e-05 /<dyspnoea?:1|tuberculosis?:0|smoking?:1|lung_cancer?:0|bronchitis?:0|positive_Xray?:0> :: 1.51585e-06 /<dyspnoea?:0|tuberculosis?:1|smoking?:1|lung_cancer?:0|bronchitis?:0|positive_Xray?:0> :: 0.00129667 /<dyspnoea?:1|tuberculosis?:1|smoking?:1|lung_cancer?:0|bronchitis?:0|positive_Xray?:0> :: 0.000144239 /<dyspnoea?:0|tuberculosis?:0|smoking?:0|lung_cancer?:1|bronchitis?:0|positive_Xray?:0> :: 0.00245287 /<dyspnoea?:1|tuberculosis?:0|smoking?:0|lung_cancer?:1|bronchitis?:0|positive_Xray?:0> :: 0.000272853 /<dyspnoea?:0|tuberculosis?:1|smoking?:0|lung_cancer?:1|bronchitis?:0|positive_Xray?:0> :: 0.0116148 /<dyspnoea?:1|tuberculosis?:1|smoking?:0|lung_cancer?:1|bronchitis?:0|positive_Xray?:0> :: 0.00422965 /<dyspnoea?:0|tuberculosis?:0|smoking?:1|lung_cancer?:1|bronchitis?:0|positive_Xray?:0> :: 0.00134908 /<dyspnoea?:1|tuberculosis?:0|smoking?:1|lung_cancer?:1|bronchitis?:0|positive_Xray?:0> :: 0.000150069 /<dyspnoea?:0|tuberculosis?:1|smoking?:1|lung_cancer?:1|bronchitis?:0|positive_Xray?:0> :: 0.00638816 /<dyspnoea?:1|tuberculosis?:1|smoking?:1|lung_cancer?:1|bronchitis?:0|positive_Xray?:0> :: 0.00232631 /<dyspnoea?:0|tuberculosis?:0|smoking?:0|lung_cancer?:0|bronchitis?:1|positive_Xray?:0> :: 0.000161452 /<dyspnoea?:1|tuberculosis?:0|smoking?:0|lung_cancer?:0|bronchitis?:1|positive_Xray?:0> :: 4.04539e-05 /<dyspnoea?:0|tuberculosis?:1|smoking?:0|lung_cancer?:0|bronchitis?:1|positive_Xray?:0> :: 0.0153627 /<dyspnoea?:1|tuberculosis?:1|smoking?:0|lung_cancer?:0|bronchitis?:1|positive_Xray?:0> :: 0.00384935 /<dyspnoea?:0|tuberculosis?:0|smoking?:1|lung_cancer?:0|bronchitis?:1|positive_Xray?:0> :: 2.8254e-05 /<dyspnoea?:1|tuberculosis?:0|smoking?:1|lung_cancer?:0|bronchitis?:1|positive_Xray?:0> :: 7.07944e-06 /<dyspnoea?:0|tuberculosis?:1|smoking?:1|lung_cancer?:0|bronchitis?:1|positive_Xray?:0> :: 0.00268848 /<dyspnoea?:1|tuberculosis?:1|smoking?:1|lung_cancer?:0|bronchitis?:1|positive_Xray?:0> :: 0.000673636 /<dyspnoea?:0|tuberculosis?:0|smoking?:0|lung_cancer?:1|bronchitis?:1|positive_Xray?:0> :: 0.00145307 /<dyspnoea?:1|tuberculosis?:0|smoking?:0|lung_cancer?:1|bronchitis?:1|positive_Xray?:0> :: 0.000364085 /<dyspnoea?:0|tuberculosis?:1|smoking?:0|lung_cancer?:1|bronchitis?:1|positive_Xray?:0> :: 0.00227826 /<dyspnoea?:1|tuberculosis?:1|smoking?:0|lung_cancer?:1|bronchitis?:1|positive_Xray?:0> :: 0.00828473 /<dyspnoea?:0|tuberculosis?:0|smoking?:1|lung_cancer?:1|bronchitis?:1|positive_Xray?:0> :: 0.00279715 /<dyspnoea?:1|tuberculosis?:0|smoking?:1|lung_cancer?:1|bronchitis?:1|positive_Xray?:0> :: 0.000700864 /<dyspnoea?:0|tuberculosis?:1|smoking?:1|lung_cancer?:1|bronchitis?:1|positive_Xray?:0> :: 0.00438564 /<dyspnoea?:1|tuberculosis?:1|smoking?:1|lung_cancer?:1|bronchitis?:1|positive_Xray?:0> :: 0.0159481 /<dyspnoea?:0|tuberculosis?:0|smoking?:0|lung_cancer?:0|bronchitis?:0|positive_Xray?:1> :: 7.63464e-06 /<dyspnoea?:1|tuberculosis?:0|smoking?:0|lung_cancer?:0|bronchitis?:0|positive_Xray?:1> :: 1.50696e-06 /<dyspnoea?:0|tuberculosis?:1|smoking?:0|lung_cancer?:0|bronchitis?:0|positive_Xray?:1> :: 0.000726465 /<dyspnoea?:1|tuberculosis?:1|smoking?:0|lung_cancer?:0|bronchitis?:0|positive_Xray?:1> :: 0.000143393 /<dyspnoea?:0|tuberculosis?:0|smoking?:1|lung_cancer?:0|bronchitis?:0|positive_Xray?:1> :: 3.81732e-07 /<dyspnoea?:1|tuberculosis?:0|smoking?:1|lung_cancer?:0|bronchitis?:0|positive_Xray?:1> :: 7.5348e-08 /<dyspnoea?:0|tuberculosis?:1|smoking?:1|lung_cancer?:0|bronchitis?:0|positive_Xray?:1> :: 3.63233e-05 /<dyspnoea?:1|tuberculosis?:1|smoking?:1|lung_cancer?:0|bronchitis?:0|positive_Xray?:1> :: 7.16965e-06 /<dyspnoea?:0|tuberculosis?:0|smoking?:0|lung_cancer?:1|bronchitis?:0|positive_Xray?:1> :: 6.87118e-05 /<dyspnoea?:1|tuberculosis?:0|smoking?:0|lung_cancer?:1|bronchitis?:0|positive_Xray?:1> :: 1.35626e-05 /<dyspnoea?:0|tuberculosis?:1|smoking?:0|lung_cancer?:1|bronchitis?:0|positive_Xray?:1> :: 0.175954 /<dyspnoea?:1|tuberculosis?:1|smoking?:0|lung_cancer?:1|bronchitis?:0|positive_Xray?:1> :: 0.0753936 /<dyspnoea?:0|tuberculosis?:0|smoking?:1|lung_cancer?:1|bronchitis?:0|positive_Xray?:1> :: 3.77915e-05 /<dyspnoea?:1|tuberculosis?:0|smoking?:1|lung_cancer?:1|bronchitis?:0|positive_Xray?:1> :: 7.45945e-06 /<dyspnoea?:0|tuberculosis?:1|smoking?:1|lung_cancer?:1|bronchitis?:0|positive_Xray?:1> :: 0.0967747 /<dyspnoea?:1|tuberculosis?:1|smoking?:1|lung_cancer?:1|bronchitis?:0|positive_Xray?:1> :: 0.0414665 /<dyspnoea?:0|tuberculosis?:0|smoking?:0|lung_cancer?:0|bronchitis?:1|positive_Xray?:1> :: 3.49232e-06 /<dyspnoea?:1|tuberculosis?:0|smoking?:0|lung_cancer?:0|bronchitis?:1|positive_Xray?:1> :: 2.60208e-06 /<dyspnoea?:0|tuberculosis?:1|smoking?:0|lung_cancer?:0|bronchitis?:1|positive_Xray?:1> :: 0.000332308 /<dyspnoea?:1|tuberculosis?:1|smoking?:0|lung_cancer?:0|bronchitis?:1|positive_Xray?:1> :: 0.000247598 /<dyspnoea?:0|tuberculosis?:0|smoking?:1|lung_cancer?:0|bronchitis?:1|positive_Xray?:1> :: 6.11156e-07 /<dyspnoea?:1|tuberculosis?:0|smoking?:1|lung_cancer?:0|bronchitis?:1|positive_Xray?:1> :: 4.55364e-07 /<dyspnoea?:0|tuberculosis?:1|smoking?:1|lung_cancer?:0|bronchitis?:1|positive_Xray?:1> :: 5.81538e-05 /<dyspnoea?:1|tuberculosis?:1|smoking?:1|lung_cancer?:0|bronchitis?:1|positive_Xray?:1> :: 4.33296e-05 /<dyspnoea?:0|tuberculosis?:0|smoking?:0|lung_cancer?:1|bronchitis?:1|positive_Xray?:1> :: 3.14309e-05 /<dyspnoea?:1|tuberculosis?:0|smoking?:0|lung_cancer?:1|bronchitis?:1|positive_Xray?:1> :: 2.34187e-05 /<dyspnoea?:0|tuberculosis?:1|smoking?:0|lung_cancer?:1|bronchitis?:1|positive_Xray?:1> :: 0.0167814 /<dyspnoea?:1|tuberculosis?:1|smoking?:0|lung_cancer?:1|bronchitis?:1|positive_Xray?:1> :: 0.150784 /<dyspnoea?:0|tuberculosis?:0|smoking?:1|lung_cancer?:1|bronchitis?:1|positive_Xray?:1> :: 6.05044e-05 /<dyspnoea?:1|tuberculosis?:0|smoking?:1|lung_cancer?:1|bronchitis?:1|positive_Xray?:1> :: 4.5081e-05 /<dyspnoea?:0|tuberculosis?:1|smoking?:1|lung_cancer?:1|bronchitis?:1|positive_Xray?:1> :: 0.0323043 /<dyspnoea?:1|tuberculosis?:1|smoking?:1|lung_cancer?:1|bronchitis?:1|positive_Xray?:1> :: 0.290258"
      ]
     },
     "execution_count": 57,
     "metadata": {},
     "output_type": "execute_result"
    }
   ],
   "source": [
    "compact_conditional_proba(Pjointe,\"dyspnoea?\")"
   ]
  },
  {
   "cell_type": "markdown",
   "metadata": {},
   "source": [
    "### IV.3- Création d'un réseau bayésien\n",
    "\n",
    "Un réseau bayésien est simplement la décomposition d'une distribution de probabilité jointe en un produit de probabilités conditionnelles: vous avez vu en cours que $P(A,B) = P(A|B)P(B)$, et ce quel que soient les ensembles de variables aléatoires disjoints $A$ et $B$. En posant $A = X_n$ et $B = \\{X_0,\\ldots,X_{n-1}\\}$, on obtient donc:\n",
    "\n",
    "$$P(X_0,\\ldots,X_n) = P(X_n | X_0,\\ldots,X_{n-1}) P(X_0,\\ldots,X_{n-1})$$\n",
    "\n",
    "On peut réitérer cette opération pour le terme de droite en posant $A = X_{n-1}$ et $B=\\{X_0,\\ldots,X_{n-2}\\}$, et ainsi de suite. Donc, par récurrence, on a:\n",
    "\n",
    "$$P(X_0,\\ldots,X_n) = P(X_0) \\times \\prod_{i=1}^n P(X_i | X_0,\\ldots,X_{i-1} )$$\n",
    "\n",
    "Si on applique à chaque terme $P(X_i | X_0,\\ldots,X_{i-1} )$ la fonction `compact_conditional_proba`, on obtient une décomposition:\n",
    "\n",
    "$$P(X_0,\\ldots,X_n) = P(X_0) \\times \\prod_{i=1}^n P(X_i | {\\cal K_i})$$\n",
    "\n",
    "avec $K_i \\subseteq \\{X_0,\\ldots,X_{i-1}\\}$}. Cette décomposition est dite ''compacte'' car son stockage nécessite en pratique beaucoup moins de mémoire que celui de la distribution jointe. C'est ce que l'on appelle un réseau bayésien.\n",
    "\n",
    "Écrire une fonction `create_bayesian_network : Potential -> Potential list` qui, étant donné une probabilité jointe, vous renvoie la liste des $P(X_i | {\\cal K_i})$. Pour cela, il vous suffit d'appliquer l'algorithme suivant:\n",
    "\n",
    "```\n",
    "liste = [] \n",
    "P = P(X_0,...,X_n)\n",
    "Pour i de n à 0 faire:\n",
    "  calculer Q = compact_conditional_proba(P,X_i)\n",
    "  afficher la liste des variables de Q\n",
    "  rajouter Q à liste\n",
    "  supprimer X_i de P par marginalisation\n",
    "\n",
    "retourner liste\n",
    "```\n",
    "\n",
    "Il est intéressant ici de noter les affichages des variables de Q: comme toutes les variables sont binaires, Q nécessite uniquement (2 puissance le nombre de ces variables) nombres réels. Ainsi une probabilité sur 3 variables ne nécessite que {$2^3=8$} nombres réels. \n"
   ]
  },
  {
   "cell_type": "code",
   "execution_count": 58,
   "metadata": {},
   "outputs": [],
   "source": [
    "def create_bayesian_network(P):\n",
    "    #votre code\n",
    "    \"\"\"\n",
    "    P : Potential -> Potential list\n",
    "    \"\"\"\n",
    "    \n",
    "    B = []\n",
    "    V = P.var_names\n",
    "    P_ = P.margSumIn(V)\n",
    "    print(V)\n",
    "    print(len(V))\n",
    "    for i in range(0,len(V)):\n",
    "        print(i)\n",
    "        Q = compact_conditional_proba(P_,V[i])\n",
    "        vars_ = Q.var_names\n",
    "        B.append(Q)\n",
    "        P_.margSumOut(V[i])\n",
    "    return B\n"
   ]
  },
  {
   "cell_type": "code",
   "execution_count": 59,
   "metadata": {},
   "outputs": [
    {
     "name": "stdout",
     "output_type": "stream",
     "text": [
      "['tuberculosis_or_lung_cancer?', 'visit_to_Asia?']\n",
      "2\n",
      "0\n",
      "['tuberculosis_or_lung_cancer?', 'visit_to_Asia?']\n",
      "1\n",
      "['visit_to_Asia?']\n"
     ]
    },
    {
     "ename": "InvalidArgument",
     "evalue": "[pyAgrum] Invalid argument: No relevant dimension in the argument",
     "output_type": "error",
     "traceback": [
      "\u001b[0;31m---------------------------------------------------------------------------\u001b[0m",
      "\u001b[0;31mInvalidArgument\u001b[0m                           Traceback (most recent call last)",
      "\u001b[0;32m<ipython-input-59-241a730e2ee0>\u001b[0m in \u001b[0;36m<module>\u001b[0;34m()\u001b[0m\n\u001b[0;32m----> 1\u001b[0;31m \u001b[0mB\u001b[0m \u001b[0;34m=\u001b[0m \u001b[0mcreate_bayesian_network\u001b[0m\u001b[0;34m(\u001b[0m\u001b[0mPjointe\u001b[0m\u001b[0;34m)\u001b[0m\u001b[0;34m\u001b[0m\u001b[0m\n\u001b[0m\u001b[1;32m      2\u001b[0m \u001b[0mB\u001b[0m\u001b[0;34m\u001b[0m\u001b[0m\n",
      "\u001b[0;32m<ipython-input-58-9095779c8ec1>\u001b[0m in \u001b[0;36mcreate_bayesian_network\u001b[0;34m(P)\u001b[0m\n\u001b[1;32m     12\u001b[0m     \u001b[0;32mfor\u001b[0m \u001b[0mi\u001b[0m \u001b[0;32min\u001b[0m \u001b[0mrange\u001b[0m\u001b[0;34m(\u001b[0m\u001b[0;36m0\u001b[0m\u001b[0;34m,\u001b[0m\u001b[0mlen\u001b[0m\u001b[0;34m(\u001b[0m\u001b[0mV\u001b[0m\u001b[0;34m)\u001b[0m\u001b[0;34m)\u001b[0m\u001b[0;34m:\u001b[0m\u001b[0;34m\u001b[0m\u001b[0m\n\u001b[1;32m     13\u001b[0m         \u001b[0mprint\u001b[0m\u001b[0;34m(\u001b[0m\u001b[0mi\u001b[0m\u001b[0;34m)\u001b[0m\u001b[0;34m\u001b[0m\u001b[0m\n\u001b[0;32m---> 14\u001b[0;31m         \u001b[0mQ\u001b[0m \u001b[0;34m=\u001b[0m \u001b[0mcompact_conditional_proba\u001b[0m\u001b[0;34m(\u001b[0m\u001b[0mP_\u001b[0m\u001b[0;34m,\u001b[0m\u001b[0mV\u001b[0m\u001b[0;34m[\u001b[0m\u001b[0mi\u001b[0m\u001b[0;34m]\u001b[0m\u001b[0;34m)\u001b[0m\u001b[0;34m\u001b[0m\u001b[0m\n\u001b[0m\u001b[1;32m     15\u001b[0m         \u001b[0mvars_\u001b[0m \u001b[0;34m=\u001b[0m \u001b[0mQ\u001b[0m\u001b[0;34m.\u001b[0m\u001b[0mvar_names\u001b[0m\u001b[0;34m\u001b[0m\u001b[0m\n\u001b[1;32m     16\u001b[0m         \u001b[0mB\u001b[0m\u001b[0;34m.\u001b[0m\u001b[0mappend\u001b[0m\u001b[0;34m(\u001b[0m\u001b[0mQ\u001b[0m\u001b[0;34m)\u001b[0m\u001b[0;34m\u001b[0m\u001b[0m\n",
      "\u001b[0;32m<ipython-input-55-bfabc28be525>\u001b[0m in \u001b[0;36mcompact_conditional_proba\u001b[0;34m(P, X)\u001b[0m\n\u001b[1;32m     10\u001b[0m         \u001b[0;32mif\u001b[0m \u001b[0mconditional_indep\u001b[0m\u001b[0;34m(\u001b[0m\u001b[0mP\u001b[0m\u001b[0;34m,\u001b[0m \u001b[0mX_i\u001b[0m\u001b[0;34m,\u001b[0m\u001b[0mX\u001b[0m\u001b[0;34m,\u001b[0m\u001b[0;34m[\u001b[0m\u001b[0mi\u001b[0m \u001b[0;32mfor\u001b[0m \u001b[0mi\u001b[0m \u001b[0;32min\u001b[0m \u001b[0mK\u001b[0m \u001b[0;32mif\u001b[0m \u001b[0mi\u001b[0m\u001b[0;34m!=\u001b[0m\u001b[0mX\u001b[0m \u001b[0;34m]\u001b[0m\u001b[0;34m)\u001b[0m\u001b[0;34m:\u001b[0m\u001b[0;34m\u001b[0m\u001b[0m\n\u001b[1;32m     11\u001b[0m             \u001b[0mK\u001b[0m\u001b[0;34m.\u001b[0m\u001b[0mremove\u001b[0m\u001b[0;34m(\u001b[0m\u001b[0mX_i\u001b[0m\u001b[0;34m)\u001b[0m\u001b[0;34m\u001b[0m\u001b[0m\n\u001b[0;32m---> 12\u001b[0;31m     \u001b[0;32mreturn\u001b[0m \u001b[0mP\u001b[0m\u001b[0;34m.\u001b[0m\u001b[0mmargSumOut\u001b[0m\u001b[0;34m(\u001b[0m\u001b[0mK\u001b[0m\u001b[0;34m)\u001b[0m\u001b[0;34m\u001b[0m\u001b[0m\n\u001b[0m",
      "\u001b[0;32m/anaconda3/lib/python3.7/site-packages/pyAgrum/pyAgrum.py\u001b[0m in \u001b[0;36mmargSumOut\u001b[0;34m(self, varnames)\u001b[0m\n\u001b[1;32m   8379\u001b[0m \u001b[0;34m\u001b[0m\u001b[0m\n\u001b[1;32m   8380\u001b[0m         \"\"\"\n\u001b[0;32m-> 8381\u001b[0;31m         \u001b[0;32mreturn\u001b[0m \u001b[0m_pyAgrum\u001b[0m\u001b[0;34m.\u001b[0m\u001b[0mPotential_margSumOut\u001b[0m\u001b[0;34m(\u001b[0m\u001b[0mself\u001b[0m\u001b[0;34m,\u001b[0m \u001b[0mvarnames\u001b[0m\u001b[0;34m)\u001b[0m\u001b[0;34m\u001b[0m\u001b[0m\n\u001b[0m\u001b[1;32m   8382\u001b[0m \u001b[0;34m\u001b[0m\u001b[0m\n\u001b[1;32m   8383\u001b[0m     \u001b[0;32mdef\u001b[0m \u001b[0mmargProdOut\u001b[0m\u001b[0;34m(\u001b[0m\u001b[0mself\u001b[0m\u001b[0;34m,\u001b[0m \u001b[0mvarnames\u001b[0m\u001b[0;34m:\u001b[0m \u001b[0;34m\"PyObject *\"\u001b[0m\u001b[0;34m)\u001b[0m \u001b[0;34m->\u001b[0m \u001b[0;34m\"gum::Potential< double >\"\u001b[0m\u001b[0;34m:\u001b[0m\u001b[0;34m\u001b[0m\u001b[0m\n",
      "\u001b[0;31mInvalidArgument\u001b[0m: [pyAgrum] Invalid argument: No relevant dimension in the argument"
     ]
    }
   ],
   "source": [
    "B = create_bayesian_network(Pjointe)\n",
    "B"
   ]
  },
  {
   "cell_type": "code",
   "execution_count": 44,
   "metadata": {},
   "outputs": [
    {
     "data": {
      "text/plain": [
       "[]"
      ]
     },
     "execution_count": 44,
     "metadata": {},
     "output_type": "execute_result"
    }
   ],
   "source": [
    "Pjointe.var_names"
   ]
  },
  {
   "cell_type": "markdown",
   "metadata": {},
   "source": [
    "### IV.4- Gain en compression\n",
    "\n",
    "On souhaite observer le gain en termes de consommation mémoire obtenu par votre décomposition. Si `P` est un `Potential`, alors `P.toarray().size` est égal à la taille (le nombre de paramètres) de la table `P`. Calculez donc le nombre de paramètres nécessaires pour stocker la probabilité jointe lue dans le fichier `asia.txt` ainsi que la somme des nombres de paramètres des tables que vous avez créées grâce à votre fonction `create_bayesian_network`. "
   ]
  },
  {
   "cell_type": "code",
   "execution_count": 45,
   "metadata": {},
   "outputs": [
    {
     "data": {
      "text/plain": [
       "256"
      ]
     },
     "execution_count": 45,
     "metadata": {},
     "output_type": "execute_result"
    }
   ],
   "source": [
    "# votre code\n",
    "Pjointe.toarray().size"
   ]
  },
  {
   "cell_type": "markdown",
   "metadata": {},
   "source": [
    "## V- Applications pratiques (optionnelle)"
   ]
  },
  {
   "cell_type": "markdown",
   "metadata": {},
   "source": [
    "La technique de décomposition que vous avez vue est effectivement utilisée en pratique. Vous pouvez voir le gain que l'on peut obtenir sur différentes distributions de probabilité du site :\n",
    "\n",
    "http://www.bnlearn.com/bnrepository/\n",
    "\n",
    "Cliquez sur le nom du dataset que vous voulez visualiser et téléchargez son .bif ou .dsl. Afin de visualiser le contenu du fichier, vous allez utiliser pyAgrum. Le code suivant vous permettra alors de visualiser votre dataset: la valeur indiquée après \"domainSize\" est la taille de la probabilité jointe d'origine (en nombre de paramètres) et celle après \"dim\" est la taille de la probabilité sous forme compacte (somme des tailles des probabilités conditionnelles compactes). "
   ]
  },
  {
   "cell_type": "code",
   "execution_count": null,
   "metadata": {},
   "outputs": [],
   "source": [
    "# chargement de pyAgrum\n",
    "import pyAgrum as gum\n",
    "import pyAgrum.lib.notebook as gnb\n",
    "\n",
    "# chargement du fichier bif ou dsl\n",
    "bn = gum.loadBN ( \"asia.bif\" )\n",
    "\n",
    "# affichage de la taille des probabilités jointes compacte et non compacte\n",
    "print(bn)\n",
    "\n",
    "# affichage graphique du réseau bayésien\n",
    "bn"
   ]
  },
  {
   "cell_type": "code",
   "execution_count": null,
   "metadata": {},
   "outputs": [],
   "source": []
  }
 ],
 "metadata": {
  "kernelspec": {
   "display_name": "Python 3",
   "language": "python",
   "name": "python3"
  },
  "language_info": {
   "codemirror_mode": {
    "name": "ipython",
    "version": 3
   },
   "file_extension": ".py",
   "mimetype": "text/x-python",
   "name": "python",
   "nbconvert_exporter": "python",
   "pygments_lexer": "ipython3",
   "version": "3.7.0"
  }
 },
 "nbformat": 4,
 "nbformat_minor": 4
}

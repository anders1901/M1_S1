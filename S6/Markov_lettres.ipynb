{
 "cells": [
  {
   "cell_type": "markdown",
   "metadata": {},
   "source": [
    "# TME sur la classification de lettres manuscrites\n",
    "## Format des données\n",
    "Nous travaillerons sur des lettres manuscrites.\n",
    "Les données sont fournies au format pickle (le standard de sérialisation python, particulièrement convivial). Pour les charger : "
   ]
  },
  {
   "cell_type": "code",
   "execution_count": 3,
   "metadata": {},
   "outputs": [],
   "source": [
    "import numpy as np\n",
    "import pickle as pkl\n",
    "import matplotlib.pyplot as plt\n",
    "\n",
    "with open('lettres.pkl', 'rb') as f:\n",
    "    data = pkl.load(f, encoding='latin1') \n",
    "X = np.array(data.get('letters')) # récupération des données sur les lettres\n",
    "Y = np.array(data.get('labels')) # récupération des étiquettes associées "
   ]
  },
  {
   "cell_type": "markdown",
   "metadata": {},
   "source": [
    "Les données sont dans un format original: une lettre est en fait une série d'angles (exprimés en degrés). Un exemple: "
   ]
  },
  {
   "cell_type": "code",
   "execution_count": 4,
   "metadata": {},
   "outputs": [
    {
     "data": {
      "text/plain": [
       "array([ 36.214493, 347.719116, 322.088898, 312.230957, 314.851013,\n",
       "       315.487213, 313.556702, 326.534973, 141.288971, 167.606689,\n",
       "       199.321594, 217.911087, 226.443298, 235.002472, 252.354492,\n",
       "       270.045654, 291.665161, 350.934723,  17.892815,  20.281025,\n",
       "        28.207161,  43.883423,  53.459026])"
      ]
     },
     "execution_count": 4,
     "metadata": {},
     "output_type": "execute_result"
    }
   ],
   "source": [
    "X[0]"
   ]
  },
  {
   "cell_type": "markdown",
   "metadata": {},
   "source": [
    "Lors de l'acquisition, un stylo intelligent a pris des mesures régulièrement dans le temps: chaque période correspond à un segment de droite et le stylo a calculé l'angle entre deux segments consécutifs... C'est l'information qui vous est fournie.\n",
    "\n",
    "Pour afficher une lettre, il faut reconstruire la trajectoire enregistrée... C'est ce que fait la méthode ci-dessous: "
   ]
  },
  {
   "cell_type": "code",
   "execution_count": 5,
   "metadata": {},
   "outputs": [],
   "source": [
    "# affichage d'une lettre\n",
    "def tracerLettre(let):\n",
    "    a = -let*np.pi/180; # conversion en rad\n",
    "    coord = np.array([[0, 0]]); # point initial\n",
    "    for i in range(len(a)):\n",
    "        x = np.array([[1, 0]]);\n",
    "        rot = np.array([[np.cos(a[i]), -np.sin(a[i])],[ np.sin(a[i]),np.cos(a[i])]])\n",
    "        xr = x.dot(rot) # application de la rotation\n",
    "        coord = np.vstack((coord,xr+coord[-1,:]))\n",
    "    plt.figure()\n",
    "    plt.plot(coord[:,0],coord[:,1])\n",
    "    plt.savefig(\"exlettre.png\")\n",
    "    return"
   ]
  },
  {
   "cell_type": "markdown",
   "metadata": {},
   "source": [
    "On trace la première lettre de X, qui selon Y devrait être un a"
   ]
  },
  {
   "cell_type": "code",
   "execution_count": 6,
   "metadata": {},
   "outputs": [
    {
     "data": {
      "image/png": "[encoded data removed]",
      "text/plain": [
       "<Figure size 432x288 with 1 Axes>"
      ]
     },
     "metadata": {
      "needs_background": "light"
     },
     "output_type": "display_data"
    }
   ],
   "source": [
    "tracerLettre(X[0])"
   ]
  },
  {
   "cell_type": "markdown",
   "metadata": {},
   "source": [
    "##  Apprentissage d'un modèle CM (max de vraisemblance)\n",
    "### 1. Discrétisation\n",
    "\n",
    "**1 état = 1 angle**\n",
    "\n",
    "Il est nécessaire de regrouper les angles en un nombre fini d'états (par exemple 20)\n",
    "- définir un `intervalle = 360 / n_etats`\n",
    "- discrétiser tous les signaux à l'aide de la formule `np.floor(x / intervalle)`\n",
    "\n",
    "Donner le code de la méthode `discretise(x, d)` qui prend la base des signaux et retourne une base de signaux discrétisés."
   ]
  },
  {
   "cell_type": "code",
   "execution_count": 7,
   "metadata": {},
   "outputs": [],
   "source": [
    "global N_etats\n",
    "N_etats = 3  # le nombre d'états avec lequels on dicrétise"
   ]
  },
  {
   "cell_type": "code",
   "execution_count": 8,
   "metadata": {},
   "outputs": [],
   "source": [
    "def discretise(X, d):\n",
    "    \"\"\"\n",
    "    X : nd.array, d : int -> nd.array\n",
    "    X : liste des angles\n",
    "    d : nombre d'etats \n",
    "    \"\"\"\n",
    "    # Votre code :\n",
    "    Xp= np.copy(X)\n",
    "    if d<=0:\n",
    "        raise ValueError(\"Nombre d'etats : d >= 1\")\n",
    "    intervalle = 360./d #notre intervallee\n",
    "    for i in range(len(X)):\n",
    "        Xp[i] = np.floor(X[i]/intervalle)\n",
    "    return Xp"
   ]
  },
  {
   "cell_type": "code",
   "execution_count": 9,
   "metadata": {},
   "outputs": [],
   "source": [
    "Xd = discretise(X, N_etats)"
   ]
  },
  {
   "cell_type": "code",
   "execution_count": 10,
   "metadata": {},
   "outputs": [
    {
     "data": {
      "text/plain": [
       "array([0., 2., 2., 2., 2., 2., 2., 2., 1., 1., 1., 1., 1., 1., 2., 2., 2.,\n",
       "       2., 0., 0., 0., 0., 0.])"
      ]
     },
     "execution_count": 10,
     "metadata": {},
     "output_type": "execute_result"
    }
   ],
   "source": [
    "Xd[0]"
   ]
  },
  {
   "cell_type": "markdown",
   "metadata": {},
   "source": [
    "**VALIDATION :** code du premier signal avec une discrétisation sur 3 états:\n",
    "```python\n",
    "array([ 0.,  2.,  2.,  2.,  2.,  2.,  2.,  2.,  1.,  1.,  1.,  1., 1., 1., 2., 2.,  2.,\n",
    "       2.,  0.,  0.,  0.,  0.,  0.])\n",
    "```"
   ]
  },
  {
   "cell_type": "markdown",
   "metadata": {},
   "source": [
    "### 2. Regrouper les indices des signaux par classe (pour faciliter l'apprentissage)"
   ]
  },
  {
   "cell_type": "code",
   "execution_count": 11,
   "metadata": {},
   "outputs": [],
   "source": [
    "def groupByLabel(y):\n",
    "    index = []\n",
    "    for i in np.unique(y): # pour toutes les classes\n",
    "        ind, = np.where(y == i)\n",
    "        index.append(ind)\n",
    "    return index"
   ]
  },
  {
   "cell_type": "markdown",
   "metadata": {},
   "source": [
    "Cette méthode produit simplement une structure type:\n",
    "```python\n",
    "[array([ 0,  1,  2,  3,  4,  5,  6,  7,  8,  9, 10]),\n",
    " array([11, 12, 13, 14, 15, 16, 17, 18, 19, 20, 21]),\n",
    " array([22, 23, 24, 25, 26, 27, 28, 29, 30, 31, 32]),\n",
    " array([33, 34, 35, 36, 37, 38, 39, 40, 41, 42, 43]),\n",
    " array([44, 45, 46, 47, 48, 49, 50, 51, 52, 53, 54]),\n",
    " array([55, 56, 57, 58, 59, 60, 61, 62, 63, 64, 65]),\n",
    " ...\n",
    "```\n",
    "Chaque ligne regroupe les indices de signaux correspondant à une classe "
   ]
  },
  {
   "cell_type": "code",
   "execution_count": 18,
   "metadata": {},
   "outputs": [],
   "source": [
    "Yl = groupByLabel(Y)"
   ]
  },
  {
   "cell_type": "code",
   "execution_count": 19,
   "metadata": {},
   "outputs": [
    {
     "data": {
      "text/plain": [
       "[array([ 0,  1,  2,  3,  4,  5,  6,  7,  8,  9, 10]),\n",
       " array([11, 12, 13, 14, 15, 16, 17, 18, 19, 20, 21]),\n",
       " array([22, 23, 24, 25, 26, 27, 28, 29, 30, 31, 32]),\n",
       " array([33, 34, 35, 36, 37, 38, 39, 40, 41, 42, 43]),\n",
       " array([44, 45, 46, 47, 48, 49, 50, 51, 52, 53, 54]),\n",
       " array([55, 56, 57, 58, 59, 60, 61, 62, 63, 64, 65]),\n",
       " array([66, 67, 68, 69, 70, 71, 72, 73, 74, 75, 76]),\n",
       " array([77, 78, 79, 80, 81, 82, 83, 84, 85, 86, 87]),\n",
       " array([88, 89, 90, 91, 92, 93, 94, 95, 96, 97]),\n",
       " array([ 98,  99, 100, 101, 102, 103, 104, 105, 106, 107]),\n",
       " array([108, 109, 110, 111, 112, 113, 114, 115, 116, 117]),\n",
       " array([118, 119, 120, 121, 122, 123, 124, 125, 126, 127]),\n",
       " array([128, 129, 130, 131, 132, 133, 134, 135, 136, 137]),\n",
       " array([138, 139, 140, 141, 142, 143, 144, 145, 146, 147]),\n",
       " array([148, 149, 150, 151, 152, 153, 154, 155, 156, 157]),\n",
       " array([158, 159, 160, 161, 162, 163, 164, 165, 166, 167]),\n",
       " array([168, 169, 170, 171, 172, 173, 174, 175, 176, 177]),\n",
       " array([178, 179, 180, 181, 182, 183, 184, 185, 186, 187]),\n",
       " array([188, 189, 190, 191, 192, 193, 194, 195, 196, 197]),\n",
       " array([198, 199, 200, 201, 202, 203, 204, 205, 206, 207]),\n",
       " array([208, 209, 210, 211, 212, 213, 214, 215, 216, 217]),\n",
       " array([218, 219, 220, 221, 222, 223, 224, 225, 226, 227]),\n",
       " array([228, 229, 230, 231, 232, 233, 234, 235, 236, 237]),\n",
       " array([238, 239, 240, 241, 242, 243, 244, 245, 246, 247]),\n",
       " array([248, 249, 250, 251, 252, 253, 254, 255, 256, 257]),\n",
       " array([258, 259, 260, 261, 262, 263, 264, 265, 266, 267])]"
      ]
     },
     "execution_count": 19,
     "metadata": {},
     "output_type": "execute_result"
    }
   ],
   "source": [
    "Yl"
   ]
  },
  {
   "cell_type": "markdown",
   "metadata": {},
   "source": [
    "### 3. Apprendre les modèles CM\n",
    "\n",
    "Soit {$X_C$} la base de signaux discrétisés correspondant à une classe {$C$} et {$d$} le nombre d'états. Donner le code de la fonction `learnMarkovModel(Xc, d)` qui retourne un tuple contenant Pi et A.\n",
    "\n",
    "Rappel:\n",
    "- Initialisation de \n",
    "```python\n",
    " A = np.zeros((d, d))\n",
    " Pi = np.zeros(d)```\n",
    "- Parcours de tous les signaux et incréments de A et Pi\n",
    "- Normalisation (un peu réfléchie pour éviter les divisions par 0)\n",
    "```python\n",
    "A = A / np.maximum(A.sum(1).reshape(d, 1), 1) # normalisation\n",
    "Pi = Pi / Pi.sum()```\n",
    "\n",
    "**Note** : la solution proposée pour gérer le cas des lignes entièrement à 0 est naïve et n'est pas totalement satisfaisante. Comprendre pourquoi. On proposera une solution améliorée plus loin dans le TME. "
   ]
  },
  {
   "cell_type": "code",
   "execution_count": 14,
   "metadata": {},
   "outputs": [],
   "source": [
    "def ntot(Xc):\n",
    "    return np.sum([len(x) for x in Xc])"
   ]
  },
  {
   "cell_type": "code",
   "execution_count": 15,
   "metadata": {},
   "outputs": [
    {
     "data": {
      "text/plain": [
       "4923"
      ]
     },
     "execution_count": 15,
     "metadata": {},
     "output_type": "execute_result"
    }
   ],
   "source": [
    "ntot(Xd)"
   ]
  },
  {
   "cell_type": "code",
   "execution_count": 16,
   "metadata": {},
   "outputs": [],
   "source": [
    "def learnMarkovModel(Xc, d, opt = \"zeroes\"):\n",
    "    \"\"\"\n",
    "    Xc : nd.array(), d : int, opt = \"zeroes\" : str -> nd.array(d), nd.array(d, d)\n",
    "    Xc : base de signaux discrétisés correspondant à une classe C\n",
    "    d : le nombre d'états\n",
    "    opt : permet de choisir si on veut initialiser la matrice A à 0 partout(\"zeroes\") ou 1 (\"ones\")\n",
    "    \"\"\"\n",
    "    # votre code\n",
    "    \n",
    "    t = len(Xc) #longueur de la base discretisée\n",
    "    Pi = np.zeros(d)   #On initialise Pi à 0 dans tout les cas\n",
    "    if opt == \"zeroes\":\n",
    "        A = np.zeros((d, d))    #On remplit A avec des 0\n",
    "    elif opt == \"ones\":\n",
    "        A = np.ones((d, d))     #On remplit A avec des 1\n",
    "    \n",
    "    #initilisation de Pi\n",
    "    unique, counts = np.unique([z[0]for z in Xc], return_counts=True)    #nous permet de compter le nombre d'occurence d'un element en premiere position de chaque ligne\n",
    "    for i in range(len(unique)):  \n",
    "        Pi[int(unique[i])] = float(counts[i])/t   #On rajoute dans Pi la proportion de chaque valeur unique\n",
    "        \n",
    "    #initilisation de A :     \n",
    "    for x in Xc:    #On parcourt chaque ligne de notre base\n",
    "        for i in range(len(x)-1):   #On parcourt chaque angle \n",
    "            A[int(x[i]),int(x[i+1])]+=1   #On rajoute la transition correspondante dans A\n",
    "    \n",
    "    #Normalisation \n",
    "    A = A / np.maximum(A.sum(1).reshape(d, 1), 1)\n",
    "    Pi = Pi / Pi.sum()\n",
    "    return Pi, A"
   ]
  },
  {
   "cell_type": "code",
   "execution_count": 20,
   "metadata": {},
   "outputs": [],
   "source": [
    "#Cette matrice contient toutes les valeurs d'angles pour un tracé de la lettre a, i.e la classe de la lettre a\n",
    "Xa_d = Xd[Yl[0][0]:Yl[0][len(Yl[0])-1]+1]"
   ]
  },
  {
   "cell_type": "code",
   "execution_count": 21,
   "metadata": {},
   "outputs": [
    {
     "data": {
      "text/plain": [
       "array([array([0., 2., 2., 2., 2., 2., 2., 2., 1., 1., 1., 1., 1., 1., 2., 2., 2.,\n",
       "       2., 0., 0., 0., 0., 0.]),\n",
       "       array([2., 2., 2., 2., 2., 2., 2., 1., 1., 1., 1., 1., 1., 1., 2., 2., 2.,\n",
       "       2., 2., 0., 0.]),\n",
       "       array([2., 2., 2., 2., 2., 2., 2., 2., 1., 1., 1., 1., 1., 1., 2., 2., 2.,\n",
       "       2., 0., 0., 0., 0., 0.]),\n",
       "       array([2., 2., 2., 2., 2., 0., 0., 1., 1., 1., 1., 2., 2., 2., 2., 2., 0.,\n",
       "       0., 0., 0.]),\n",
       "       array([0., 2., 2., 2., 2., 2., 2., 1., 1., 1., 1., 1., 1., 2., 2., 2., 2.,\n",
       "       0., 0., 0., 0., 0., 0.]),\n",
       "       array([2., 2., 2., 2., 2., 2., 2., 0., 1., 1., 1., 1., 2., 2., 2., 2., 2.,\n",
       "       0., 0., 0., 0., 0., 0.]),\n",
       "       array([2., 2., 2., 2., 2., 2., 2., 1., 1., 1., 1., 1., 1., 1., 2., 2., 2.,\n",
       "       2., 0., 0., 0., 0.]),\n",
       "       array([0., 2., 2., 2., 2., 2., 2., 2., 1., 1., 1., 1., 1., 1., 1., 1., 2.,\n",
       "       2., 2., 2., 2., 0., 0., 0.]),\n",
       "       array([2., 2., 2., 2., 2., 2., 2., 1., 1., 1., 1., 2., 2., 2., 2., 0., 0.,\n",
       "       0., 0.]),\n",
       "       array([2., 2., 2., 2., 2., 2., 2., 2., 0., 0., 1., 1., 1., 1., 1., 1., 2.,\n",
       "       2., 2., 2., 0., 0.]),\n",
       "       array([0., 2., 2., 2., 2., 2., 2., 2., 1., 1., 1., 1., 1., 1., 1., 1., 2.,\n",
       "       2., 2., 0., 0., 0., 0., 0., 0.])], dtype=object)"
      ]
     },
     "execution_count": 21,
     "metadata": {},
     "output_type": "execute_result"
    }
   ],
   "source": [
    "Xa_d"
   ]
  },
  {
   "cell_type": "code",
   "execution_count": 22,
   "metadata": {},
   "outputs": [],
   "source": [
    "Pia, Aa = learnMarkovModel(Xa_d, 3) "
   ]
  },
  {
   "cell_type": "code",
   "execution_count": 23,
   "metadata": {},
   "outputs": [
    {
     "data": {
      "text/plain": [
       "array([0.36363636, 0.        , 0.63636364])"
      ]
     },
     "execution_count": 23,
     "metadata": {},
     "output_type": "execute_result"
    }
   ],
   "source": [
    "Pia"
   ]
  },
  {
   "cell_type": "code",
   "execution_count": 24,
   "metadata": {},
   "outputs": [
    {
     "data": {
      "text/plain": [
       "array([[0.84444444, 0.06666667, 0.08888889],\n",
       "       [0.        , 0.83333333, 0.16666667],\n",
       "       [0.11382114, 0.06504065, 0.82113821]])"
      ]
     },
     "execution_count": 24,
     "metadata": {},
     "output_type": "execute_result"
    }
   ],
   "source": [
    "Aa"
   ]
  },
  {
   "cell_type": "markdown",
   "metadata": {},
   "source": [
    "**Validation :** premier modèle avec une discrétisation sur 3 états :\n",
    "```python\n",
    "(array([ 0.36363636,  0.        ,  0.63636364]),\n",
    " array([[ 0.84444444,  0.06666667,  0.08888889],\n",
    "       [ 0.        ,  0.83333333,  0.16666667],\n",
    "       [ 0.11382114,  0.06504065,  0.82113821]]))\n",
    "```"
   ]
  },
  {
   "cell_type": "markdown",
   "metadata": {},
   "source": [
    "### 4. Stocker les modèles dans une liste\n",
    "\n",
    "Pour un usage ultérieur plus facile, on utilise le code suivant :"
   ]
  },
  {
   "cell_type": "code",
   "execution_count": 146,
   "metadata": {},
   "outputs": [],
   "source": [
    "d = 3                   # paramètre de discrétisation\n",
    "Xd = discretise(X, d)    # application de la discrétisation\n",
    "index = groupByLabel(Y)  # groupement des signaux par classe\n",
    "models = []\n",
    "for cl in range(len(np.unique(Y))): # parcours de toutes les classes et optimisation des modèles\n",
    "    models.append(learnMarkovModel(Xd[index[cl]], d))"
   ]
  },
  {
   "cell_type": "code",
   "execution_count": 54,
   "metadata": {},
   "outputs": [
    {
     "data": {
      "text/plain": [
       "(array([0.36363636, 0.        , 0.63636364]),\n",
       " array([[0.84444444, 0.06666667, 0.08888889],\n",
       "        [0.        , 0.83333333, 0.16666667],\n",
       "        [0.11382114, 0.06504065, 0.82113821]]))"
      ]
     },
     "execution_count": 54,
     "metadata": {},
     "output_type": "execute_result"
    }
   ],
   "source": [
    "models[0]"
   ]
  },
  {
   "cell_type": "code",
   "execution_count": 150,
   "metadata": {},
   "outputs": [
    {
     "data": {
      "text/plain": [
       "array([array([0., 2., 2., 2., 2., 2., 2., 2., 1., 1., 1., 1., 1., 1., 2., 2., 2.,\n",
       "       2., 0., 0., 0., 0., 0.]),\n",
       "       array([2., 2., 2., 2., 2., 2., 2., 1., 1., 1., 1., 1., 1., 1., 2., 2., 2.,\n",
       "       2., 2., 0., 0.]),\n",
       "       array([2., 2., 2., 2., 2., 2., 2., 2., 1., 1., 1., 1., 1., 1., 2., 2., 2.,\n",
       "       2., 0., 0., 0., 0., 0.]),\n",
       "       array([2., 2., 2., 2., 2., 0., 0., 1., 1., 1., 1., 2., 2., 2., 2., 2., 0.,\n",
       "       0., 0., 0.]),\n",
       "       array([0., 2., 2., 2., 2., 2., 2., 1., 1., 1., 1., 1., 1., 2., 2., 2., 2.,\n",
       "       0., 0., 0., 0., 0., 0.]),\n",
       "       array([2., 2., 2., 2., 2., 2., 2., 0., 1., 1., 1., 1., 2., 2., 2., 2., 2.,\n",
       "       0., 0., 0., 0., 0., 0.]),\n",
       "       array([2., 2., 2., 2., 2., 2., 2., 1., 1., 1., 1., 1., 1., 1., 2., 2., 2.,\n",
       "       2., 0., 0., 0., 0.]),\n",
       "       array([0., 2., 2., 2., 2., 2., 2., 2., 1., 1., 1., 1., 1., 1., 1., 1., 2.,\n",
       "       2., 2., 2., 2., 0., 0., 0.]),\n",
       "       array([2., 2., 2., 2., 2., 2., 2., 1., 1., 1., 1., 2., 2., 2., 2., 0., 0.,\n",
       "       0., 0.]),\n",
       "       array([2., 2., 2., 2., 2., 2., 2., 2., 0., 0., 1., 1., 1., 1., 1., 1., 2.,\n",
       "       2., 2., 2., 0., 0.]),\n",
       "       array([0., 2., 2., 2., 2., 2., 2., 2., 1., 1., 1., 1., 1., 1., 1., 1., 2.,\n",
       "       2., 2., 0., 0., 0., 0., 0., 0.])], dtype=object)"
      ]
     },
     "execution_count": 150,
     "metadata": {},
     "output_type": "execute_result"
    }
   ],
   "source": [
    "Xd[index[0]]"
   ]
  },
  {
   "cell_type": "code",
   "execution_count": 167,
   "metadata": {},
   "outputs": [
    {
     "name": "stdout",
     "output_type": "stream",
     "text": [
      "True  1\n",
      "True  1\n",
      "True  1\n",
      "True  1\n",
      "True  1\n",
      "True  1\n",
      "True  1\n",
      "True  1\n",
      "True  1\n",
      "True  1\n",
      "True  1\n"
     ]
    }
   ],
   "source": [
    "for cl in range(len(Xa_d)):\n",
    "    cpt = 0\n",
    "    if (Xd[index[0]][cl] == Xa_d[cl]).all():\n",
    "        cpt+=1\n",
    "        print(\"True \",cpt)\n",
    "    else:\n",
    "        print(\"Xa_d : \")\n",
    "        print(Xa_d[cl])\n",
    "        print(\"Xd : \")\n",
    "        print(Xd[cl])"
   ]
  },
  {
   "cell_type": "markdown",
   "metadata": {},
   "source": [
    "##  Test (affectation dans les classes sur critère MV)\n",
    "### 1. (log)Probabilité d'une séquence dans un modèle\n",
    "\n",
    "Donner le code de la méthode `probaSequence(s,Pi,A)` qui retourne la log-probabilité d'une séquence `s` dans le modèle {$\\lambda=\\{Pi,A\\}$} "
   ]
  },
  {
   "cell_type": "code",
   "execution_count": 27,
   "metadata": {},
   "outputs": [],
   "source": [
    "def probaSequence(s, Pi, A):\n",
    "    \"\"\"\n",
    "    s : nd.array[int], Pi : nd.array(d)[int], A : nd.array(d, d)[int]  -> float\n",
    "    \"\"\"\n",
    "    # Votre code\n",
    "    l = np.log(Pi[int(s[0])]) \n",
    "    for i in range(0,len(s)-1):    #On itere sur les transitions \n",
    "        l+= np.log(A[int(s[i]),int(s[i+1])])\n",
    "    return l"
   ]
  },
  {
   "cell_type": "code",
   "execution_count": 28,
   "metadata": {},
   "outputs": [
    {
     "name": "stderr",
     "output_type": "stream",
     "text": [
      "/anaconda3/lib/python3.7/site-packages/ipykernel_launcher.py:6: RuntimeWarning: divide by zero encountered in log\n",
      "  \n",
      "/anaconda3/lib/python3.7/site-packages/ipykernel_launcher.py:8: RuntimeWarning: divide by zero encountered in log\n",
      "  \n"
     ]
    }
   ],
   "source": [
    "#Pour avoir l'exemple présenté il faut que l'on itére sur les différentes classes \n",
    "#On peut le faire grâce au modele cree precedement\n",
    "S1_lp = np.array([probaSequence(Xd[0], mods[0], mods[1]) for mods in models])  #Pour chaque modele mods de models on va chercehr Pi et A"
   ]
  },
  {
   "cell_type": "code",
   "execution_count": 29,
   "metadata": {},
   "outputs": [
    {
     "data": {
      "text/plain": [
       "array([-13.491086  ,         -inf,         -inf,         -inf,\n",
       "               -inf,         -inf,         -inf,         -inf,\n",
       "               -inf,         -inf,         -inf,         -inf,\n",
       "               -inf,         -inf,         -inf,         -inf,\n",
       "               -inf,         -inf,         -inf,         -inf,\n",
       "               -inf,         -inf,         -inf,         -inf,\n",
       "               -inf, -12.48285678])"
      ]
     },
     "execution_count": 29,
     "metadata": {},
     "output_type": "execute_result"
    }
   ],
   "source": [
    "S1_lp"
   ]
  },
  {
   "cell_type": "markdown",
   "metadata": {},
   "source": [
    "**VALIDATION :** probabilité du premier signal dans les 26 modèles avec une discrétisation sur 3 états :\n",
    "```python\n",
    "array([-13.491086  ,         -inf,         -inf,         -inf,\n",
    "               -inf,         -inf,         -inf,         -inf,\n",
    "               -inf,         -inf,         -inf,         -inf,\n",
    "               -inf,         -inf,         -inf,         -inf,\n",
    "               -inf,         -inf,         -inf,         -inf,\n",
    "               -inf,         -inf,         -inf,         -inf,\n",
    "               -inf, -12.48285678])\n",
    "```\n",
    "\n",
    "- Ce signal est-il bien classé ?\n",
    "- D'où viennent tous les `-inf` ? "
   ]
  },
  {
   "cell_type": "code",
   "execution_count": 30,
   "metadata": {},
   "outputs": [
    {
     "data": {
      "text/plain": [
       "-12.482856781808644"
      ]
     },
     "execution_count": 30,
     "metadata": {},
     "output_type": "execute_result"
    }
   ],
   "source": [
    "np.max((S1_lp[np.isinf(S1_lp)==False]))"
   ]
  },
  {
   "cell_type": "markdown",
   "metadata": {},
   "source": [
    "Comme on est en Log probabilité on recherche donc la valeur negative qui soit la plus proche de 0, en effet en passant à l'exponentielle elle sera plus grande.\n",
    "\n",
    "Ici la valeur la plus grande est `-12.48285678180864`donc d'après notre modèle la séquence est classé comme étant cellle d'une lettre \"z\"."
   ]
  },
  {
   "cell_type": "code",
   "execution_count": 31,
   "metadata": {},
   "outputs": [
    {
     "name": "stderr",
     "output_type": "stream",
     "text": [
      "/anaconda3/lib/python3.7/site-packages/ipykernel_launcher.py:1: RuntimeWarning: divide by zero encountered in log\n",
      "  \"\"\"Entry point for launching an IPython kernel.\n"
     ]
    },
    {
     "data": {
      "text/plain": [
       "-inf"
      ]
     },
     "execution_count": 31,
     "metadata": {},
     "output_type": "execute_result"
    }
   ],
   "source": [
    "np.log(0)"
   ]
  },
  {
   "cell_type": "markdown",
   "metadata": {},
   "source": [
    "Les `-inf` viennent du fait qu'on fait des logarithmes de valeurs tellement petites que Python les considérent comme des 0."
   ]
  },
  {
   "cell_type": "markdown",
   "metadata": {},
   "source": [
    "### 2. Application de la méthode précédente pour tous les signaux et tous les modèles de lettres\n",
    "\n",
    "L'application se fait en une ligne de code si vous avez respecté les spécifications précédentes : "
   ]
  },
  {
   "cell_type": "code",
   "execution_count": 32,
   "metadata": {},
   "outputs": [
    {
     "name": "stderr",
     "output_type": "stream",
     "text": [
      "/anaconda3/lib/python3.7/site-packages/ipykernel_launcher.py:6: RuntimeWarning: divide by zero encountered in log\n",
      "  \n",
      "/anaconda3/lib/python3.7/site-packages/ipykernel_launcher.py:8: RuntimeWarning: divide by zero encountered in log\n",
      "  \n"
     ]
    }
   ],
   "source": [
    "proba = np.array([[probaSequence(Xd[i], models[cl][0], models[cl][1]) for i in range(len(Xd))]\n",
    "                  for cl in range(len(np.unique(Y)))])"
   ]
  },
  {
   "cell_type": "code",
   "execution_count": 33,
   "metadata": {},
   "outputs": [
    {
     "data": {
      "text/plain": [
       "array([-13.491086  ,         -inf,         -inf,         -inf,\n",
       "               -inf,         -inf,         -inf,         -inf,\n",
       "               -inf,         -inf,         -inf,         -inf,\n",
       "               -inf,         -inf,         -inf,         -inf,\n",
       "               -inf,         -inf,         -inf,         -inf,\n",
       "               -inf,         -inf,         -inf,         -inf,\n",
       "               -inf, -12.48285678])"
      ]
     },
     "execution_count": 33,
     "metadata": {},
     "output_type": "execute_result"
    }
   ],
   "source": [
    "proba[0:26,0]"
   ]
  },
  {
   "cell_type": "markdown",
   "metadata": {},
   "source": [
    "On retrouve bien probabilité du premier signal dans les 26 modèles avec une discrétisation sur 3 états."
   ]
  },
  {
   "cell_type": "markdown",
   "metadata": {},
   "source": [
    "### 3. Evaluation des performances\n",
    "\n",
    "Pour l'évaluation, nous proposons l'approche suivante: "
   ]
  },
  {
   "cell_type": "code",
   "execution_count": 307,
   "metadata": {},
   "outputs": [
    {
     "data": {
      "text/plain": [
       "268"
      ]
     },
     "execution_count": 307,
     "metadata": {},
     "output_type": "execute_result"
    }
   ],
   "source": [
    "len(Y)"
   ]
  },
  {
   "cell_type": "code",
   "execution_count": 311,
   "metadata": {},
   "outputs": [
    {
     "data": {
      "text/plain": [
       "[array([ 0,  1,  2,  3,  4,  5,  6,  7,  8,  9, 10]),\n",
       " array([11, 12, 13, 14, 15, 16, 17, 18, 19, 20, 21]),\n",
       " array([22, 23, 24, 25, 26, 27, 28, 29, 30, 31, 32]),\n",
       " array([33, 34, 35, 36, 37, 38, 39, 40, 41, 42, 43]),\n",
       " array([44, 45, 46, 47, 48, 49, 50, 51, 52, 53, 54]),\n",
       " array([55, 56, 57, 58, 59, 60, 61, 62, 63, 64, 65]),\n",
       " array([66, 67, 68, 69, 70, 71, 72, 73, 74, 75, 76]),\n",
       " array([77, 78, 79, 80, 81, 82, 83, 84, 85, 86, 87]),\n",
       " array([88, 89, 90, 91, 92, 93, 94, 95, 96, 97]),\n",
       " array([ 98,  99, 100, 101, 102, 103, 104, 105, 106, 107]),\n",
       " array([108, 109, 110, 111, 112, 113, 114, 115, 116, 117]),\n",
       " array([118, 119, 120, 121, 122, 123, 124, 125, 126, 127]),\n",
       " array([128, 129, 130, 131, 132, 133, 134, 135, 136, 137]),\n",
       " array([138, 139, 140, 141, 142, 143, 144, 145, 146, 147]),\n",
       " array([148, 149, 150, 151, 152, 153, 154, 155, 156, 157]),\n",
       " array([158, 159, 160, 161, 162, 163, 164, 165, 166, 167]),\n",
       " array([168, 169, 170, 171, 172, 173, 174, 175, 176, 177]),\n",
       " array([178, 179, 180, 181, 182, 183, 184, 185, 186, 187]),\n",
       " array([188, 189, 190, 191, 192, 193, 194, 195, 196, 197]),\n",
       " array([198, 199, 200, 201, 202, 203, 204, 205, 206, 207]),\n",
       " array([208, 209, 210, 211, 212, 213, 214, 215, 216, 217]),\n",
       " array([218, 219, 220, 221, 222, 223, 224, 225, 226, 227]),\n",
       " array([228, 229, 230, 231, 232, 233, 234, 235, 236, 237]),\n",
       " array([238, 239, 240, 241, 242, 243, 244, 245, 246, 247]),\n",
       " array([248, 249, 250, 251, 252, 253, 254, 255, 256, 257]),\n",
       " array([258, 259, 260, 261, 262, 263, 264, 265, 266, 267])]"
      ]
     },
     "execution_count": 311,
     "metadata": {},
     "output_type": "execute_result"
    }
   ],
   "source": [
    "Yl"
   ]
  },
  {
   "cell_type": "code",
   "execution_count": 320,
   "metadata": {},
   "outputs": [
    {
     "name": "stdout",
     "output_type": "stream",
     "text": [
      "[25  0  0  3 25  3  0 25  0  3 25  1  1  1  1  1  1  1  1  1  1  1  2  2\n",
      "  0  2  2  2  2  2  4  4  2  3  3  3  3  0  3  3  3  0  3  0  4  4  4  4\n",
      "  4  4  4  3  4  4  4  5  6  6  5 16  6  6  5 16 16 16  6  6  6  6 16 16\n",
      "  6  6  6  6  6 12  7 24  7  7 13  7  7  7  7  7  8  8  8  8  8  8  8  8\n",
      "  8  8  9  9  9  9  9  9  9  9  9  9  8  9 10  9  9  8  9  9  9  9  8  8\n",
      "  8  8  8  8  8  8  8  8 12 12 12 12 12 12 12 12 12 12 13 13 13 13 13 13\n",
      " 13 13 13 13  4  4  3 14 14 14  2 14 14 14 15 15 15 15 15 15 15 15 15 15\n",
      " 16 16 16 16 16 16 16 16 16 16 22 21 21 13 21 17 20 17 20 21 18 18 18 18\n",
      " 18 18 18 18 18 18  8  8  8  8  8  8  8  8  8  8 20 20 20 20 20 20 20 20\n",
      " 21 21 21 21 21 21 21 20 21 21 21 21 22 22 22 22 22 22 22 22 22 22  8  8\n",
      "  8  8  8  8  8  8  8  8 24  7 24  3 24 24 24 24 24 24 25 25 25 25 25 25\n",
      " 25 25 25 25]\n"
     ]
    },
    {
     "data": {
      "text/plain": [
       "0.6902985074626866"
      ]
     },
     "execution_count": 320,
     "metadata": {},
     "output_type": "execute_result"
    }
   ],
   "source": [
    "# calcul d'une version numérique des Y :\n",
    "Ynum = np.zeros(Y.shape)\n",
    "Ynum2 = []\n",
    "for num, char in enumerate(np.unique(Y)):\n",
    "    Ynum[Y == char] = num\n",
    "for i in range(len(Yl)):\n",
    "    for j in Yl[i]:\n",
    "        Ynum2.append(float(i))    \n",
    "# Calcul de la classe la plus probable :\n",
    "pred = proba.argmax(0) # max colonne par colonne\n",
    "print(pred)\n",
    "# Calcul d'un pourcentage de bonne classification :\n",
    "np.where(pred != Ynum, 0.,1.).mean()"
   ]
  },
  {
   "cell_type": "code",
   "execution_count": 321,
   "metadata": {},
   "outputs": [
    {
     "name": "stdout",
     "output_type": "stream",
     "text": [
      "Ynum : \n",
      " [ 0.  0.  0.  0.  0.  0.  0.  0.  0.  0.  0.  1.  1.  1.  1.  1.  1.  1.\n",
      "  1.  1.  1.  1.  2.  2.  2.  2.  2.  2.  2.  2.  2.  2.  2.  3.  3.  3.\n",
      "  3.  3.  3.  3.  3.  3.  3.  3.  4.  4.  4.  4.  4.  4.  4.  4.  4.  4.\n",
      "  4.  5.  5.  5.  5.  5.  5.  5.  5.  5.  5.  5.  6.  6.  6.  6.  6.  6.\n",
      "  6.  6.  6.  6.  6.  7.  7.  7.  7.  7.  7.  7.  7.  7.  7.  7.  8.  8.\n",
      "  8.  8.  8.  8.  8.  8.  8.  8.  9.  9.  9.  9.  9.  9.  9.  9.  9.  9.\n",
      " 10. 10. 10. 10. 10. 10. 10. 10. 10. 10. 11. 11. 11. 11. 11. 11. 11. 11.\n",
      " 11. 11. 12. 12. 12. 12. 12. 12. 12. 12. 12. 12. 13. 13. 13. 13. 13. 13.\n",
      " 13. 13. 13. 13. 14. 14. 14. 14. 14. 14. 14. 14. 14. 14. 15. 15. 15. 15.\n",
      " 15. 15. 15. 15. 15. 15. 16. 16. 16. 16. 16. 16. 16. 16. 16. 16. 17. 17.\n",
      " 17. 17. 17. 17. 17. 17. 17. 17. 18. 18. 18. 18. 18. 18. 18. 18. 18. 18.\n",
      " 19. 19. 19. 19. 19. 19. 19. 19. 19. 19. 20. 20. 20. 20. 20. 20. 20. 20.\n",
      " 20. 20. 21. 21. 21. 21. 21. 21. 21. 21. 21. 21. 22. 22. 22. 22. 22. 22.\n",
      " 22. 22. 22. 22. 23. 23. 23. 23. 23. 23. 23. 23. 23. 23. 24. 24. 24. 24.\n",
      " 24. 24. 24. 24. 24. 24. 25. 25. 25. 25. 25. 25. 25. 25. 25. 25.]\n"
     ]
    }
   ],
   "source": [
    "print(\"Ynum : \\n\", Ynum) "
   ]
  },
  {
   "cell_type": "code",
   "execution_count": 322,
   "metadata": {},
   "outputs": [
    {
     "name": "stdout",
     "output_type": "stream",
     "text": [
      "Ynum2 : \n",
      " [ 0.  0.  0.  0.  0.  0.  0.  0.  0.  0.  0.  1.  1.  1.  1.  1.  1.  1.\n",
      "  1.  1.  1.  1.  2.  2.  2.  2.  2.  2.  2.  2.  2.  2.  2.  3.  3.  3.\n",
      "  3.  3.  3.  3.  3.  3.  3.  3.  4.  4.  4.  4.  4.  4.  4.  4.  4.  4.\n",
      "  4.  5.  5.  5.  5.  5.  5.  5.  5.  5.  5.  5.  6.  6.  6.  6.  6.  6.\n",
      "  6.  6.  6.  6.  6.  7.  7.  7.  7.  7.  7.  7.  7.  7.  7.  7.  8.  8.\n",
      "  8.  8.  8.  8.  8.  8.  8.  8.  9.  9.  9.  9.  9.  9.  9.  9.  9.  9.\n",
      " 10. 10. 10. 10. 10. 10. 10. 10. 10. 10. 11. 11. 11. 11. 11. 11. 11. 11.\n",
      " 11. 11. 12. 12. 12. 12. 12. 12. 12. 12. 12. 12. 13. 13. 13. 13. 13. 13.\n",
      " 13. 13. 13. 13. 14. 14. 14. 14. 14. 14. 14. 14. 14. 14. 15. 15. 15. 15.\n",
      " 15. 15. 15. 15. 15. 15. 16. 16. 16. 16. 16. 16. 16. 16. 16. 16. 17. 17.\n",
      " 17. 17. 17. 17. 17. 17. 17. 17. 18. 18. 18. 18. 18. 18. 18. 18. 18. 18.\n",
      " 19. 19. 19. 19. 19. 19. 19. 19. 19. 19. 20. 20. 20. 20. 20. 20. 20. 20.\n",
      " 20. 20. 21. 21. 21. 21. 21. 21. 21. 21. 21. 21. 22. 22. 22. 22. 22. 22.\n",
      " 22. 22. 22. 22. 23. 23. 23. 23. 23. 23. 23. 23. 23. 23. 24. 24. 24. 24.\n",
      " 24. 24. 24. 24. 24. 24. 25. 25. 25. 25. 25. 25. 25. 25. 25. 25.]\n"
     ]
    }
   ],
   "source": [
    "print(\"Ynum2 : \\n\", np.array(Ynum2)) "
   ]
  },
  {
   "cell_type": "code",
   "execution_count": 323,
   "metadata": {},
   "outputs": [
    {
     "data": {
      "text/plain": [
       "array([ True,  True,  True,  True,  True,  True,  True,  True,  True,\n",
       "        True,  True,  True,  True,  True,  True,  True,  True,  True,\n",
       "        True,  True,  True,  True,  True,  True,  True,  True,  True,\n",
       "        True,  True,  True,  True,  True,  True,  True,  True,  True,\n",
       "        True,  True,  True,  True,  True,  True,  True,  True,  True,\n",
       "        True,  True,  True,  True,  True,  True,  True,  True,  True,\n",
       "        True,  True,  True,  True,  True,  True,  True,  True,  True,\n",
       "        True,  True,  True,  True,  True,  True,  True,  True,  True,\n",
       "        True,  True,  True,  True,  True,  True,  True,  True,  True,\n",
       "        True,  True,  True,  True,  True,  True,  True,  True,  True,\n",
       "        True,  True,  True,  True,  True,  True,  True,  True,  True,\n",
       "        True,  True,  True,  True,  True,  True,  True,  True,  True,\n",
       "        True,  True,  True,  True,  True,  True,  True,  True,  True,\n",
       "        True,  True,  True,  True,  True,  True,  True,  True,  True,\n",
       "        True,  True,  True,  True,  True,  True,  True,  True,  True,\n",
       "        True,  True,  True,  True,  True,  True,  True,  True,  True,\n",
       "        True,  True,  True,  True,  True,  True,  True,  True,  True,\n",
       "        True,  True,  True,  True,  True,  True,  True,  True,  True,\n",
       "        True,  True,  True,  True,  True,  True,  True,  True,  True,\n",
       "        True,  True,  True,  True,  True,  True,  True,  True,  True,\n",
       "        True,  True,  True,  True,  True,  True,  True,  True,  True,\n",
       "        True,  True,  True,  True,  True,  True,  True,  True,  True,\n",
       "        True,  True,  True,  True,  True,  True,  True,  True,  True,\n",
       "        True,  True,  True,  True,  True,  True,  True,  True,  True,\n",
       "        True,  True,  True,  True,  True,  True,  True,  True,  True,\n",
       "        True,  True,  True,  True,  True,  True,  True,  True,  True,\n",
       "        True,  True,  True,  True,  True,  True,  True,  True,  True,\n",
       "        True,  True,  True,  True,  True,  True,  True,  True,  True,\n",
       "        True,  True,  True,  True,  True,  True,  True,  True,  True,\n",
       "        True,  True,  True,  True,  True,  True,  True])"
      ]
     },
     "execution_count": 323,
     "metadata": {},
     "output_type": "execute_result"
    }
   ],
   "source": [
    "Ynum == Ynum2"
   ]
  },
  {
   "cell_type": "code",
   "execution_count": 297,
   "metadata": {},
   "outputs": [],
   "source": [
    "def procedure(X, Y, d):\n",
    "    Xd = discretise(X, d)\n",
    "    index = groupByLabel(Y)\n",
    "    models = []\n",
    "    for cl in range(len(np.unique(Y))): # parcours de toutes les classes et optimisation des modèles\n",
    "        models.append(learnMarkovModel(Xd[index[cl]], d))\n",
    "\n",
    "    #Calcul des probabilites\n",
    "    proba = np.array([[probaSequence(Xd[i], models[cl][0], models[cl][1]) for i in range(len(Xd))] for cl in range(len(np.unique(Y)))])\n",
    "\n",
    "    # calcul d'une version numérique des Y :\n",
    "    Ynum = np.zeros(Y.shape)\n",
    "    for num, char in enumerate(np.unique(Y)):\n",
    "        Ynum[Y == char] = num\n",
    "\n",
    "        \n",
    "    # Calcul de la classe la plus probable :\n",
    "    pred = proba.argmax(0) # max colonne par colonne\n",
    "\n",
    "    # Calcul d'un pourcentage de bonne classification :\n",
    "    return np.where(pred != Ynum, 0.,1.).mean()"
   ]
  },
  {
   "cell_type": "code",
   "execution_count": 298,
   "metadata": {},
   "outputs": [
    {
     "name": "stderr",
     "output_type": "stream",
     "text": [
      "/anaconda3/lib/python3.7/site-packages/ipykernel_launcher.py:6: RuntimeWarning: divide by zero encountered in log\n",
      "  \n",
      "/anaconda3/lib/python3.7/site-packages/ipykernel_launcher.py:8: RuntimeWarning: divide by zero encountered in log\n",
      "  \n"
     ]
    },
    {
     "data": {
      "text/plain": [
       "0.914179104477612"
      ]
     },
     "execution_count": 298,
     "metadata": {},
     "output_type": "execute_result"
    }
   ],
   "source": [
    "procedure(X, Y, 20)"
   ]
  },
  {
   "cell_type": "markdown",
   "metadata": {},
   "source": [
    "**INDICE DE PERFORMANCE :** 91% de bonne classification avec 20 états, 69% avec 3 états"
   ]
  },
  {
   "cell_type": "markdown",
   "metadata": {},
   "source": [
    "On retrouve effectivement les bonnes performances à la fois pour trois états et aussi avec 20 états."
   ]
  },
  {
   "cell_type": "markdown",
   "metadata": {},
   "source": [
    "## Biais d'évaluation, notion de sur-apprentissage\n",
    "\n",
    "Dans le protocole précédent, nous avons triché:\n",
    "- les données servent d'abord à apprendre les modèles...\n",
    "- puis nous nous servons des mêmes données pour tester les modèles ! Les performances sont forcément bonnes ! \n",
    "\n",
    "Afin de palier le problème, nous allons diviser en deux la base de données: une partie servira à l'apprentissage des modèles, l'autre à leur évaluation. Pour effectuer la division, nous fournissons le code suivant: "
   ]
  },
  {
   "cell_type": "code",
   "execution_count": 37,
   "metadata": {},
   "outputs": [],
   "source": [
    "# separation app/test, pc=ratio de points en apprentissage\n",
    "def separeTrainTest(y, pc):\n",
    "    indTrain = []\n",
    "    indTest = []\n",
    "    for i in np.unique(y): # pour toutes les classes\n",
    "        ind, = np.where(y == i)\n",
    "        n = len(ind)\n",
    "        indTrain.append(ind[np.random.permutation(n)][:int(np.floor(pc * n))])\n",
    "        indTest.append(np.setdiff1d(ind, indTrain[-1]))\n",
    "    return indTrain, indTest\n",
    "\n",
    "# exemple d'utilisation\n",
    "itrain, itest = separeTrainTest(Y, 0.8)"
   ]
  },
  {
   "cell_type": "markdown",
   "metadata": {},
   "source": [
    "dans `itrain`, nous obtenons les indices des signaux qui doivent servir en apprentissage pour chaque classe :"
   ]
  },
  {
   "cell_type": "code",
   "execution_count": 231,
   "metadata": {},
   "outputs": [
    {
     "data": {
      "text/plain": [
       "[array([ 0, 10,  8,  1,  3,  7,  9,  6]),\n",
       " array([19, 15, 11, 20, 16, 12, 21, 18]),\n",
       " array([32, 26, 25, 31, 23, 24, 29, 28]),\n",
       " array([33, 34, 42, 38, 41, 39, 43, 35]),\n",
       " array([53, 45, 46, 48, 47, 50, 51, 54]),\n",
       " array([55, 57, 59, 56, 62, 64, 61, 63]),\n",
       " array([76, 72, 67, 73, 75, 74, 68, 70]),\n",
       " array([82, 77, 87, 81, 86, 83, 85, 80]),\n",
       " array([95, 93, 91, 94, 90, 89, 97, 96]),\n",
       " array([103, 105,  99, 107, 106, 102, 104,  98]),\n",
       " array([110, 112, 116, 108, 109, 115, 117, 111]),\n",
       " array([119, 127, 126, 125, 121, 124, 118, 120]),\n",
       " array([133, 137, 132, 134, 135, 136, 129, 128]),\n",
       " array([143, 147, 138, 139, 140, 145, 142, 141]),\n",
       " array([152, 155, 156, 154, 157, 150, 148, 149]),\n",
       " array([158, 166, 160, 165, 159, 161, 163, 164]),\n",
       " array([175, 170, 171, 177, 172, 173, 168, 174]),\n",
       " array([178, 184, 185, 183, 182, 181, 186, 180]),\n",
       " array([190, 193, 194, 188, 195, 189, 197, 192]),\n",
       " array([203, 205, 206, 201, 202, 199, 200, 204]),\n",
       " array([209, 212, 217, 211, 210, 216, 208, 215]),\n",
       " array([226, 222, 221, 225, 220, 218, 224, 227]),\n",
       " array([236, 234, 233, 232, 235, 237, 229, 228]),\n",
       " array([244, 238, 240, 239, 247, 245, 241, 243]),\n",
       " array([249, 250, 256, 254, 248, 253, 257, 252]),\n",
       " array([260, 263, 264, 262, 267, 261, 258, 266])]"
      ]
     },
     "execution_count": 231,
     "metadata": {},
     "output_type": "execute_result"
    }
   ],
   "source": [
    "itrain"
   ]
  },
  {
   "cell_type": "code",
   "execution_count": 368,
   "metadata": {},
   "outputs": [
    {
     "name": "stdout",
     "output_type": "stream",
     "text": [
      "-----------------------------Classe : 0 -------------------------------\n",
      "---------------Xd : 0  --------------\n",
      " [ 2. 19. 17. 17. 17. 17. 17. 18.  7.  9. 11. 12. 12. 13. 14. 15. 16. 19.\n",
      "  0.  1.  1.  2.  2.]\n",
      "[ 2. 19. 17. 17. 17. 17. 17. 18.  7.  9. 11. 12. 12. 13. 14. 15. 16. 19.\n",
      "  0.  1.  1.  2.  2.]\n",
      "---------------Xd : 10  --------------\n",
      " [ 0. 18. 18. 17. 17. 16. 16. 16. 12.  8.  8. 10. 11. 12. 12. 13. 14. 16.\n",
      " 19.  0.  0.  0.  1.  1.  1.]\n",
      "[ 0. 18. 18. 17. 17. 16. 16. 16. 12.  8.  8. 10. 11. 12. 12. 13. 14. 16.\n",
      " 19.  0.  0.  0.  1.  1.  1.]\n",
      "---------------Xd : 8  --------------\n",
      " [19. 17. 16. 16. 16. 16. 15. 11. 10. 11. 12. 13. 14. 16. 19.  0.  0.  1.\n",
      "  1.]\n",
      "[19. 17. 16. 16. 16. 16. 15. 11. 10. 11. 12. 13. 14. 16. 19.  0.  0.  1.\n",
      "  1.]\n",
      "---------------Xd : 1  --------------\n",
      " [18. 17. 17. 16. 16. 16. 16.  7.  8.  9. 10. 11. 11. 12. 13. 15. 17. 18.\n",
      " 19.  0.  1.]\n",
      "[18. 17. 17. 16. 16. 16. 16.  7.  8.  9. 10. 11. 11. 12. 13. 15. 17. 18.\n",
      " 19.  0.  1.]\n",
      "---------------Xd : 3  --------------\n",
      " [17. 16. 15. 15. 15.  3.  6.  8. 10. 11. 13. 14. 15. 15. 15. 18.  1.  1.\n",
      "  2.  2.]\n",
      "[17. 16. 15. 15. 15.  3.  6.  8. 10. 11. 13. 14. 15. 15. 15. 18.  1.  1.\n",
      "  2.  2.]\n",
      "---------------Xd : 7  --------------\n",
      " [ 0. 19. 18. 18. 18. 18. 18. 17. 11. 10. 10. 11. 11. 12. 12. 12. 13. 15.\n",
      " 17. 19. 19.  0.  1.  1.]\n",
      "[ 0. 19. 18. 18. 18. 18. 18. 17. 11. 10. 10. 11. 11. 12. 12. 12. 13. 15.\n",
      " 17. 19. 19.  0.  1.  1.]\n",
      "---------------Xd : 9  --------------\n",
      " [18. 19. 18. 17. 16. 15. 15. 17.  3.  6.  9. 10. 11. 12. 12. 13. 14. 14.\n",
      " 17. 19.  0.  0.]\n",
      "[18. 19. 18. 17. 16. 15. 15. 17.  3.  6.  9. 10. 11. 12. 12. 13. 14. 14.\n",
      " 17. 19.  0.  0.]\n",
      "---------------Xd : 6  --------------\n",
      " [17. 17. 17. 18. 18. 17. 16.  6.  7.  9. 10. 11. 12. 13. 14. 15. 17. 18.\n",
      "  0.  1.  1.  1.]\n",
      "[17. 17. 17. 18. 18. 17. 16.  6.  7.  9. 10. 11. 12. 13. 14. 15. 17. 18.\n",
      "  0.  1.  1.  1.]\n",
      "-----------------------------Classe : 1 -------------------------------\n",
      "---------------Xd : 19  --------------\n",
      " [15. 15. 15. 15. 15. 15. 15. 15.  3.  4.  4.  4.  3.  3.  1. 19. 18. 16.\n",
      " 15. 15. 14. 13. 11. 10. 10.]\n",
      "[15. 15. 15. 15. 15. 15. 15. 15.  3.  4.  4.  4.  3.  3.  1. 19. 18. 16.\n",
      " 15. 15. 14. 13. 11. 10. 10.]\n",
      "---------------Xd : 15  --------------\n",
      " [14. 15. 15. 15. 14. 14. 14. 16.  3.  4.  4.  3.  1. 18. 17. 16. 14. 13.\n",
      " 12. 11. 11. 10.]\n",
      "[14. 15. 15. 15. 14. 14. 14. 16.  3.  4.  4.  3.  1. 18. 17. 16. 14. 13.\n",
      " 12. 11. 11. 10.]\n",
      "---------------Xd : 11  --------------\n",
      " [15. 14. 15. 15. 14. 15. 15. 15.  3.  4.  3.  1.  0. 19. 18. 16. 14. 12.\n",
      " 11. 11. 10.]\n",
      "[15. 14. 15. 15. 14. 15. 15. 15.  3.  4.  3.  1.  0. 19. 18. 16. 14. 12.\n",
      " 11. 11. 10.]\n",
      "---------------Xd : 20  --------------\n",
      " [15. 15. 15. 15. 15. 16.  4.  5.  3. 19. 17. 15. 15. 14. 13. 12.]\n",
      "[15. 15. 15. 15. 15. 16.  4.  5.  3. 19. 17. 15. 15. 14. 13. 12.]\n",
      "---------------Xd : 16  --------------\n",
      " [15. 15. 15. 15. 15. 14. 15. 15.  1.  4.  4.  3.  2.  0. 18. 17. 16. 14.\n",
      " 13. 11. 10. 10.  9. 10.]\n",
      "[15. 15. 15. 15. 15. 14. 15. 15.  1.  4.  4.  3.  2.  0. 18. 17. 16. 14.\n",
      " 13. 11. 10. 10.  9. 10.]\n",
      "---------------Xd : 12  --------------\n",
      " [15. 15. 15. 15. 15. 15. 15. 15.  2.  5.  5.  4.  2. 19. 18. 17. 14. 11.\n",
      " 10. 10. 10. 10.]\n",
      "[15. 15. 15. 15. 15. 15. 15. 15.  2.  5.  5.  4.  2. 19. 18. 17. 14. 11.\n",
      " 10. 10. 10. 10.]\n",
      "---------------Xd : 21  --------------\n",
      " [15. 15. 15. 15. 15. 14. 15.  0.  4.  4.  2.  1. 19. 18. 16. 15. 13. 12.\n",
      " 11.  9.  7.  6.]\n",
      "[15. 15. 15. 15. 15. 14. 15.  0.  4.  4.  2.  1. 19. 18. 16. 15. 13. 12.\n",
      " 11.  9.  7.  6.]\n",
      "---------------Xd : 18  --------------\n",
      " [15. 14. 15. 14. 14. 15. 14. 14.  5.  4.  4.  4.  4.  2. 19. 18. 17. 16.\n",
      " 14. 13. 12. 11. 10. 10.]\n",
      "[15. 14. 15. 14. 14. 15. 14. 14.  5.  4.  4.  4.  4.  2. 19. 18. 17. 16.\n",
      " 14. 13. 12. 11. 10. 10.]\n",
      "-----------------------------Classe : 2 -------------------------------\n",
      "---------------Xd : 32  --------------\n",
      " [10. 12. 12. 12. 12. 11. 12. 13. 14. 15. 15. 17. 19.  0.  0.  1.  1.  1.]\n",
      "[10. 12. 12. 12. 12. 11. 12. 13. 14. 15. 15. 17. 19.  0.  0.  1.  1.  1.]\n",
      "---------------Xd : 26  --------------\n",
      " [12. 13. 13. 13. 14. 14. 14. 15. 16. 18.  0.  1.  1.  1.  1.  1.  1.  2.\n",
      "  2.]\n",
      "[12. 13. 13. 13. 14. 14. 14. 15. 16. 18.  0.  1.  1.  1.  1.  1.  1.  2.\n",
      "  2.]\n",
      "---------------Xd : 25  --------------\n",
      " [11. 12. 12. 13. 13. 13. 13. 15. 15. 16. 18. 19.  0.  0.  1.  0.]\n",
      "[11. 12. 12. 13. 13. 13. 13. 15. 15. 16. 18. 19.  0.  0.  1.  0.]\n",
      "---------------Xd : 31  --------------\n",
      " [ 5.  7. 10. 12. 12. 12. 13. 13. 14. 15. 14. 15. 17. 19.  0.  0.  1.  1.\n",
      "  1.  1.  0.]\n",
      "[ 5.  7. 10. 12. 12. 12. 13. 13. 14. 15. 14. 15. 17. 19.  0.  0.  1.  1.\n",
      "  1.  1.  0.]\n",
      "---------------Xd : 23  --------------\n",
      " [10. 12. 12. 13. 14. 14. 15. 15. 14. 15. 18. 19.  0.  1.  1.  0.]\n",
      "[10. 12. 12. 13. 14. 14. 15. 15. 14. 15. 18. 19.  0.  1.  1.  0.]\n",
      "---------------Xd : 24  --------------\n",
      " [ 6. 10. 12. 12. 13. 13. 13. 13. 14. 14. 15. 17. 18. 19.  0.  0.  1.  2.\n",
      "  3.  3.]\n",
      "[ 6. 10. 12. 12. 13. 13. 13. 13. 14. 14. 15. 17. 18. 19.  0.  0.  1.  2.\n",
      "  3.  3.]\n",
      "---------------Xd : 29  --------------\n",
      " [12. 12. 12. 12. 13. 13. 14. 14. 16. 17. 19.  0.  1.  1.  1.  1.  1.  0.\n",
      "  0.]\n",
      "[12. 12. 12. 12. 13. 13. 14. 14. 16. 17. 19.  0.  1.  1.  1.  1.  1.  0.\n",
      "  0.]\n",
      "---------------Xd : 28  --------------\n",
      " [ 9. 11. 12. 12. 12. 13. 13. 13. 14. 15. 15. 17.  0.  0.  1.  1.  1.  1.]\n",
      "[ 9. 11. 12. 12. 12. 13. 13. 13. 14. 15. 15. 17.  0.  0.  1.  1.  1.  1.]\n",
      "-----------------------------Classe : 3 -------------------------------\n",
      "---------------Xd : 33  --------------\n",
      " [15. 15. 14. 15. 15. 15. 16. 18.  5.  6.  7.  9. 11. 12. 13. 14. 16. 18.\n",
      "  0.  1.  1.]\n",
      "[15. 15. 14. 15. 15. 15. 16. 18.  5.  6.  7.  9. 11. 12. 13. 14. 16. 18.\n",
      "  0.  1.  1.]\n",
      "---------------Xd : 34  --------------\n",
      " [17. 16. 16. 16. 15. 16. 19.  6.  8.  9. 11. 12. 13. 13. 15. 18. 19.  0.\n",
      "  0.  0.]\n",
      "[17. 16. 16. 16. 15. 16. 19.  6.  8.  9. 11. 12. 13. 13. 15. 18. 19.  0.\n",
      "  0.  0.]\n",
      "---------------Xd : 42  --------------\n",
      " [16. 15. 15. 15. 15. 15. 15.  6.  7. 10. 12. 15. 16. 16. 18.  0.  0.]\n",
      "[16. 15. 15. 15. 15. 15. 15.  6.  7. 10. 12. 15. 16. 16. 18.  0.  0.]\n",
      "---------------Xd : 38  --------------\n",
      " [16. 15. 15. 16. 16. 19.  6.  9. 12. 13. 13. 14. 16.  0.  1.  1.  1.]\n",
      "[16. 15. 15. 16. 16. 19.  6.  9. 12. 13. 13. 14. 16.  0.  1.  1.  1.]\n",
      "---------------Xd : 41  --------------\n",
      " [16. 15. 16. 16. 16. 16. 18.  8. 10. 11. 12. 13. 15. 16. 19.  0.  1.  2.]\n",
      "[16. 15. 16. 16. 16. 16. 18.  8. 10. 11. 12. 13. 15. 16. 19.  0.  1.  2.]\n",
      "---------------Xd : 39  --------------\n",
      " [16. 16. 16. 16. 16. 16. 16. 17.  5.  7.  8. 10. 11. 12. 14. 15. 17. 19.\n",
      "  0.  1.  1.  1.]\n",
      "[16. 16. 16. 16. 16. 16. 16. 17.  5.  7.  8. 10. 11. 12. 14. 15. 17. 19.\n",
      "  0.  1.  1.  1.]\n",
      "---------------Xd : 43  --------------\n",
      " [15. 15. 15. 16. 16. 17.  7.  8. 10. 11. 12. 12. 14. 15. 18.  0.  0.  1.\n",
      "  1.  1.]\n",
      "[15. 15. 15. 16. 16. 17.  7.  8. 10. 11. 12. 12. 14. 15. 18.  0.  0.  1.\n",
      "  1.  1.]\n",
      "---------------Xd : 35  --------------\n",
      " [16. 15. 14. 15. 16. 16. 16.  5.  6.  9. 11. 12. 13. 14. 16. 19.  0.  0.]\n",
      "[16. 15. 14. 15. 16. 16. 16.  5.  6.  9. 11. 12. 13. 14. 16. 19.  0.  0.]\n",
      "-----------------------------Classe : 4 -------------------------------\n",
      "---------------Xd : 53  --------------\n",
      " [ 0.  1.  2.  2.  2.  2.  3.  4.  7. 10. 11. 12. 12. 12. 13. 14. 14. 14.\n",
      " 15. 17. 18.  0.  1.  1.  1.]\n",
      "[ 0.  1.  2.  2.  2.  2.  3.  4.  7. 10. 11. 12. 12. 12. 13. 14. 14. 14.\n",
      " 15. 17. 18.  0.  1.  1.  1.]\n",
      "---------------Xd : 45  --------------\n",
      " [ 0.  0.  1.  1.  2.  2.  2.  3.  3.  4.  6. 10. 12. 12. 12. 12. 12. 13.\n",
      " 14. 15. 16. 18. 18. 18. 19.  0.  0.]\n",
      "[ 0.  0.  1.  1.  2.  2.  2.  3.  3.  4.  6. 10. 12. 12. 12. 12. 12. 13.\n",
      " 14. 15. 16. 18. 18. 18. 19.  0.  0.]\n",
      "---------------Xd : 46  --------------\n",
      " [ 0.  0.  0.  1.  2.  2.  2.  4.  7.  9. 11. 11. 11. 11. 12. 13. 13. 14.\n",
      " 15. 16. 17. 18. 18. 19.  0.  0.  1.  1.]\n",
      "[ 0.  0.  0.  1.  2.  2.  2.  4.  7.  9. 11. 11. 11. 11. 12. 13. 13. 14.\n",
      " 15. 16. 17. 18. 18. 19.  0.  0.  1.  1.]\n",
      "---------------Xd : 48  --------------\n",
      " [ 0.  0.  1.  1.  2.  3.  5.  6.  8. 10. 11. 12. 13. 13. 14. 15. 15. 14.\n",
      " 16. 17. 18. 19.  0.  0.]\n",
      "[ 0.  0.  1.  1.  2.  3.  5.  6.  8. 10. 11. 12. 13. 13. 14. 15. 15. 14.\n",
      " 16. 17. 18. 19.  0.  0.]\n",
      "---------------Xd : 47  --------------\n",
      " [ 2.  2.  3.  3.  4.  6. 10. 11. 11. 12. 13. 13. 14. 15. 15. 16. 17. 17.\n",
      " 17. 19.  0.]\n",
      "[ 2.  2.  3.  3.  4.  6. 10. 11. 11. 12. 13. 13. 14. 15. 15. 16. 17. 17.\n",
      " 17. 19.  0.]\n",
      "---------------Xd : 50  --------------\n",
      " [ 1.  2.  2.  3.  4.  5.  9. 12. 13. 13. 13. 13. 13. 13. 14. 16. 17. 18.\n",
      " 19.  0.]\n",
      "[ 1.  2.  2.  3.  4.  5.  9. 12. 13. 13. 13. 13. 13. 13. 14. 16. 17. 18.\n",
      " 19.  0.]\n",
      "---------------Xd : 51  --------------\n",
      " [19.  1.  1.  2.  3.  4.  5.  9. 11. 12. 13. 13. 14. 14. 15. 16. 16. 17.\n",
      " 18.  0.  1.]\n",
      "[19.  1.  1.  2.  3.  4.  5.  9. 11. 12. 13. 13. 14. 14. 15. 16. 16. 17.\n",
      " 18.  0.  1.]\n",
      "---------------Xd : 54  --------------\n",
      " [ 0.  0.  1.  1.  1.  2.  2.  2.  2.  4.  5.  8. 10. 10. 11. 12. 12. 12.\n",
      " 12. 14. 15. 15. 15. 16. 18. 19. 19.  0.]\n",
      "[ 0.  0.  1.  1.  1.  2.  2.  2.  2.  4.  5.  8. 10. 10. 11. 12. 12. 12.\n",
      " 12. 14. 15. 15. 15. 16. 18. 19. 19.  0.]\n",
      "-----------------------------Classe : 5 -------------------------------\n",
      "---------------Xd : 55  --------------\n",
      " [ 6.  8. 11. 12. 13.]\n",
      "[ 6.  8. 11. 12. 13.]\n",
      "---------------Xd : 57  --------------\n",
      " [ 7.  9. 10. 11. 12. 13.]\n",
      "[ 7.  9. 10. 11. 12. 13.]\n",
      "---------------Xd : 59  --------------\n",
      " [ 9. 13. 14. 15. 15.]\n",
      "[ 9. 13. 14. 15. 15.]\n",
      "---------------Xd : 56  --------------\n",
      " [ 6.  7. 10. 12.]\n",
      "[ 6.  7. 10. 12.]\n",
      "---------------Xd : 62  --------------\n",
      " [ 5.  7. 10. 12. 14. 15.]\n",
      "[ 5.  7. 10. 12. 14. 15.]\n",
      "---------------Xd : 64  --------------\n",
      " [10. 12. 13. 14.]\n",
      "[10. 12. 13. 14.]\n",
      "---------------Xd : 61  --------------\n",
      " [10. 11. 13. 14. 15. 15.]\n",
      "[10. 11. 13. 14. 15. 15.]\n",
      "---------------Xd : 63  --------------\n",
      " [13. 13. 14. 15. 15.]\n",
      "[13. 13. 14. 15. 15.]\n",
      "-----------------------------Classe : 6 -------------------------------\n",
      "---------------Xd : 76  --------------\n",
      " [11. 12.]\n",
      "[11. 12.]\n",
      "---------------Xd : 72  --------------\n",
      " [ 9. 11. 12.]\n",
      "[ 9. 11. 12.]\n",
      "---------------Xd : 67  --------------\n",
      " [11. 13.]\n",
      "[11. 13.]\n",
      "---------------Xd : 73  --------------\n",
      " [11. 12. 12.]\n",
      "[11. 12. 12.]\n",
      "---------------Xd : 75  --------------\n",
      " [12. 12. 12.]\n",
      "[12. 12. 12.]\n",
      "---------------Xd : 74  --------------\n",
      " [10. 11. 12. 15.]\n",
      "[10. 11. 12. 15.]\n",
      "---------------Xd : 68  --------------\n",
      " [12. 12.]\n",
      "[12. 12.]\n",
      "---------------Xd : 70  --------------\n",
      " [11. 12. 13.]\n",
      "[11. 12. 13.]\n",
      "-----------------------------Classe : 7 -------------------------------\n",
      "---------------Xd : 82  --------------\n",
      " [15. 15. 15. 15. 14. 15. 15. 14. 19.  4.  5.  4.  4.  4.  4.  3.  1. 18.\n",
      " 16. 16. 16. 16. 16. 17.]\n",
      "[15. 15. 15. 15. 14. 15. 15. 14. 19.  4.  5.  4.  4.  4.  4.  3.  1. 18.\n",
      " 16. 16. 16. 16. 16. 17.]\n",
      "---------------Xd : 77  --------------\n",
      " [15. 14. 14. 15. 15. 14. 14. 15. 19.  2.  3.  2.  3.  2.  2.  0. 17. 16.\n",
      " 16. 16. 17. 18.]\n",
      "[15. 14. 14. 15. 15. 14. 14. 15. 19.  2.  3.  2.  3.  2.  2.  0. 17. 16.\n",
      " 16. 16. 17. 18.]\n",
      "---------------Xd : 87  --------------\n",
      " [15. 15. 14. 15. 14. 15. 15. 15. 17.  2.  4.  3.  3.  3. 16. 17. 18.]\n",
      "[15. 15. 14. 15. 14. 15. 15. 15. 17.  2.  4.  3.  3.  3. 16. 17. 18.]\n",
      "---------------Xd : 81  --------------\n",
      " [15. 14. 15. 15. 15. 15. 15. 15. 19.  3.  4.  3.  0. 17. 16. 17. 18.]\n",
      "[15. 14. 15. 15. 15. 15. 15. 15. 19.  3.  4.  3.  0. 17. 16. 17. 18.]\n",
      "---------------Xd : 86  --------------\n",
      " [15. 14. 14. 14. 15. 15. 14. 15.  2.  3.  3.  3.  3.  2. 19. 16. 15. 15.\n",
      " 15. 15. 15.]\n",
      "[15. 14. 14. 14. 15. 15. 14. 15.  2.  3.  3.  3.  3.  2. 19. 16. 15. 15.\n",
      " 15. 15. 15.]\n",
      "---------------Xd : 83  --------------\n",
      " [14. 15. 16. 16. 15. 15. 15. 15. 18.  2.  3.  3.  3.  2. 19. 16. 16. 17.\n",
      " 17. 18.]\n",
      "[14. 15. 16. 16. 15. 15. 15. 15. 18.  2.  3.  3.  3.  2. 19. 16. 16. 17.\n",
      " 17. 18.]\n",
      "---------------Xd : 85  --------------\n",
      " [14. 15. 15. 15. 15. 15. 15. 15. 18.  3.  4.  4.  0. 16. 16. 17. 18.]\n",
      "[14. 15. 15. 15. 15. 15. 15. 15. 18.  3.  4.  4.  0. 16. 16. 17. 18.]\n",
      "---------------Xd : 80  --------------\n",
      " [15. 15. 15. 15. 15. 14. 15. 16.  2.  3.  3.  2. 18. 16. 16. 15. 14.]\n",
      "[15. 15. 15. 15. 15. 14. 15. 16.  2.  3.  3.  2. 18. 16. 16. 15. 14.]\n",
      "-----------------------------Classe : 8 -------------------------------\n",
      "---------------Xd : 95  --------------\n",
      " [16. 15. 15. 16. 16. 15. 14. 15. 17. 18. 19.]\n",
      "[16. 15. 15. 16. 16. 15. 14. 15. 17. 18. 19.]\n",
      "---------------Xd : 93  --------------\n",
      " [15. 16. 15. 14. 15. 16. 15. 15. 16. 17.]\n",
      "[15. 16. 15. 14. 15. 16. 15. 15. 16. 17.]\n",
      "---------------Xd : 91  --------------\n",
      " [16. 14. 15. 15. 15. 15. 16. 15. 15. 15.]\n",
      "[16. 14. 15. 15. 15. 15. 16. 15. 15. 15.]\n",
      "---------------Xd : 94  --------------\n",
      " [15. 16. 15. 14. 15. 15. 15. 15. 15.]\n",
      "[15. 16. 15. 14. 15. 15. 15. 15. 15.]\n",
      "---------------Xd : 90  --------------\n",
      " [17. 14. 15. 15. 16. 16. 14. 15. 16. 17.]\n",
      "[17. 14. 15. 15. 16. 16. 14. 15. 16. 17.]\n",
      "---------------Xd : 89  --------------\n",
      " [16. 16. 16. 16. 16. 16. 16. 17. 16. 17.]\n",
      "[16. 16. 16. 16. 16. 16. 16. 17. 16. 17.]\n",
      "---------------Xd : 97  --------------\n",
      " [15. 15. 15. 15. 15. 14. 15. 16. 16.]\n",
      "[15. 15. 15. 15. 15. 14. 15. 16. 16.]\n",
      "---------------Xd : 96  --------------\n",
      " [16. 14. 15. 15. 15. 15. 15. 15. 15. 15.]\n",
      "[16. 14. 15. 15. 15. 15. 15. 15. 15. 15.]\n",
      "-----------------------------Classe : 9 -------------------------------\n",
      "---------------Xd : 103  --------------\n",
      " [14. 15. 15. 15. 15. 15. 15. 14. 12. 10.  8.  7.]\n",
      "[14. 15. 15. 15. 15. 15. 15. 14. 12. 10.  8.  7.]\n",
      "---------------Xd : 105  --------------\n",
      " [14. 15. 15. 16. 16. 16. 15. 15. 13. 11. 10.  9.]\n",
      "[14. 15. 15. 16. 16. 16. 15. 15. 13. 11. 10.  9.]\n",
      "---------------Xd : 99  --------------\n",
      " [15. 15. 15. 15. 16. 16. 15. 15. 12. 10. 10.  9.]\n",
      "[15. 15. 15. 15. 16. 16. 15. 15. 12. 10. 10.  9.]\n",
      "---------------Xd : 107  --------------\n",
      " [15. 15. 15. 15. 16. 16. 15. 15. 12. 10. 10.  9.]\n",
      "[15. 15. 15. 15. 16. 16. 15. 15. 12. 10. 10.  9.]\n",
      "---------------Xd : 106  --------------\n",
      " [15. 15. 15. 15. 15. 15. 14. 14. 13. 10.  8.  8.  8.]\n",
      "[15. 15. 15. 15. 15. 15. 14. 14. 13. 10.  8.  8.  8.]\n",
      "---------------Xd : 102  --------------\n",
      " [14. 15. 15. 15. 15. 15. 15. 15. 12. 10. 10. 10.]\n",
      "[14. 15. 15. 15. 15. 15. 15. 15. 12. 10. 10. 10.]\n",
      "---------------Xd : 104  --------------\n",
      " [14. 15. 15. 15. 15. 15. 15. 15. 12. 10. 10. 10.]\n",
      "[14. 15. 15. 15. 15. 15. 15. 15. 12. 10. 10. 10.]\n",
      "---------------Xd : 98  --------------\n",
      " [15. 15. 15. 15. 15. 15. 14. 14. 13. 10.  8.  8.  8.]\n",
      "[15. 15. 15. 15. 15. 15. 14. 14. 13. 10.  8.  8.  8.]\n",
      "-----------------------------Classe : 10 -------------------------------\n",
      "---------------Xd : 110  --------------\n",
      " [15. 15. 15. 15. 15. 15. 14. 15. 15. 11. 11. 12. 12. 12. 12. 12. 12. 16.]\n",
      "[15. 15. 15. 15. 15. 15. 14. 15. 15. 11. 11. 12. 12. 12. 12. 12. 12. 16.]\n",
      "---------------Xd : 112  --------------\n",
      " [14. 15. 15. 15. 15. 15. 15. 14. 15. 13.]\n",
      "[14. 15. 15. 15. 15. 15. 15. 14. 15. 13.]\n",
      "---------------Xd : 116  --------------\n",
      " [15. 15. 15. 15. 15. 14. 15. 15. 15. 12.]\n",
      "[15. 15. 15. 15. 15. 14. 15. 15. 15. 12.]\n",
      "---------------Xd : 108  --------------\n",
      " [16. 15. 14. 15. 15. 14. 15. 16. 15. 15.]\n",
      "[16. 15. 14. 15. 15. 14. 15. 16. 15. 15.]\n",
      "---------------Xd : 109  --------------\n",
      " [14. 15. 15. 15. 15. 15. 15. 15. 16. 17. 13. 12.]\n",
      "[14. 15. 15. 15. 15. 15. 15. 15. 16. 17. 13. 12.]\n",
      "---------------Xd : 115  --------------\n",
      " [15. 15. 15. 14. 15. 14. 14. 16. 16. 11.]\n",
      "[15. 15. 15. 14. 15. 14. 14. 16. 16. 11.]\n",
      "---------------Xd : 117  --------------\n",
      " [15. 14. 15. 14. 14. 14. 15. 15. 16. 12. 12. 12.]\n",
      "[15. 14. 15. 14. 14. 14. 15. 15. 16. 12. 12. 12.]\n",
      "---------------Xd : 111  --------------\n",
      " [15. 14. 15. 15. 15. 15. 16. 16. 16. 12. 12. 12. 12.]\n",
      "[15. 14. 15. 15. 15. 15. 16. 16. 16. 12. 12. 12. 12.]\n",
      "-----------------------------Classe : 11 -------------------------------\n",
      "---------------Xd : 119  --------------\n",
      " [15. 14. 15. 15. 14. 15. 15. 15. 16. 17.]\n",
      "[15. 14. 15. 15. 14. 15. 15. 15. 16. 17.]\n",
      "---------------Xd : 127  --------------\n",
      " [15. 15. 14. 15. 14. 15. 15. 15. 14.]\n",
      "[15. 15. 14. 15. 14. 15. 15. 15. 14.]\n",
      "---------------Xd : 126  --------------\n",
      " [14. 15. 14. 15. 14. 15. 15. 16. 16.]\n",
      "[14. 15. 14. 15. 14. 15. 15. 16. 16.]\n",
      "---------------Xd : 125  --------------\n",
      " [15. 15. 15. 15. 15. 15. 14. 15. 16.]\n",
      "[15. 15. 15. 15. 15. 15. 14. 15. 16.]\n",
      "---------------Xd : 121  --------------\n",
      " [15. 15. 15. 15. 14. 15. 15. 15. 14.]\n",
      "[15. 15. 15. 15. 14. 15. 15. 15. 14.]\n",
      "---------------Xd : 124  --------------\n",
      " [15. 15. 14. 15. 15. 15. 15. 15. 15.]\n",
      "[15. 15. 14. 15. 15. 15. 15. 15. 15.]\n",
      "---------------Xd : 118  --------------\n",
      " [15. 14. 14. 15. 15. 15. 16. 16. 16. 16.]\n",
      "[15. 14. 14. 15. 15. 15. 16. 16. 16. 16.]\n",
      "---------------Xd : 120  --------------\n",
      " [14. 15. 15. 15. 15. 14. 15. 14. 14.]\n",
      "[14. 15. 15. 15. 15. 14. 15. 14. 14.]\n",
      "-----------------------------Classe : 12 -------------------------------\n",
      "---------------Xd : 133  --------------\n",
      " [15. 15. 15. 15. 14. 15. 15.  4.  4.  4.  4.  3.  3.  3.  3.  1. 17. 15.\n",
      " 15. 15. 14. 15. 15. 15. 14.  2.  4.  4.  4.  4.  4.  3.  3.  1. 16. 15.\n",
      " 15. 14. 14. 15. 15. 14.]\n",
      "[15. 15. 15. 15. 14. 15. 15.  4.  4.  4.  4.  3.  3.  3.  3.  1. 17. 15.\n",
      " 15. 15. 14. 15. 15. 15. 14.  2.  4.  4.  4.  4.  4.  3.  3.  1. 16. 15.\n",
      " 15. 14. 14. 15. 15. 14.]\n",
      "---------------Xd : 137  --------------\n",
      " [15. 15. 14. 15. 14. 15. 15.  3.  4.  4.  3.  4.  4.  3.  3.  2.  1. 19.\n",
      " 17. 15. 15. 15. 14. 14. 16. 15. 16.  0.  3.  3.  3.  3.  3.  3.  1. 18.\n",
      " 16. 15. 14. 15. 16. 16. 16.]\n",
      "[15. 15. 14. 15. 14. 15. 15.  3.  4.  4.  3.  4.  4.  3.  3.  2.  1. 19.\n",
      " 17. 15. 15. 15. 14. 14. 16. 15. 16.  0.  3.  3.  3.  3.  3.  3.  1. 18.\n",
      " 16. 15. 14. 15. 16. 16. 16.]\n",
      "---------------Xd : 132  --------------\n",
      " [16. 16. 16. 16. 15. 15. 15. 16.  2.  4.  4.  4.  3.  4.  4.  3.  0. 17.\n",
      " 17. 16. 15. 14. 14. 14. 15. 16.  1.  3.  3.  4.  4.  3.  4.  2. 18. 16.\n",
      " 16. 15. 15. 16. 16. 16.]\n",
      "[16. 16. 16. 16. 15. 15. 15. 16.  2.  4.  4.  4.  3.  4.  4.  3.  0. 17.\n",
      " 17. 16. 15. 14. 14. 14. 15. 16.  1.  3.  3.  4.  4.  3.  4.  2. 18. 16.\n",
      " 16. 15. 15. 16. 16. 16.]\n",
      "---------------Xd : 134  --------------\n",
      " [15. 15. 14. 14. 15. 15. 15.  5.  5.  5.  4.  4.  3.  3.  3. 19. 17. 16.\n",
      " 15. 15. 15. 15. 15. 16.  1.  3.  4.  4.  4.  4.  3.  1. 18. 16. 15. 15.\n",
      " 15. 15. 14. 16. 16.]\n",
      "[15. 15. 14. 14. 15. 15. 15.  5.  5.  5.  4.  4.  3.  3.  3. 19. 17. 16.\n",
      " 15. 15. 15. 15. 15. 16.  1.  3.  4.  4.  4.  4.  3.  1. 18. 16. 15. 15.\n",
      " 15. 15. 14. 16. 16.]\n",
      "---------------Xd : 135  --------------\n",
      " [16. 14. 14. 15. 15. 14. 18.  3.  4.  4.  4.  3.  3.  3.  2.  1. 18. 16.\n",
      " 15. 14. 15. 15. 15. 15. 15. 18.  3.  3.  3.  4.  4.  3.  3.  2. 19. 16.\n",
      " 15. 15. 15. 15. 16.]\n",
      "[16. 14. 14. 15. 15. 14. 18.  3.  4.  4.  4.  3.  3.  3.  2.  1. 18. 16.\n",
      " 15. 14. 15. 15. 15. 15. 15. 18.  3.  3.  3.  4.  4.  3.  3.  2. 19. 16.\n",
      " 15. 15. 15. 15. 16.]\n",
      "---------------Xd : 136  --------------\n",
      " [17. 16. 14. 14. 15. 16. 15. 14. 15.  1.  3.  4.  4.  3.  3.  3.  3.  3.\n",
      "  1.  0. 18. 17. 17. 16. 16. 17. 17. 19.  1.  2.  3.  3.  3.  1. 17. 16.\n",
      " 16. 15. 16. 17. 17. 17. 17.]\n",
      "[17. 16. 14. 14. 15. 16. 15. 14. 15.  1.  3.  4.  4.  3.  3.  3.  3.  3.\n",
      "  1.  0. 18. 17. 17. 16. 16. 17. 17. 19.  1.  2.  3.  3.  3.  1. 17. 16.\n",
      " 16. 15. 16. 17. 17. 17. 17.]\n",
      "---------------Xd : 129  --------------\n",
      " [17. 16. 15. 14. 15. 15. 15. 16.  1.  4.  4.  3.  3.  3.  3.  3.  3.  2.\n",
      "  0. 18. 16. 16. 16. 14. 15. 16. 18.  0.  3.  3.  3.  3.  0. 17. 16. 16.\n",
      " 16. 15. 16. 18. 18.]\n",
      "[17. 16. 15. 14. 15. 15. 15. 16.  1.  4.  4.  3.  3.  3.  3.  3.  3.  2.\n",
      "  0. 18. 16. 16. 16. 14. 15. 16. 18.  0.  3.  3.  3.  3.  0. 17. 16. 16.\n",
      " 16. 15. 16. 18. 18.]\n",
      "---------------Xd : 128  --------------\n",
      " [16. 14. 15. 15. 15. 14. 16. 19.  3.  3.  3.  3.  3.  3.  2.  1. 18. 16.\n",
      " 16. 15. 16. 16. 16. 17. 17. 17. 19.  2.  4.  5.  4.  3.  3.  3.  3.  0.\n",
      " 17. 16. 15. 16. 16. 16. 17. 17. 18. 18.]\n",
      "[16. 14. 15. 15. 15. 14. 16. 19.  3.  3.  3.  3.  3.  3.  2.  1. 18. 16.\n",
      " 16. 15. 16. 16. 16. 17. 17. 17. 19.  2.  4.  5.  4.  3.  3.  3.  3.  0.\n",
      " 17. 16. 15. 16. 16. 16. 17. 17. 18. 18.]\n",
      "-----------------------------Classe : 13 -------------------------------\n",
      "---------------Xd : 143  --------------\n",
      " [17. 16. 16. 15. 14. 14. 15. 16. 16. 18.  3.  4.  3.  4.  4.  3.  3.  3.\n",
      "  2. 18. 16. 16. 15. 16. 16. 16. 17. 18.]\n",
      "[17. 16. 16. 15. 14. 14. 15. 16. 16. 18.  3.  4.  3.  4.  4.  3.  3.  3.\n",
      "  2. 18. 16. 16. 15. 16. 16. 16. 17. 18.]\n",
      "---------------Xd : 147  --------------\n",
      " [16. 16. 14. 15. 15. 15. 16.  1.  4.  3.  4.  3.  3.  3.  3.  3.  0. 17.\n",
      " 14. 15. 15. 15. 15. 15. 14. 16. 17.]\n",
      "[16. 16. 14. 15. 15. 15. 16.  1.  4.  3.  4.  3.  3.  3.  3.  3.  0. 17.\n",
      " 14. 15. 15. 15. 15. 15. 14. 16. 17.]\n",
      "---------------Xd : 138  --------------\n",
      " [16. 16. 15. 15. 15. 15. 15. 14. 18.  3.  4.  4.  3.  3.  3.  2.  2.  0.\n",
      " 17. 16. 15. 15. 15. 15. 16. 16. 17.]\n",
      "[16. 16. 15. 15. 15. 15. 15. 14. 18.  3.  4.  4.  3.  3.  3.  2.  2.  0.\n",
      " 17. 16. 15. 15. 15. 15. 16. 16. 17.]\n",
      "---------------Xd : 139  --------------\n",
      " [16. 16. 15. 14. 15. 15. 15. 15. 17.  3.  4.  5.  4.  3.  4.  5.  4.  0.\n",
      " 17. 16. 15. 15. 15. 16. 16. 16.]\n",
      "[16. 16. 15. 14. 15. 15. 15. 15. 17.  3.  4.  5.  4.  3.  4.  5.  4.  0.\n",
      " 17. 16. 15. 15. 15. 16. 16. 16.]\n",
      "---------------Xd : 140  --------------\n",
      " [15. 15. 15. 15. 15. 14. 14. 15. 18.  3.  3.  4.  4.  3.  3.  3.  2.  2.\n",
      "  0. 19. 17. 16. 15. 15. 15. 15. 15. 15.]\n",
      "[15. 15. 15. 15. 15. 14. 14. 15. 18.  3.  3.  4.  4.  3.  3.  3.  2.  2.\n",
      "  0. 19. 17. 16. 15. 15. 15. 15. 15. 15.]\n",
      "---------------Xd : 145  --------------\n",
      " [15. 15. 15. 15. 14. 15. 15. 16. 17.  2.  4.  5.  5.  5.  5.  3.  1. 18.\n",
      " 17. 16. 16. 17. 17. 15. 14.]\n",
      "[15. 15. 15. 15. 14. 15. 15. 16. 17.  2.  4.  5.  5.  5.  5.  3.  1. 18.\n",
      " 17. 16. 16. 17. 17. 15. 14.]\n",
      "---------------Xd : 142  --------------\n",
      " [17. 15. 14. 15. 15. 14. 15. 15. 17.  3.  4.  3.  4.  5.  4.  4.  3.  0.\n",
      " 17. 17. 16. 15. 16. 16.]\n",
      "[17. 15. 14. 15. 15. 14. 15. 15. 17.  3.  4.  3.  4.  5.  4.  4.  3.  0.\n",
      " 17. 17. 16. 15. 16. 16.]\n",
      "---------------Xd : 141  --------------\n",
      " [16. 16. 16. 16. 15. 16. 16. 16.  1.  4.  4.  3.  3.  3.  3.  1. 18. 17.\n",
      " 16. 16. 15. 16. 16. 17. 17. 18. 19.]\n",
      "[16. 16. 16. 16. 15. 16. 16. 16.  1.  4.  4.  3.  3.  3.  3.  1. 18. 17.\n",
      " 16. 16. 15. 16. 16. 17. 17. 18. 19.]\n",
      "-----------------------------Classe : 14 -------------------------------\n",
      "---------------Xd : 152  --------------\n",
      " [12. 12. 12. 13. 14. 14. 14. 16. 17. 19.  0.  1.  2.  3.  3.  4.  4.  4.\n",
      "  6.  7.  6.  6.]\n",
      "[12. 12. 12. 13. 14. 14. 14. 16. 17. 19.  0.  1.  2.  3.  3.  4.  4.  4.\n",
      "  6.  7.  6.  6.]\n",
      "---------------Xd : 155  --------------\n",
      " [11. 12. 12. 13. 13. 14. 15. 16. 18. 19.  0.  1.  2.  3.  4.  3.  4.  4.\n",
      "  5.  6.  7.  9. 10.]\n",
      "[11. 12. 12. 13. 13. 14. 15. 16. 18. 19.  0.  1.  2.  3.  4.  3.  4.  4.\n",
      "  5.  6.  7.  9. 10.]\n",
      "---------------Xd : 156  --------------\n",
      " [12. 13. 13. 13. 14. 15. 14. 15. 17. 18.  0.  1.  1.  2.  3.  3.  3.  4.\n",
      "  4.  5.  6.  8.  8.]\n",
      "[12. 13. 13. 13. 14. 15. 14. 15. 17. 18.  0.  1.  1.  2.  3.  3.  3.  4.\n",
      "  4.  5.  6.  8.  8.]\n",
      "---------------Xd : 154  --------------\n",
      " [12. 12. 13. 13. 13. 13. 14. 15. 15. 17. 19.  1.  1.  2.  2.  2.  3.  4.\n",
      "  5.  5.  6.  6.]\n",
      "[12. 12. 13. 13. 13. 13. 14. 15. 15. 17. 19.  1.  1.  2.  2.  2.  3.  4.\n",
      "  5.  5.  6.  6.]\n",
      "---------------Xd : 157  --------------\n",
      " [11. 11. 11. 12. 12. 13. 15. 15. 16. 17. 18. 19.  0.  0.  0.  1.  1.  2.\n",
      "  2.  2.  2.  2.  3.  4.  6.  7.  8. 10. 10. 10. 10. 10. 10. 10.]\n",
      "[11. 11. 11. 12. 12. 13. 15. 15. 16. 17. 18. 19.  0.  0.  0.  1.  1.  2.\n",
      "  2.  2.  2.  2.  3.  4.  6.  7.  8. 10. 10. 10. 10. 10. 10. 10.]\n",
      "---------------Xd : 150  --------------\n",
      " [13. 13. 13. 14. 15. 15. 15. 14. 17. 19.  0.  1.  2.  2.  4.  4.  5.  5.\n",
      "  6.  8.  8.  9.]\n",
      "[13. 13. 13. 14. 15. 15. 15. 14. 17. 19.  0.  1.  2.  2.  4.  4.  5.  5.\n",
      "  6.  8.  8.  9.]\n",
      "---------------Xd : 148  --------------\n",
      " [ 1. 12. 12. 13. 14. 15. 15. 14. 16. 19.  0.  1.  2.  3.  3.  3.  4.  4.\n",
      "  5.  5.  7.  8. 10. 10.]\n",
      "[ 1. 12. 12. 13. 14. 15. 15. 14. 16. 19.  0.  1.  2.  3.  3.  3.  4.  4.\n",
      "  5.  5.  7.  8. 10. 10.]\n",
      "---------------Xd : 149  --------------\n",
      " [ 4. 10. 11. 11. 12. 13. 13. 14. 14. 15. 16. 17. 19. 19.  0.  0.  2.  2.\n",
      "  3.  3.  4.  4.  5.  5.  6.  8.  8.]\n",
      "[ 4. 10. 11. 11. 12. 13. 13. 14. 14. 15. 16. 17. 19. 19.  0.  0.  2.  2.\n",
      "  3.  3.  4.  4.  5.  5.  6.  8.  8.]\n",
      "-----------------------------Classe : 15 -------------------------------\n",
      "---------------Xd : 158  --------------\n",
      " [15. 15. 15. 15. 15. 15. 15.  5.  5.  5.  5.  5.  5.  5.  4.  3.  0. 19.\n",
      " 19. 17. 14. 12. 12. 12.]\n",
      "[15. 15. 15. 15. 15. 15. 15.  5.  5.  5.  5.  5.  5.  5.  4.  3.  0. 19.\n",
      " 19. 17. 14. 12. 12. 12.]\n",
      "---------------Xd : 166  --------------\n",
      " [15. 14. 14. 15. 15. 16. 16.  5.  5.  5.  5.  5.  5.  5.  5.  3.  0. 18.\n",
      " 18. 18. 16. 13. 12. 11. 10.]\n",
      "[15. 14. 14. 15. 15. 16. 16.  5.  5.  5.  5.  5.  5.  5.  5.  3.  0. 18.\n",
      " 18. 18. 16. 13. 12. 11. 10.]\n",
      "---------------Xd : 160  --------------\n",
      " [15. 15. 15. 15. 15. 15. 15.  6.  6.  6.  6.  6.  5.  5.  4.  2.  0. 19.\n",
      " 18. 17. 15. 13. 12. 11. 11.]\n",
      "[15. 15. 15. 15. 15. 15. 15.  6.  6.  6.  6.  6.  5.  5.  4.  2.  0. 19.\n",
      " 18. 17. 15. 13. 12. 11. 11.]\n",
      "---------------Xd : 165  --------------\n",
      " [15. 15. 14. 15. 15.  5.  5.  5.  5.  5.  5.  4.  4.  2.  0. 18. 16. 15.\n",
      " 14. 12. 12. 11.]\n",
      "[15. 15. 14. 15. 15.  5.  5.  5.  5.  5.  5.  4.  4.  2.  0. 18. 16. 15.\n",
      " 14. 12. 12. 11.]\n",
      "---------------Xd : 159  --------------\n",
      " [15. 15. 16. 16. 15. 15.  5.  5.  6.  6.  6.  5.  5.  4.  3.  1. 19. 18.\n",
      " 16. 14. 13. 13. 12. 11. 11.]\n",
      "[15. 15. 16. 16. 15. 15.  5.  5.  6.  6.  6.  5.  5.  4.  3.  1. 19. 18.\n",
      " 16. 14. 13. 13. 12. 11. 11.]\n",
      "---------------Xd : 161  --------------\n",
      " [14. 15. 15. 15. 15. 15. 16.  3.  5.  5.  5.  5.  5.  4.  4.  3.  0. 18.\n",
      " 17. 16. 13. 11. 11. 11.]\n",
      "[14. 15. 15. 15. 15. 15. 16.  3.  5.  5.  5.  5.  5.  4.  4.  3.  0. 18.\n",
      " 17. 16. 13. 11. 11. 11.]\n",
      "---------------Xd : 163  --------------\n",
      " [14. 15. 14. 15. 15. 15. 16.  5.  5.  5.  5.  5.  5.  5.  4.  3.  1.  0.\n",
      " 19. 17. 16. 15. 14. 13. 12.]\n",
      "[14. 15. 14. 15. 15. 15. 16.  5.  5.  5.  5.  5.  5.  5.  4.  3.  1.  0.\n",
      " 19. 17. 16. 15. 14. 13. 12.]\n",
      "---------------Xd : 164  --------------\n",
      " [15. 16. 16. 15. 15. 15. 16.  5.  6.  6.  6.  6.  6.  6.  5.  2.  0. 18.\n",
      " 17. 16. 14. 12. 11. 11.]\n",
      "[15. 16. 16. 15. 15. 15. 16.  5.  6.  6.  6.  6.  6.  6.  5.  2.  0. 18.\n",
      " 17. 16. 14. 12. 11. 11.]\n",
      "-----------------------------Classe : 16 -------------------------------\n",
      "---------------Xd : 175  --------------\n",
      " [ 7. 10. 11. 13. 15. 17. 19.  1.  2.  3. 12. 13. 13. 14. 14. 15. 15. 14.\n",
      " 15.]\n",
      "[ 7. 10. 11. 13. 15. 17. 19.  1.  2.  3. 12. 13. 13. 14. 14. 15. 15. 14.\n",
      " 15.]\n",
      "---------------Xd : 170  --------------\n",
      " [10. 11. 12. 13. 15. 18.  0.  1.  2.  0. 13. 14. 14. 14. 15. 15. 14. 15.]\n",
      "[10. 11. 12. 13. 15. 18.  0.  1.  2.  0. 13. 14. 14. 14. 15. 15. 14. 15.]\n",
      "---------------Xd : 171  --------------\n",
      " [ 8. 10. 12. 14. 16. 18.  0.  2.  3.  6. 13. 14. 15. 15. 15. 15. 14. 15.]\n",
      "[ 8. 10. 12. 14. 16. 18.  0.  2.  3.  6. 13. 14. 15. 15. 15. 15. 14. 15.]\n",
      "---------------Xd : 177  --------------\n",
      " [ 6. 10. 11. 12. 13. 14. 19.  1.  1. 18. 14. 14. 14. 14. 15. 14. 15.]\n",
      "[ 6. 10. 11. 12. 13. 14. 19.  1.  1. 18. 14. 14. 14. 14. 15. 14. 15.]\n",
      "---------------Xd : 172  --------------\n",
      " [10. 12. 13. 14. 19.  1.  1. 18. 13. 14. 14. 15. 15. 15. 15. 17.]\n",
      "[10. 12. 13. 14. 19.  1.  1. 18. 13. 14. 14. 15. 15. 15. 15. 17.]\n",
      "---------------Xd : 173  --------------\n",
      " [10. 12. 13. 14. 17.  0.  2.  3.  5. 13. 14. 15. 15. 15. 15. 14. 15.]\n",
      "[10. 12. 13. 14. 17.  0.  2.  3.  5. 13. 14. 15. 15. 15. 15. 14. 15.]\n",
      "---------------Xd : 168  --------------\n",
      " [ 6. 10. 11. 12. 13. 14. 19.  1.  1. 18. 14. 14. 14. 14. 15. 14. 15.]\n",
      "[ 6. 10. 11. 12. 13. 14. 19.  1.  1. 18. 14. 14. 14. 14. 15. 14. 15.]\n",
      "---------------Xd : 174  --------------\n",
      " [ 9. 11. 13. 15. 17.  0.  2.  2. 15. 14. 14. 14. 15. 15. 15. 15. 15.]\n",
      "[ 9. 11. 13. 15. 17.  0.  2.  2. 15. 14. 14. 14. 15. 15. 15. 15. 15.]\n",
      "-----------------------------Classe : 17 -------------------------------\n",
      "---------------Xd : 178  --------------\n",
      " [17. 16. 16. 16. 16. 17.  3.  5.  5.  5.  5.  5.  5.  4.  2.  0. 19. 19.\n",
      "  0.  0.  0.]\n",
      "[17. 16. 16. 16. 16. 17.  3.  5.  5.  5.  5.  5.  5.  4.  2.  0. 19. 19.\n",
      "  0.  0.  0.]\n",
      "---------------Xd : 184  --------------\n",
      " [17. 16. 16. 16. 16. 16. 15. 16. 17.  4.  6.  6.  6.  5.  5.  5.  4.  2.\n",
      "  0.  0.  0.  1.  1.  0.]\n",
      "[17. 16. 16. 16. 16. 16. 15. 16. 17.  4.  6.  6.  6.  5.  5.  5.  4.  2.\n",
      "  0.  0.  0.  1.  1.  0.]\n",
      "---------------Xd : 185  --------------\n",
      " [16. 15. 15. 16. 15. 15. 16. 16. 15. 10.  7.  6.  6.  6.  5.  5.  4.  1.\n",
      "  1.  1.  0.  0.  0.  0.]\n",
      "[16. 15. 15. 16. 15. 15. 16. 16. 15. 10.  7.  6.  6.  6.  5.  5.  4.  1.\n",
      "  1.  1.  0.  0.  0.  0.]\n",
      "---------------Xd : 183  --------------\n",
      " [17. 18. 16. 15. 16. 15. 16. 17.  0.  3.  5.  6.  6.  6.  6.  5.  4.  2.\n",
      "  1.  1.  0.  0.  0.  0.]\n",
      "[17. 18. 16. 15. 16. 15. 16. 17.  0.  3.  5.  6.  6.  6.  6.  5.  4.  2.\n",
      "  1.  1.  0.  0.  0.  0.]\n",
      "---------------Xd : 182  --------------\n",
      " [16. 17. 16. 15. 15. 16. 16.  5.  5.  6.  5.  5.  5.  4.  4.  2.  1.  0.\n",
      "  0.  0.  0.]\n",
      "[16. 17. 16. 15. 15. 16. 16.  5.  5.  6.  5.  5.  5.  4.  4.  2.  1.  0.\n",
      "  0.  0.  0.]\n",
      "---------------Xd : 181  --------------\n",
      " [15. 15. 15. 16. 16. 16. 16. 16. 16.  1.  4.  5.  6.  5.  5.  6.  5.  3.\n",
      "  2.  0.  0.  0. 19. 18. 19. 18. 17.]\n",
      "[15. 15. 15. 16. 16. 16. 16. 16. 16.  1.  4.  5.  6.  5.  5.  6.  5.  3.\n",
      "  2.  0.  0.  0. 19. 18. 19. 18. 17.]\n",
      "---------------Xd : 186  --------------\n",
      " [17. 16. 16. 16. 15. 15. 16. 16. 16.  5.  6.  5.  5.  5.  5.  4.  3.  1.\n",
      "  0.  0.  0.]\n",
      "[17. 16. 16. 16. 15. 15. 16. 16. 16.  5.  6.  5.  5.  5.  5.  4.  3.  1.\n",
      "  0.  0.  0.]\n",
      "---------------Xd : 180  --------------\n",
      " [15. 15. 15. 15. 15. 15.  1.  5.  5.  5.  5.  5.  4.  3.  1.  0.  0.  1.\n",
      "  2.]\n",
      "[15. 15. 15. 15. 15. 15.  1.  5.  5.  5.  5.  5.  4.  3.  1.  0.  0.  1.\n",
      "  2.]\n",
      "-----------------------------Classe : 18 -------------------------------\n",
      "---------------Xd : 190  --------------\n",
      " [12. 12. 13. 14. 15. 17. 18. 18. 17. 14. 13. 12. 11.]\n",
      "[12. 12. 13. 14. 15. 17. 18. 18. 17. 14. 13. 12. 11.]\n",
      "---------------Xd : 193  --------------\n",
      " [12. 12. 12. 12. 13. 14. 17. 19. 19.  0.  0. 19. 18. 16. 15. 12. 11. 10.]\n",
      "[12. 12. 12. 12. 13. 14. 17. 19. 19.  0.  0. 19. 18. 16. 15. 12. 11. 10.]\n",
      "---------------Xd : 194  --------------\n",
      " [12. 11. 11. 11. 13. 14. 17. 18. 18. 17. 17. 16. 15. 12. 10. 10. 10.]\n",
      "[12. 11. 11. 11. 13. 14. 17. 18. 18. 17. 17. 16. 15. 12. 10. 10. 10.]\n",
      "---------------Xd : 188  --------------\n",
      " [11. 11. 12. 13. 15. 18. 19. 19. 18. 17. 15. 13. 12. 13. 13.]\n",
      "[11. 11. 12. 13. 15. 18. 19. 19. 18. 17. 15. 13. 12. 13. 13.]\n",
      "---------------Xd : 195  --------------\n",
      " [13. 11. 11. 11. 12. 16. 18. 19. 18. 17. 16. 14. 14. 12. 11.]\n",
      "[13. 11. 11. 11. 12. 16. 18. 19. 18. 17. 16. 14. 14. 12. 11.]\n",
      "---------------Xd : 189  --------------\n",
      " [11. 12. 11. 11. 12. 15. 18. 19. 19. 19. 19. 18. 16. 15. 13. 12. 12. 12.]\n",
      "[11. 12. 11. 11. 12. 15. 18. 19. 19. 19. 19. 18. 16. 15. 13. 12. 12. 12.]\n",
      "---------------Xd : 197  --------------\n",
      " [12. 11. 11. 12. 12. 13. 18.  0.  0.  0. 19. 19. 17. 16. 14. 12. 11. 11.\n",
      " 11. 10. 11.]\n",
      "[12. 11. 11. 12. 12. 13. 18.  0.  0.  0. 19. 19. 17. 16. 14. 12. 11. 11.\n",
      " 11. 10. 11.]\n",
      "---------------Xd : 192  --------------\n",
      " [12. 12. 13. 17. 18. 18. 17. 16. 15. 14. 12. 12. 13.]\n",
      "[12. 12. 13. 17. 18. 18. 17. 16. 15. 14. 12. 12. 13.]\n",
      "-----------------------------Classe : 19 -------------------------------\n",
      "---------------Xd : 203  --------------\n",
      " [14. 15. 15. 15. 15. 15. 15.]\n",
      "[14. 15. 15. 15. 15. 15. 15.]\n",
      "---------------Xd : 205  --------------\n",
      " [15. 14. 15. 15. 15. 15.]\n",
      "[15. 14. 15. 15. 15. 15.]\n",
      "---------------Xd : 206  --------------\n",
      " [15. 15. 15. 14. 14. 15.]\n",
      "[15. 15. 15. 14. 14. 15.]\n",
      "---------------Xd : 201  --------------\n",
      " [15. 15. 15. 15. 15. 15.]\n",
      "[15. 15. 15. 15. 15. 15.]\n",
      "---------------Xd : 202  --------------\n",
      " [15. 15. 15. 15. 14. 15. 16.]\n",
      "[15. 15. 15. 15. 14. 15. 16.]\n",
      "---------------Xd : 199  --------------\n",
      " [15. 15. 14. 14. 15.]\n",
      "[15. 15. 14. 14. 15.]\n",
      "---------------Xd : 200  --------------\n",
      " [15. 14. 15. 15. 15. 15. 16.]\n",
      "[15. 14. 15. 15. 15. 15. 16.]\n",
      "---------------Xd : 204  --------------\n",
      " [15. 14. 15. 15. 15.]\n",
      "[15. 14. 15. 15. 15.]\n",
      "-----------------------------Classe : 20 -------------------------------\n",
      "---------------Xd : 209  --------------\n",
      " [16. 15. 14. 15. 16. 17. 17. 18. 19.  0.  2.  2.  2.  3.  4.  3.  4.  4.\n",
      "  5.  5.]\n",
      "[16. 15. 14. 15. 16. 17. 17. 18. 19.  0.  2.  2.  2.  3.  4.  3.  4.  4.\n",
      "  5.  5.]\n",
      "---------------Xd : 212  --------------\n",
      " [15. 15. 15. 15. 15. 14. 15. 16. 18. 19. 19.  0.  0.  1.  2.  3.  2.  3.\n",
      "  4.  4.  5.  5.  5.]\n",
      "[15. 15. 15. 15. 15. 14. 15. 16. 18. 19. 19.  0.  0.  1.  2.  3.  2.  3.\n",
      "  4.  4.  5.  5.  5.]\n",
      "---------------Xd : 217  --------------\n",
      " [15. 15. 14. 15. 16. 18. 19.  0.  1.  1.  2.  3.  3.  4.  4.  4.  4.  5.\n",
      "  5.]\n",
      "[15. 15. 14. 15. 16. 18. 19.  0.  1.  1.  2.  3.  3.  4.  4.  4.  4.  5.\n",
      "  5.]\n",
      "---------------Xd : 211  --------------\n",
      " [14. 15. 14. 14. 15. 15. 15. 16. 17. 19. 19.  0.  0.  1.  2.  2.  3.  3.\n",
      "  3.  3.  3.  3.]\n",
      "[14. 15. 14. 14. 15. 15. 15. 16. 17. 19. 19.  0.  0.  1.  2.  2.  3.  3.\n",
      "  3.  3.  3.  3.]\n",
      "---------------Xd : 210  --------------\n",
      " [16. 15. 14. 15. 15. 14. 16. 17. 18. 18. 19.  0.  1.  2.  3.  3.  4.  4.\n",
      "  5.]\n",
      "[16. 15. 14. 15. 15. 14. 16. 17. 18. 18. 19.  0.  1.  2.  3.  3.  4.  4.\n",
      "  5.]\n",
      "---------------Xd : 216  --------------\n",
      " [15. 14. 16. 16. 15. 16. 18. 19.  0.  1.  2.  2.  2.  3.  4.  4.  4.  3.\n",
      "  4.  5.]\n",
      "[15. 14. 16. 16. 15. 16. 18. 19.  0.  1.  2.  2.  2.  3.  4.  4.  4.  3.\n",
      "  4.  5.]\n",
      "---------------Xd : 208  --------------\n",
      " [17. 15. 15. 15. 14. 15. 16. 17. 17. 18. 19. 19.  0.  0.  2.  3.  3.  4.\n",
      "  4.  5.]\n",
      "[17. 15. 15. 15. 14. 15. 16. 17. 17. 18. 19. 19.  0.  0.  2.  3.  3.  4.\n",
      "  4.  5.]\n",
      "---------------Xd : 215  --------------\n",
      " [15. 15. 15. 15. 15. 14. 15. 16. 18.  0.  1.  2.  2.  3.  4.  3.  2.]\n",
      "[15. 15. 15. 15. 15. 14. 15. 16. 18.  0.  1.  2.  2.  3.  4.  3.  2.]\n",
      "-----------------------------Classe : 21 -------------------------------\n",
      "---------------Xd : 226  --------------\n",
      " [16. 16. 15. 16. 16. 16. 17. 19.  2.  3.  4.  3.  4.  5.  4.  4.  4.  4.]\n",
      "[16. 16. 15. 16. 16. 16. 17. 19.  2.  3.  4.  3.  4.  5.  4.  4.  4.  4.]\n",
      "---------------Xd : 222  --------------\n",
      " [16. 16. 16. 16. 15. 15. 16. 18.  2.  4.  5.  4.  4.  4.  4.  4.  4.  5.]\n",
      "[16. 16. 16. 16. 15. 15. 16. 18.  2.  4.  5.  4.  4.  4.  4.  4.  4.  5.]\n",
      "---------------Xd : 221  --------------\n",
      " [17. 16. 15. 15. 15. 16. 15. 16.  0.  3.  3.  3.  3.  4.  4.  3.  3.  4.\n",
      "  4.]\n",
      "[17. 16. 15. 15. 15. 16. 15. 16.  0.  3.  3.  3.  3.  4.  4.  3.  3.  4.\n",
      "  4.]\n",
      "---------------Xd : 225  --------------\n",
      " [15. 15. 16. 16. 16. 15. 17.  2.  3.  3.  3.  4.  4.  4.  4.  3.  3.]\n",
      "[15. 15. 16. 16. 16. 15. 17.  2.  3.  3.  3.  4.  4.  4.  4.  3.  3.]\n",
      "---------------Xd : 220  --------------\n",
      " [16. 16. 16. 16. 16. 16. 18.  3.  4.  4.  4.  4.  4.  4.  3.  3.  3.]\n",
      "[16. 16. 16. 16. 16. 16. 18.  3.  4.  4.  4.  4.  4.  4.  3.  3.  3.]\n",
      "---------------Xd : 218  --------------\n",
      " [16. 16. 15. 16. 16. 16. 17. 19.  2.  3.  4.  3.  4.  5.  4.  4.  4.  4.]\n",
      "[16. 16. 15. 16. 16. 16. 17. 19.  2.  3.  4.  3.  4.  5.  4.  4.  4.  4.]\n",
      "---------------Xd : 224  --------------\n",
      " [17. 16. 16. 16. 16. 17. 18.  0.  2.  3.  3.  3.  4.  4.  4.  4.  4.  4.]\n",
      "[17. 16. 16. 16. 16. 17. 18.  0.  2.  3.  3.  3.  4.  4.  4.  4.  4.  4.]\n",
      "---------------Xd : 227  --------------\n",
      " [16. 16. 16. 16. 16. 16. 16.  0.  3.  3.  4.  4.  4.  4.  4.  4.  4.]\n",
      "[16. 16. 16. 16. 16. 16. 16.  0.  3.  3.  4.  4.  4.  4.  4.  4.  4.]\n",
      "-----------------------------Classe : 22 -------------------------------\n",
      "---------------Xd : 236  --------------\n",
      " [16. 14. 14. 15. 15. 15. 15. 16. 17.  0.  2.  3.  3.  3.  3.  3.  3.  4.\n",
      "  6. 14. 15. 15. 15. 15. 16. 16. 18. 19.  0.  2.  3.  3.  4.  4.  4.  4.\n",
      "  4.  4.]\n",
      "[16. 14. 14. 15. 15. 15. 15. 16. 17.  0.  2.  3.  3.  3.  3.  3.  3.  4.\n",
      "  6. 14. 15. 15. 15. 15. 16. 16. 18. 19.  0.  2.  3.  3.  4.  4.  4.  4.\n",
      "  4.  4.]\n",
      "---------------Xd : 234  --------------\n",
      " [16. 14. 15. 15. 15. 14. 15. 16. 17.  0.  2.  3.  3.  3.  4.  4.  3.  3.\n",
      " 14. 15. 15. 15. 16. 17. 19.  1.  2.  2.  3.  3.  3.  4.  5.]\n",
      "[16. 14. 15. 15. 15. 14. 15. 16. 17.  0.  2.  3.  3.  3.  4.  4.  3.  3.\n",
      " 14. 15. 15. 15. 16. 17. 19.  1.  2.  2.  3.  3.  3.  4.  5.]\n",
      "---------------Xd : 233  --------------\n",
      " [14. 14. 15. 15. 15. 15. 15. 15. 18.  1.  3.  3.  3.  3.  3.  4.  4.  3.\n",
      "  1. 15. 15. 14. 15. 16. 17. 19. 19.  0.  2.  3.  3.  4.  5.  5.]\n",
      "[14. 14. 15. 15. 15. 15. 15. 15. 18.  1.  3.  3.  3.  3.  3.  4.  4.  3.\n",
      "  1. 15. 15. 14. 15. 16. 17. 19. 19.  0.  2.  3.  3.  4.  5.  5.]\n",
      "---------------Xd : 232  --------------\n",
      " [15. 15. 15. 14. 15. 15. 16. 17.  0.  3.  3.  3.  3.  3.  4.  4. 15. 15.\n",
      " 15. 15. 15. 15. 17. 19.  1.  2.  2.  2.  2.  3.  4.  4.  5.  5.  5.]\n",
      "[15. 15. 15. 14. 15. 15. 16. 17.  0.  3.  3.  3.  3.  3.  4.  4. 15. 15.\n",
      " 15. 15. 15. 15. 17. 19.  1.  2.  2.  2.  2.  3.  4.  4.  5.  5.  5.]\n",
      "---------------Xd : 235  --------------\n",
      " [16. 14. 15. 15. 15. 14. 15. 16. 18.  0.  2.  2.  3.  3.  3.  3.  3.  3.\n",
      "  4.  3. 16. 15. 15. 15. 16. 16. 16. 17. 18.  0.  1.  3.  3.  3.  3.  4.\n",
      "  5.  5.]\n",
      "[16. 14. 15. 15. 15. 14. 15. 16. 18.  0.  2.  2.  3.  3.  3.  3.  3.  3.\n",
      "  4.  3. 16. 15. 15. 15. 16. 16. 16. 17. 18.  0.  1.  3.  3.  3.  3.  4.\n",
      "  5.  5.]\n",
      "---------------Xd : 237  --------------\n",
      " [15. 15. 14. 15. 15. 15. 15. 15. 16.  0.  3.  3.  3.  3.  3.  4. 17. 15.\n",
      " 14. 15. 15. 16. 17. 19. 19.  0.  1.  3.  3.  3.  3.  3.  4.  5.  5.]\n",
      "[15. 15. 14. 15. 15. 15. 15. 15. 16.  0.  3.  3.  3.  3.  3.  4. 17. 15.\n",
      " 14. 15. 15. 16. 17. 19. 19.  0.  1.  3.  3.  3.  3.  3.  4.  5.  5.]\n",
      "---------------Xd : 229  --------------\n",
      " [16. 14. 15. 15. 15. 15. 14. 17.  0.  2.  3.  3.  3.  3.  3.  3.  3. 15.\n",
      " 15. 15. 15. 16. 16. 17. 18.  0.  1.  2.  2.  2.  3.  4.  4.  5.  5.  5.]\n",
      "[16. 14. 15. 15. 15. 15. 14. 17.  0.  2.  3.  3.  3.  3.  3.  3.  3. 15.\n",
      " 15. 15. 15. 16. 16. 17. 18.  0.  1.  2.  2.  2.  3.  4.  4.  5.  5.  5.]\n",
      "---------------Xd : 228  --------------\n",
      " [15. 13. 14. 15. 15. 14. 15. 15. 18.  1.  3.  3.  3.  3.  3.  4.  2. 16.\n",
      " 15. 14. 16. 17. 18.  0.  2.  2.  3.  3.  3.  4.  4.]\n",
      "[15. 13. 14. 15. 15. 14. 15. 15. 18.  1.  3.  3.  3.  3.  3.  4.  2. 16.\n",
      " 15. 14. 16. 17. 18.  0.  2.  2.  3.  3.  3.  4.  4.]\n",
      "-----------------------------Classe : 23 -------------------------------\n",
      "---------------Xd : 244  --------------\n",
      " [17. 17. 17. 17. 17. 17. 17. 17. 17. 17.]\n",
      "[17. 17. 17. 17. 17. 17. 17. 17. 17. 17.]\n",
      "---------------Xd : 238  --------------\n",
      " [16. 16. 16. 16. 17. 17. 17. 17. 17.]\n",
      "[16. 16. 16. 16. 17. 17. 17. 17. 17.]\n",
      "---------------Xd : 240  --------------\n",
      " [16. 17. 17. 17. 18. 17.]\n",
      "[16. 17. 17. 17. 18. 17.]\n",
      "---------------Xd : 239  --------------\n",
      " [17. 17. 17. 17. 17. 17. 18. 17. 16. 16. 14.]\n",
      "[17. 17. 17. 17. 17. 17. 18. 17. 16. 16. 14.]\n",
      "---------------Xd : 247  --------------\n",
      " [16. 17. 17. 17. 18. 17.]\n",
      "[16. 17. 17. 17. 18. 17.]\n",
      "---------------Xd : 245  --------------\n",
      " [16. 16. 16. 16. 17. 17. 17. 17. 17.]\n",
      "[16. 16. 16. 16. 17. 17. 17. 17. 17.]\n",
      "---------------Xd : 241  --------------\n",
      " [16. 16. 16. 17. 17. 17. 17. 17. 19.]\n",
      "[16. 16. 16. 17. 17. 17. 17. 17. 19.]\n",
      "---------------Xd : 243  --------------\n",
      " [17. 17. 16. 16. 17. 17. 16. 17.]\n",
      "[17. 17. 16. 16. 17. 17. 16. 17.]\n",
      "-----------------------------Classe : 24 -------------------------------\n",
      "---------------Xd : 249  --------------\n",
      " [15. 15. 16. 17. 19.  1.  3.  3.  3. 15. 14. 15. 15. 15. 15. 15. 15. 15.]\n",
      "[15. 15. 16. 17. 19.  1.  3.  3.  3. 15. 14. 15. 15. 15. 15. 15. 15. 15.]\n",
      "---------------Xd : 250  --------------\n",
      " [14. 15. 17. 19.  1.  2.  2. 15. 13. 13. 13. 14. 14. 15. 15. 15.]\n",
      "[14. 15. 17. 19.  1.  2.  2. 15. 13. 13. 13. 14. 14. 15. 15. 15.]\n",
      "---------------Xd : 256  --------------\n",
      " [16. 16. 18.  1.  3.  3. 15. 15. 14. 14. 14. 14. 15. 15. 15.]\n",
      "[16. 16. 18.  1.  3.  3. 15. 15. 14. 14. 14. 14. 15. 15. 15.]\n",
      "---------------Xd : 254  --------------\n",
      " [16. 18.  2.  3.  2. 14. 14. 14. 14. 14. 15. 14. 15. 15.]\n",
      "[16. 18.  2.  3.  2. 14. 14. 14. 14. 14. 15. 14. 15. 15.]\n",
      "---------------Xd : 248  --------------\n",
      " [17.  0.  2.  3. 13. 13. 14. 14. 14. 14. 14. 14. 14. 14.]\n",
      "[17.  0.  2.  3. 13. 13. 14. 14. 14. 14. 14. 14. 14. 14.]\n",
      "---------------Xd : 253  --------------\n",
      " [16. 16. 18.  2.  1. 14. 14. 14. 14. 15. 15. 15. 15.]\n",
      "[16. 16. 18.  2.  1. 14. 14. 14. 14. 15. 15. 15. 15.]\n",
      "---------------Xd : 257  --------------\n",
      " [17. 17. 18.  1.  3.  3. 19. 14. 15. 15. 15. 15. 15. 15. 15. 15.]\n",
      "[17. 17. 18.  1.  3.  3. 19. 14. 15. 15. 15. 15. 15. 15. 15. 15.]\n",
      "---------------Xd : 252  --------------\n",
      " [14. 16. 19.  2.  3. 15. 14. 14. 15. 15. 15. 15. 15. 15.]\n",
      "[14. 16. 19.  2.  3. 15. 14. 14. 15. 15. 15. 15. 15. 15.]\n",
      "-----------------------------Classe : 25 -------------------------------\n",
      "---------------Xd : 260  --------------\n",
      " [ 1.  0.  0.  0.  0. 19. 18. 17. 14. 12. 12. 12. 12. 13. 13. 13. 13. 15.\n",
      " 19.  0.  0.  1.  1.  0.  0.  0.]\n",
      "[ 1.  0.  0.  0.  0. 19. 18. 17. 14. 12. 12. 12. 12. 13. 13. 13. 13. 15.\n",
      " 19.  0.  0.  1.  1.  0.  0.  0.]\n",
      "---------------Xd : 263  --------------\n",
      " [ 0.  0.  0.  0.  0.  0.  0. 19. 18. 16. 14. 12. 12. 12. 12. 13. 13. 13.\n",
      " 15. 17. 19.  0.  0.  1.  1.  0.  0.  0.]\n",
      "[ 0.  0.  0.  0.  0.  0.  0. 19. 18. 16. 14. 12. 12. 12. 12. 13. 13. 13.\n",
      " 15. 17. 19.  0.  0.  1.  1.  0.  0.  0.]\n",
      "---------------Xd : 264  --------------\n",
      " [ 1.  0.  0.  0.  0.  0.  0. 19. 17. 13. 13. 13. 13. 13. 12. 12. 13. 15.\n",
      " 17. 19.  0.  0.  0. 19.  0.  0.]\n",
      "[ 1.  0.  0.  0.  0.  0.  0. 19. 17. 13. 13. 13. 13. 13. 12. 12. 13. 15.\n",
      " 17. 19.  0.  0.  0. 19.  0.  0.]\n",
      "---------------Xd : 262  --------------\n",
      " [ 1.  0. 18. 19.  0.  0.  0. 16. 12. 12. 13. 13. 13. 13. 13. 13. 15. 17.\n",
      " 19.  0.  0.  0.  0.]\n",
      "[ 1.  0. 18. 19.  0.  0.  0. 16. 12. 12. 13. 13. 13. 13. 13. 13. 15. 17.\n",
      " 19.  0.  0.  0.  0.]\n",
      "---------------Xd : 267  --------------\n",
      " [ 0.  0.  0. 19. 19. 18. 19. 19. 16. 13. 13. 13. 12. 11. 13. 13. 12. 14.\n",
      " 18. 19.  0.  0.  0.  0.  0. 18. 17.]\n",
      "[ 0.  0.  0. 19. 19. 18. 19. 19. 16. 13. 13. 13. 12. 11. 13. 13. 12. 14.\n",
      " 18. 19.  0.  0.  0.  0.  0. 18. 17.]\n",
      "---------------Xd : 261  --------------\n",
      " [ 0.  1.  0.  0.  1.  0.  0. 17. 14. 13. 12. 12. 13. 12. 12. 13. 12. 13.\n",
      " 16. 19.  0.  0.  0.  1.  0.  0.]\n",
      "[ 0.  1.  0.  0.  1.  0.  0. 17. 14. 13. 12. 12. 13. 12. 12. 13. 12. 13.\n",
      " 16. 19.  0.  0.  0.  1.  0.  0.]\n",
      "---------------Xd : 258  --------------\n",
      " [ 1.  0.  0.  0.  0.  0.  0.  0. 16. 13. 13. 12. 12. 12. 12. 12. 12. 13.\n",
      " 13. 17.  0.  0.  1.  0.  1.  1.  0.  0.]\n",
      "[ 1.  0.  0.  0.  0.  0.  0.  0. 16. 13. 13. 12. 12. 12. 12. 12. 12. 13.\n",
      " 13. 17.  0.  0.  1.  0.  1.  1.  0.  0.]\n",
      "---------------Xd : 266  --------------\n",
      " [ 0.  0.  0.  0.  0.  0. 19. 17. 13. 12. 12. 12. 12. 12. 13. 14. 15. 17.\n",
      " 19. 19.  0.  0.  1.  1.  1.]\n",
      "[ 0.  0.  0.  0.  0.  0. 19. 17. 13. 12. 12. 12. 12. 12. 13. 14. 15. 17.\n",
      " 19. 19.  0.  0.  1.  1.  1.]\n"
     ]
    }
   ],
   "source": [
    "for cl in range(len(np.unique(Y))):\n",
    "    print(\"-----------------------------Classe :\", cl,\"-------------------------------\")\n",
    "    for i in itrain[cl]:\n",
    "        print(\"---------------Xd :\",i,\" --------------\\n\", Xd[i])\n",
    "        print(Xd[i])"
   ]
  },
  {
   "cell_type": "code",
   "execution_count": 232,
   "metadata": {},
   "outputs": [
    {
     "data": {
      "text/plain": [
       "[array([2, 4, 5]),\n",
       " array([13, 14, 17]),\n",
       " array([22, 27, 30]),\n",
       " array([36, 37, 40]),\n",
       " array([44, 49, 52]),\n",
       " array([58, 60, 65]),\n",
       " array([66, 69, 71]),\n",
       " array([78, 79, 84]),\n",
       " array([88, 92]),\n",
       " array([100, 101]),\n",
       " array([113, 114]),\n",
       " array([122, 123]),\n",
       " array([130, 131]),\n",
       " array([144, 146]),\n",
       " array([151, 153]),\n",
       " array([162, 167]),\n",
       " array([169, 176]),\n",
       " array([179, 187]),\n",
       " array([191, 196]),\n",
       " array([198, 207]),\n",
       " array([213, 214]),\n",
       " array([219, 223]),\n",
       " array([230, 231]),\n",
       " array([242, 246]),\n",
       " array([251, 255]),\n",
       " array([259, 265])]"
      ]
     },
     "execution_count": 232,
     "metadata": {},
     "output_type": "execute_result"
    }
   ],
   "source": [
    "itest"
   ]
  },
  {
   "cell_type": "code",
   "execution_count": 264,
   "metadata": {},
   "outputs": [
    {
     "data": {
      "text/plain": [
       "array([  0,   1,   3,   6,   7,   8,   9,  10,  11,  12,  15,  16,  18,\n",
       "        19,  20,  21,  23,  24,  25,  26,  28,  29,  31,  32,  33,  34,\n",
       "        35,  38,  39,  41,  42,  43,  45,  46,  47,  48,  50,  51,  53,\n",
       "        54,  55,  56,  57,  59,  61,  62,  63,  64,  67,  68,  70,  72,\n",
       "        73,  74,  75,  76,  77,  80,  81,  82,  83,  85,  86,  87,  89,\n",
       "        90,  91,  93,  94,  95,  96,  97,  98,  99, 102, 103, 104, 105,\n",
       "       106, 107, 108, 109, 110, 111, 112, 115, 116, 117, 118, 119, 120,\n",
       "       121, 124, 125, 126, 127, 128, 129, 132, 133, 134, 135, 136, 137,\n",
       "       138, 139, 140, 141, 142, 143, 145, 147, 148, 149, 150, 152, 154,\n",
       "       155, 156, 157, 158, 159, 160, 161, 163, 164, 165, 166, 168, 170,\n",
       "       171, 172, 173, 174, 175, 177, 178, 180, 181, 182, 183, 184, 185,\n",
       "       186, 188, 189, 190, 192, 193, 194, 195, 197, 199, 200, 201, 202,\n",
       "       203, 204, 205, 206, 208, 209, 210, 211, 212, 215, 216, 217, 218,\n",
       "       220, 221, 222, 224, 225, 226, 227, 228, 229, 232, 233, 234, 235,\n",
       "       236, 237, 238, 239, 240, 241, 243, 244, 245, 247, 248, 249, 250,\n",
       "       252, 253, 254, 256, 257, 258, 260, 261, 262, 263, 264, 266, 267])"
      ]
     },
     "execution_count": 264,
     "metadata": {},
     "output_type": "execute_result"
    }
   ],
   "source": [
    "np.unique(ia)"
   ]
  },
  {
   "cell_type": "code",
   "execution_count": 243,
   "metadata": {},
   "outputs": [
    {
     "name": "stdout",
     "output_type": "stream",
     "text": [
      "-----------------------------Classe : 0 -------------------------------\n",
      "---------------Xd : 2  --------------\n",
      " [19. 18. 17. 17. 18. 17. 17. 17. 10.  9. 10. 11. 12. 13. 13. 15. 16. 18.\n",
      "  0.  0.  1.  1.  0.]\n",
      "---------------Xd : 4  --------------\n",
      " [ 0. 18. 18. 18. 17. 16. 16. 11. 10. 10. 11. 11. 12. 13. 15. 16. 19.  0.\n",
      "  0.  0.  0.  1.  0.]\n",
      "---------------Xd : 5  --------------\n",
      " [18. 17. 16. 17. 17. 17. 19.  6.  9. 10. 11. 12. 13. 15. 14. 17. 18.  0.\n",
      "  1.  1.  2.  2.  1.]\n",
      "-----------------------------Classe : 1 -------------------------------\n",
      "---------------Xd : 13  --------------\n",
      " [15. 15. 15. 15. 15. 17.  3.  3.  2.  0. 17. 15. 14. 13. 12. 12. 12. 12.]\n",
      "---------------Xd : 14  --------------\n",
      " [15. 15. 15. 14. 15. 15. 14. 15. 18.  3.  5.  5.  4.  3.  0. 19. 19. 17.\n",
      " 16. 15. 13. 12. 11. 10. 10. 10.]\n",
      "---------------Xd : 17  --------------\n",
      " [15. 15. 15. 15. 14. 15. 15. 15.  1.  5.  4.  4.  4.  3.  1. 19. 18. 16.\n",
      " 16. 15. 15. 13. 11. 10.  8.  8. 10. 10.]\n",
      "-----------------------------Classe : 2 -------------------------------\n",
      "---------------Xd : 22  --------------\n",
      " [ 7.  9. 11. 12. 13. 13. 13. 14. 14. 15. 15. 16. 18. 19.  0.  0.  1.  1.\n",
      "  1.  1.]\n",
      "---------------Xd : 27  --------------\n",
      " [ 9. 11. 12. 12. 13. 13. 14. 15. 15. 15. 17. 19.  1.  1.  1.  1.  2.  2.]\n",
      "---------------Xd : 30  --------------\n",
      " [ 6.  9. 11. 11. 12. 13. 13. 13. 15. 15. 15. 15. 18. 19.  0.  0.  1.  1.]\n",
      "-----------------------------Classe : 3 -------------------------------\n",
      "---------------Xd : 36  --------------\n",
      " [16. 15. 15. 16. 16. 19.  6.  8. 10. 12. 13. 14. 15. 16. 17.  0.  1.  2.\n",
      "  2.]\n",
      "---------------Xd : 37  --------------\n",
      " [15. 15. 15. 15. 16. 17.  6.  8. 10. 12. 12. 13. 14. 16. 19.  0.  0.]\n",
      "---------------Xd : 40  --------------\n",
      " [15. 16. 15. 16. 16. 16. 17.  2.  6.  9. 10. 10. 12. 13. 14. 16. 19.  0.\n",
      "  1.  1.]\n",
      "-----------------------------Classe : 4 -------------------------------\n",
      "---------------Xd : 44  --------------\n",
      " [ 1.  2.  2.  3.  3.  4.  6.  9. 11. 13. 14. 14. 14. 14. 14. 15. 16. 17.\n",
      " 19.  0.  1.]\n",
      "---------------Xd : 49  --------------\n",
      " [ 0.  0.  0.  0.  0.  1.  2.  2.  3.  3.  3.  5.  7. 10. 11. 12. 12. 12.\n",
      " 12. 13. 13. 14. 15. 15. 17. 19. 19.  0.  0.  0.  0.  0.]\n",
      "---------------Xd : 52  --------------\n",
      " [ 1.  1.  2.  2.  3.  4.  4.  4.  8. 10. 10. 12. 13. 13. 14. 14. 15. 16.\n",
      " 16. 17. 18.  0.  1.]\n",
      "-----------------------------Classe : 5 -------------------------------\n",
      "---------------Xd : 58  --------------\n",
      " [ 6.  7. 10. 12.]\n",
      "---------------Xd : 60  --------------\n",
      " [ 7.  7.  8. 10.]\n",
      "---------------Xd : 65  --------------\n",
      " [11. 13. 14. 15.]\n",
      "-----------------------------Classe : 6 -------------------------------\n",
      "---------------Xd : 66  --------------\n",
      " [11. 12.]\n",
      "---------------Xd : 69  --------------\n",
      " [11. 12.]\n",
      "---------------Xd : 71  --------------\n",
      " [13. 13. 15.]\n",
      "-----------------------------Classe : 7 -------------------------------\n",
      "---------------Xd : 78  --------------\n",
      " [15. 15. 15. 15. 15. 15. 16. 16. 16.  3.  4.  4.  4.  3. 18. 16. 16. 16.\n",
      " 16.]\n",
      "---------------Xd : 79  --------------\n",
      " [15. 15. 15. 15. 15. 14. 15. 15. 19.  3.  3.  2. 19. 17. 16. 16. 16.]\n",
      "---------------Xd : 84  --------------\n",
      " [14. 15. 15. 15. 15. 14. 15. 14.  0.  4.  3.  3.  3.  1. 18. 16. 15. 15.\n",
      " 15.]\n",
      "-----------------------------Classe : 8 -------------------------------\n",
      "---------------Xd : 88  --------------\n",
      " [16. 15. 15. 16. 15. 14. 15. 16. 16. 15.]\n",
      "---------------Xd : 92  --------------\n",
      " [17. 16. 16. 15. 15. 16. 16. 16. 16. 17. 16.]\n",
      "-----------------------------Classe : 9 -------------------------------\n",
      "---------------Xd : 100  --------------\n",
      " [15. 14. 15. 15. 15. 14. 14. 14. 11.  8.  7.  7.  7.]\n",
      "---------------Xd : 101  --------------\n",
      " [15. 15. 16. 16. 16. 15. 15. 15. 13. 11.  9.  8.]\n",
      "-----------------------------Classe : 10 -------------------------------\n",
      "---------------Xd : 113  --------------\n",
      " [15. 15. 15. 15. 15. 15. 15. 15. 16. 16.]\n",
      "---------------Xd : 114  --------------\n",
      " [15. 15. 15. 14. 15. 15. 15. 15. 16. 12. 12.]\n",
      "-----------------------------Classe : 11 -------------------------------\n",
      "---------------Xd : 122  --------------\n",
      " [15. 15. 15. 14. 15. 15. 15. 15. 14.]\n",
      "---------------Xd : 123  --------------\n",
      " [15. 15. 15. 14. 15. 15. 15. 15. 15.]\n",
      "-----------------------------Classe : 12 -------------------------------\n",
      "---------------Xd : 130  --------------\n",
      " [15. 16. 15. 14. 15. 16. 19.  4.  4.  3.  4.  4.  4.  0. 16. 16. 16. 16.\n",
      " 16. 18.  1.  3.  4.  4.  3.  3.  3.  1. 18. 16. 16. 16. 16. 16. 16. 16.\n",
      " 17. 17. 18. 18.]\n",
      "---------------Xd : 131  --------------\n",
      " [15. 15. 15. 14. 15. 15. 14. 16.  3.  4.  4.  4.  4.  4.  4.  4.  2.  0.\n",
      " 17. 16. 15. 16. 16. 16. 17.  1.  3.  4.  4.  4.  3.  2. 17. 15. 16. 16.\n",
      " 16. 16. 17. 17.]\n",
      "-----------------------------Classe : 13 -------------------------------\n",
      "---------------Xd : 144  --------------\n",
      " [15. 14. 15. 14. 14. 14. 14.  3.  4.  4.  4.  4.  3.  2.  2.  1.  0. 18.\n",
      " 16. 15. 15. 15. 15. 15. 15. 15. 15.]\n",
      "---------------Xd : 146  --------------\n",
      " [16. 15. 15. 14. 15. 15. 14. 15. 16.  2.  4.  4.  4.  4.  4.  4.  3.  0.\n",
      " 17. 16. 17. 17. 17. 17. 17. 17.]\n",
      "-----------------------------Classe : 14 -------------------------------\n",
      "---------------Xd : 151  --------------\n",
      " [ 7.  9. 10. 11. 12. 12. 13. 13. 14. 15. 15. 16. 17. 18. 19.  0.  0.  1.\n",
      "  1.  1.  2.  3.  3.  3.  4.  5.  6.  7.]\n",
      "---------------Xd : 153  --------------\n",
      " [12. 12. 12. 13. 14. 14. 15. 15. 17. 19.  1.  2.  2.  2.  4.  4.  5.  5.\n",
      "  6.  6.  7.]\n",
      "-----------------------------Classe : 15 -------------------------------\n",
      "---------------Xd : 162  --------------\n",
      " [15. 15. 15. 14. 14. 16.  5.  5.  5.  5.  5.  5.  4.  4.  2. 19. 16. 16.\n",
      " 16. 15. 12. 11. 11. 12.]\n",
      "---------------Xd : 167  --------------\n",
      " [15. 15. 15. 15. 14. 15. 15. 16.  4.  5.  5.  5.  5.  5.  5.  5.  3.  1.\n",
      " 19. 19. 18. 17. 16. 15. 12. 11.]\n",
      "-----------------------------Classe : 16 -------------------------------\n",
      "---------------Xd : 169  --------------\n",
      " [10. 12. 13. 13. 16.  0.  2.  0. 15. 14. 15. 15. 15. 14. 15.]\n",
      "---------------Xd : 176  --------------\n",
      " [ 8. 10. 11. 12. 14. 18.  0.  1.  0. 15. 14. 15. 15. 14. 15. 16. 16.]\n",
      "-----------------------------Classe : 17 -------------------------------\n",
      "---------------Xd : 179  --------------\n",
      " [17. 16. 16. 16. 15. 15. 15.  5.  5.  5.  5.  5.  4.  3.  2.  1.  1.  0.\n",
      "  0.  0.  0.  0.  0.  0.]\n",
      "---------------Xd : 187  --------------\n",
      " [16. 17. 16. 16. 16. 16. 17.  3.  5.  6.  6.  6.  5.  4.  2.  1.  1.  0.\n",
      "  0.  0.  0.]\n",
      "-----------------------------Classe : 18 -------------------------------\n",
      "---------------Xd : 191  --------------\n",
      " [14. 11. 12. 12. 12. 15. 18. 19.  0. 19. 19. 17. 16. 13. 12. 12. 12.]\n",
      "---------------Xd : 196  --------------\n",
      " [10. 11. 11. 11. 11. 12. 14. 17. 19. 19. 19. 19. 19. 19. 18. 16. 15. 12.\n",
      " 11. 10. 10. 10.]\n",
      "-----------------------------Classe : 19 -------------------------------\n",
      "---------------Xd : 198  --------------\n",
      " [15. 15. 14. 15. 15.]\n",
      "---------------Xd : 207  --------------\n",
      " [15. 15. 14. 15. 15. 14.]\n",
      "-----------------------------Classe : 20 -------------------------------\n",
      "---------------Xd : 213  --------------\n",
      " [14. 16. 16. 15. 15. 16. 16. 16. 17. 19.  0.  2.  3.  3.  3.  3.  3.  3.\n",
      "  4.  5.]\n",
      "---------------Xd : 214  --------------\n",
      " [15. 15. 14. 15. 15. 15. 16. 16. 18. 19.  0.  0.  2.  2.  3.  3.  4.  4.\n",
      "  4.  4.]\n",
      "-----------------------------Classe : 21 -------------------------------\n",
      "---------------Xd : 219  --------------\n",
      " [16. 16. 16. 16. 16. 16. 16.  0.  3.  3.  4.  4.  4.  4.  4.  4.  4.]\n",
      "---------------Xd : 223  --------------\n",
      " [16. 16. 16. 16. 15. 16. 16. 16. 18.  0.  2.  4.  4.  4.  4.  5.  5.  5.\n",
      "  5.  5.]\n",
      "-----------------------------Classe : 22 -------------------------------\n",
      "---------------Xd : 230  --------------\n",
      " [14. 14. 14. 15. 16. 16. 18. 19.  1.  3.  3.  3.  3.  3.  3.  3.  2. 13.\n",
      " 14. 14. 15. 16. 16. 17. 18. 19.  0.  1.  2.  3.  3.  3.  3.  3.  4.  5.\n",
      "  6.]\n",
      "---------------Xd : 231  --------------\n",
      " [15. 15. 15. 15. 15. 15. 15. 16. 18.  0.  2.  2.  3.  4.  4.  3.  4.  5.\n",
      " 16. 15. 15. 15. 16. 16. 17. 19.  1.  3.  3.  4.]\n",
      "-----------------------------Classe : 23 -------------------------------\n",
      "---------------Xd : 242  --------------\n",
      " [17. 17. 17. 17. 17. 17. 18.]\n",
      "---------------Xd : 246  --------------\n",
      " [17. 17. 17. 17. 17. 17. 18. 17. 16. 16. 14.]\n",
      "-----------------------------Classe : 24 -------------------------------\n",
      "---------------Xd : 251  --------------\n",
      " [15. 16. 16. 18.  1.  2.  3.  3.  9. 14. 14. 14. 14. 14. 14. 15. 15. 15.]\n",
      "---------------Xd : 255  --------------\n",
      " [15. 15. 17.  1.  3.  0. 14. 13. 14. 14. 14. 15. 15. 15.]\n",
      "-----------------------------Classe : 25 -------------------------------\n",
      "---------------Xd : 259  --------------\n",
      " [ 1.  0.  0.  0.  0.  0. 17. 15. 13. 13. 13. 13. 13. 13. 14. 16. 18.  0.\n",
      "  1.  1.  0.  0.  0.  0.]\n",
      "---------------Xd : 265  --------------\n",
      " [ 1.  1.  0.  0.  1.  0. 18. 14. 12. 13. 13. 12. 12. 12. 12. 13. 13. 15.\n",
      " 19.  0.  0.  1.  1.  1.  1.  1.  0.  0.]\n"
     ]
    }
   ],
   "source": [
    "for cl in range(len(np.unique(Y))):\n",
    "    print(\"-----------------------------Classe :\", cl,\"-------------------------------\")\n",
    "    for i in itest[cl]:\n",
    "        print(\"---------------Xd :\",i,\" --------------\\n\", Xd[i])"
   ]
  },
  {
   "cell_type": "markdown",
   "metadata": {},
   "source": [
    "**Note :** pour faciliter l'évaluation des modèles, vous aurez besoin de re-fusionner tous les indices d'apprentissage et de test. Cela se fait avec les lignes de code suivantes : "
   ]
  },
  {
   "cell_type": "markdown",
   "metadata": {},
   "source": [
    "**Note 2 :** Du fait de la permutation aléatoire, les résultats vont bouger (un peu) à chaque execution du programme. "
   ]
  },
  {
   "cell_type": "markdown",
   "metadata": {},
   "source": [
    "## Questions importantes\n",
    "- Ré-utiliser les fonctions précédemment définies pour apprendre des modèles et les évaluer sans biais.\n",
    "- Calculer et analyser les résultats obtenus en apprentissage et en test\n",
    "- Etudier l'évolution des performances en fonction de la discrétisation"
   ]
  },
  {
   "cell_type": "code",
   "execution_count": 40,
   "metadata": {},
   "outputs": [
    {
     "name": "stderr",
     "output_type": "stream",
     "text": [
      "/anaconda3/lib/python3.7/site-packages/ipykernel_launcher.py:8: RuntimeWarning: divide by zero encountered in log\n",
      "  \n",
      "/anaconda3/lib/python3.7/site-packages/ipykernel_launcher.py:6: RuntimeWarning: divide by zero encountered in log\n",
      "  \n"
     ]
    },
    {
     "data": {
      "text/plain": [
       "[-inf,\n",
       " -inf,\n",
       " -inf,\n",
       " -inf,\n",
       " -inf,\n",
       " -inf,\n",
       " -inf,\n",
       " -inf,\n",
       " -inf,\n",
       " -inf,\n",
       " -inf,\n",
       " -inf,\n",
       " -inf,\n",
       " -inf,\n",
       " -inf,\n",
       " -inf,\n",
       " -inf,\n",
       " -inf,\n",
       " -inf,\n",
       " -inf,\n",
       " -inf,\n",
       " -inf,\n",
       " -inf,\n",
       " -inf,\n",
       " -inf,\n",
       " -inf]"
      ]
     },
     "execution_count": 40,
     "metadata": {},
     "output_type": "execute_result"
    }
   ],
   "source": [
    "# Votre code\n",
    "d = 20                   # paramètre de discrétisation\n",
    "Xd = discretise(X, d)    # application de la discrétisation\n",
    "models_train = []\n",
    "for cl in range(len(np.unique(Y))): # parcours de toutes les classes et optimisation des modèles\n",
    "    models_train.append(learnMarkovModel(Xd[itrain[cl]], d))\n",
    "    \n",
    "[probaSequence(Xd[itest[0][0]], mods[0], mods[1]) for mods in models_train]"
   ]
  },
  {
   "cell_type": "code",
   "execution_count": null,
   "metadata": {},
   "outputs": [],
   "source": [
    "proba_Train = np.array([[probaSequence(Xd[i], models[cl][0], models[cl][1]) for i in index[cl]]\n",
    "                  for cl in range(len(np.unique(Y)))])"
   ]
  },
  {
   "cell_type": "code",
   "execution_count": 436,
   "metadata": {},
   "outputs": [],
   "source": [
    "def protocole(X, Y, d_max, pas, opt = \"zeroes\", plot = False, proba = .8):\n",
    "    D_ = [ d for d in range(1, d_max, pas)]\n",
    "    ETrain = []\n",
    "    ETest = []\n",
    "    itrain, itest = separeTrainTest(Y, proba)\n",
    "    index = np.array(itrain)\n",
    "    intest = np.array(itest)\n",
    "    \n",
    "    ia = []\n",
    "    for i in itrain:\n",
    "        ia += i.tolist()    \n",
    "    it = []\n",
    "    for i in itest:\n",
    "        it += i.tolist()\n",
    "        \n",
    "    for d in D_:\n",
    "        Xd = discretise(X, d)\n",
    "        \n",
    "        #Creation des models\n",
    "        models = []\n",
    "        for cl in range(len(np.unique(Y))): # parcours de toutes les classes et optimisation des modèles\n",
    "            models.append(learnMarkovModel(Xd[index[cl]], d, opt))\n",
    "\n",
    "        #Calcul des probabilites\n",
    "        Xd_Train = []\n",
    "        for i in ia: \n",
    "            Xd_Train.append(Xd[i])\n",
    "        proba_Train = np.array([[probaSequence(Xd_Train[i], models[cl][0], models[cl][1]) for i in range(len(ia))]\n",
    "                  for cl in range(len(np.unique(Y)))])\n",
    "        \n",
    "        Xd_Test = []\n",
    "        for i in it: \n",
    "            Xd_Test.append(Xd[i])\n",
    "        proba_Test = np.array([[probaSequence(Xd_Test[i], models[cl][0], models[cl][1]) for i in range(len(it))]\n",
    "                  for cl in range(len(np.unique(Y)))])\n",
    "        \n",
    "            \n",
    "        # calcul d'une version numérique des Y :\n",
    "        iTrain_num = []    \n",
    "        for i in range(len(index)):\n",
    "            for j in index[i]:\n",
    "                iTrain_num.append(float(i)) \n",
    "                \n",
    "        iTest_num = []    \n",
    "        for i in range(len(intest)):\n",
    "            for j in intest[i]:\n",
    "                iTest_num.append(float(i)) \n",
    "        \n",
    "        # Calcul de la classe la plus probable :\n",
    "        pred_Train = proba_Train.argmax(0) # max colonne par colonne\n",
    "        pred_Test = proba_Test.argmax(0)\n",
    "        \n",
    "        # Calcul d'un pourcentage de bonne classification :\n",
    "        ETrain.append (np.where(pred_Train != iTrain_num, 0.,1.).mean())\n",
    "        ETest.append (np.where(pred_Test != iTest_num, 0.,1.).mean())\n",
    "        \n",
    "    if plot == True:\n",
    "        plt.plot(D_, ETrain, color= 'green', label = \"Apprentissage\") \n",
    "        plt.plot(D_, ETest, color= 'red', label = \"Test\") \n",
    "        plt.gca().legend().set_visible(True)\n",
    "        plt.title(\"Base de test sur les performances Train v. Test\")\n",
    "        plt.xlabel(\"$d$ : discretisation\")\n",
    "        plt.ylabel(\"Indice de performance (en %)\")\n",
    "        plt.show() \n",
    "    return ETrain, ETest"
   ]
  },
  {
   "cell_type": "code",
   "execution_count": 427,
   "metadata": {},
   "outputs": [
    {
     "name": "stderr",
     "output_type": "stream",
     "text": [
      "/anaconda3/lib/python3.7/site-packages/ipykernel_launcher.py:6: RuntimeWarning: divide by zero encountered in log\n",
      "  \n",
      "/anaconda3/lib/python3.7/site-packages/ipykernel_launcher.py:8: RuntimeWarning: divide by zero encountered in log\n",
      "  \n"
     ]
    },
    {
     "data": {
      "image/png": "[encoded data removed]",
      "text/plain": [
       "<Figure size 432x288 with 1 Axes>"
      ]
     },
     "metadata": {
      "needs_background": "light"
     },
     "output_type": "display_data"
    },
    {
     "data": {
      "text/plain": [
       "([0.038461538461538464,\n",
       "  0.8846153846153846,\n",
       "  0.9375,\n",
       "  0.9567307692307693,\n",
       "  0.9711538461538461,\n",
       "  0.9711538461538461,\n",
       "  0.9807692307692307,\n",
       "  0.9663461538461539,\n",
       "  0.9855769230769231,\n",
       "  0.9855769230769231,\n",
       "  0.9759615384615384,\n",
       "  0.9855769230769231,\n",
       "  0.9855769230769231,\n",
       "  0.9807692307692307,\n",
       "  0.9855769230769231,\n",
       "  0.9855769230769231,\n",
       "  0.9855769230769231,\n",
       "  0.9855769230769231,\n",
       "  0.9855769230769231,\n",
       "  0.9855769230769231,\n",
       "  0.9855769230769231,\n",
       "  0.9855769230769231,\n",
       "  0.9855769230769231,\n",
       "  0.9855769230769231,\n",
       "  0.9855769230769231,\n",
       "  0.9855769230769231,\n",
       "  0.9855769230769231,\n",
       "  0.9855769230769231,\n",
       "  0.9855769230769231,\n",
       "  0.9855769230769231],\n",
       " [0.05,\n",
       "  0.48333333333333334,\n",
       "  0.21666666666666667,\n",
       "  0.2,\n",
       "  0.15,\n",
       "  0.13333333333333333,\n",
       "  0.13333333333333333,\n",
       "  0.1,\n",
       "  0.1,\n",
       "  0.1,\n",
       "  0.1,\n",
       "  0.1,\n",
       "  0.1,\n",
       "  0.1,\n",
       "  0.1,\n",
       "  0.1,\n",
       "  0.1,\n",
       "  0.1,\n",
       "  0.1,\n",
       "  0.1,\n",
       "  0.1,\n",
       "  0.1,\n",
       "  0.1,\n",
       "  0.1,\n",
       "  0.1,\n",
       "  0.1,\n",
       "  0.1,\n",
       "  0.1,\n",
       "  0.1,\n",
       "  0.1])"
      ]
     },
     "execution_count": 427,
     "metadata": {},
     "output_type": "execute_result"
    }
   ],
   "source": [
    "protocole(X,Y, 360, 12, plot = True)"
   ]
  },
  {
   "cell_type": "markdown",
   "metadata": {},
   "source": [
    "## Lutter contre le sur-apprentissage\n",
    "Cette base de données met en lumière le phénomène de sur-apprentissage : il y a peu de données et dès que le nombre d'états augmente, il y a trop peu d'exemple pour estimer correctement les matrices {$A, \\pi$}. De nombreuses cases sont donc à 0, voire des lignes entières (d'où la sécurisation du code pour la normalisation des matrices stochastiques).\n",
    "\n",
    "Ces 0 sont particulièrement discriminants: considérant la classe {$c$}, ils permettent d'éliminer de cette classe tout signal présentant cette caractéristique. Cette règle est trop forte compte tenu de la taille de la base d'apprentissage. Nous proposons une astuce pour palier cette faiblesse : lors du comptage, initialiser les matrices {$A, \\pi$} avec ones au lieu de zeros . On fait semblant d'avoir observer une transition de chaque type avant même le début du comptage.\n",
    "\n",
    "Comparer les performances en test."
   ]
  },
  {
   "cell_type": "markdown",
   "metadata": {},
   "source": [
    "Pou cela j'ai déjà implémenté dans les fonctions précédentes une option qui permet de choisir si on veut créer une matrice Pi remplie avec des 1 au début."
   ]
  },
  {
   "cell_type": "code",
   "execution_count": 441,
   "metadata": {},
   "outputs": [
    {
     "name": "stderr",
     "output_type": "stream",
     "text": [
      "/anaconda3/lib/python3.7/site-packages/ipykernel_launcher.py:6: RuntimeWarning: divide by zero encountered in log\n",
      "  \n"
     ]
    },
    {
     "data": {
      "image/png": "[encoded data removed]",
      "text/plain": [
       "<Figure size 432x288 with 1 Axes>"
      ]
     },
     "metadata": {
      "needs_background": "light"
     },
     "output_type": "display_data"
    }
   ],
   "source": [
    "P_Train, P_Test = protocole(X,Y, 360, 12, opt = \"ones\", plot = True)"
   ]
  },
  {
   "cell_type": "code",
   "execution_count": 449,
   "metadata": {},
   "outputs": [
    {
     "data": {
      "text/plain": [
       "1"
      ]
     },
     "execution_count": 449,
     "metadata": {},
     "output_type": "execute_result"
    }
   ],
   "source": [
    "np.argmax(P_Test)"
   ]
  },
  {
   "cell_type": "markdown",
   "metadata": {},
   "source": [
    "Dans tout les cas, on pet voir qu'il y a un seuil de discretisation optimale. Passé ce seuil l'indice de performance diminue fortement. Ici in peut voir que cest pour 2 classes. Car les classes commencent à 1."
   ]
  },
  {
   "cell_type": "code",
   "execution_count": 445,
   "metadata": {},
   "outputs": [],
   "source": [
    "def Opt_separation(X, Y, d_max, pas, ETrain, ETest, opt = \"ones\", plot = True):\n",
    "    P = np.arange(0.1, 1, .1)\n",
    "    D_max = {}\n",
    "    for p in P:\n",
    "        E_Train, E_Test = protocole(X, Y, 360, 12, opt = \"ones\", plot = True, proba = p)\n",
    "        dmax = np.argmax(E_Test)\n",
    "        D_max[p] = (dmax, E_Test[dmax])\n",
    "    return D_max"
   ]
  },
  {
   "cell_type": "code",
   "execution_count": 446,
   "metadata": {},
   "outputs": [
    {
     "name": "stderr",
     "output_type": "stream",
     "text": [
      "/anaconda3/lib/python3.7/site-packages/ipykernel_launcher.py:6: RuntimeWarning: divide by zero encountered in log\n",
      "  \n"
     ]
    },
    {
     "data": {
      "image/png": "[encoded data removed]",
      "text/plain": [
       "<Figure size 432x288 with 1 Axes>"
      ]
     },
     "metadata": {
      "needs_background": "light"
     },
     "output_type": "display_data"
    },
    {
     "data": {
      "image/png": "[encoded data removed]",
      "text/plain": [
       "<Figure size 432x288 with 1 Axes>"
      ]
     },
     "metadata": {
      "needs_background": "light"
     },
     "output_type": "display_data"
    },
    {
     "data": {
      "image/png": "[encoded data removed]",
      "text/plain": [
       "<Figure size 432x288 with 1 Axes>"
      ]
     },
     "metadata": {
      "needs_background": "light"
     },
     "output_type": "display_data"
    },
    {
     "data": {
      "image/png": "[encoded data removed]",
      "text/plain": [
       "<Figure size 432x288 with 1 Axes>"
      ]
     },
     "metadata": {
      "needs_background": "light"
     },
     "output_type": "display_data"
    },
    {
     "data": {
      "image/png": "[encoded data removed]",
      "text/plain": [
       "<Figure size 432x288 with 1 Axes>"
      ]
     },
     "metadata": {
      "needs_background": "light"
     },
     "output_type": "display_data"
    },
    {
     "data": {
      "image/png": "[encoded data removed]",
      "text/plain": [
       "<Figure size 432x288 with 1 Axes>"
      ]
     },
     "metadata": {
      "needs_background": "light"
     },
     "output_type": "display_data"
    },
    {
     "data": {
      "image/png": "[encoded data removed]",
      "text/plain": [
       "<Figure size 432x288 with 1 Axes>"
      ]
     },
     "metadata": {
      "needs_background": "light"
     },
     "output_type": "display_data"
    },
    {
     "data": {
      "image/png": "[encoded data removed]",
      "text/plain": [
       "<Figure size 432x288 with 1 Axes>"
      ]
     },
     "metadata": {
      "needs_background": "light"
     },
     "output_type": "display_data"
    },
    {
     "data": {
      "image/png": "[encoded data removed]",
      "text/plain": [
       "<Figure size 432x288 with 1 Axes>"
      ]
     },
     "metadata": {
      "needs_background": "light"
     },
     "output_type": "display_data"
    },
    {
     "data": {
      "text/plain": [
       "{0.1: (1, 0.371900826446281),\n",
       " 0.2: (1, 0.4305555555555556),\n",
       " 0.30000000000000004: (1, 0.45789473684210524),\n",
       " 0.4: (1, 0.5609756097560976),\n",
       " 0.5: (1, 0.572463768115942),\n",
       " 0.6: (1, 0.5892857142857143),\n",
       " 0.7000000000000001: (1, 0.627906976744186),\n",
       " 0.8: (1, 0.6833333333333333),\n",
       " 0.9: (1, 0.5882352941176471)}"
      ]
     },
     "execution_count": 446,
     "metadata": {},
     "output_type": "execute_result"
    }
   ],
   "source": [
    "Opt_separation(X, Y, 360, 12, P_Train, P_Test, opt = \"ones\", plot = True)"
   ]
  },
  {
   "cell_type": "markdown",
   "metadata": {},
   "source": [
    "On a effectivement un meilleur ration avec une telle separation de nos jeux de données. Et surtout le maximum est toujours réalisé pour deux classes. Il n'y a donc que deux classes significatives dans ce jeu de données. On pourrait réaliser une ACP ou une classification pour aller plus loin."
   ]
  },
  {
   "cell_type": "markdown",
   "metadata": {},
   "source": [
    "# Partie optionnelle\n",
    "## Evaluation qualitative\n",
    "\n",
    "Nous nous demandons maintenant où se trouvent les erreurs que nous avons commises...\n",
    "\n",
    "Calcul de la matrice de confusion: pour chaque échantillon de test, nous avons une prédiction (issue du modèle) et une vérité terrain (la vraie étiquette). En posant Nc le nombre de classes, la matrice de confusion est une matrice (Nc x Nc) où nous comptons le nombre d'échantillon de test dans chaque catégorie :\n",
    "\n",
    "- Initialisation à 0 : "
   ]
  },
  {
   "cell_type": "code",
   "execution_count": null,
   "metadata": {},
   "outputs": [],
   "source": [
    "conf = np.zeros((26,26))"
   ]
  },
  {
   "cell_type": "markdown",
   "metadata": {},
   "source": [
    "- Pour chaque échantillon, incrément de la case (prediction, vérité)"
   ]
  },
  {
   "cell_type": "code",
   "execution_count": null,
   "metadata": {},
   "outputs": [],
   "source": [
    "# Votre code"
   ]
  },
  {
   "cell_type": "markdown",
   "metadata": {},
   "source": [
    "- Tracé de la matrice : "
   ]
  },
  {
   "cell_type": "code",
   "execution_count": null,
   "metadata": {},
   "outputs": [],
   "source": [
    "plt.figure()\n",
    "plt.imshow(conf, interpolation = 'nearest')\n",
    "plt.colorbar()\n",
    "plt.xticks(np.arange(26), np.unique(Y))\n",
    "plt.yticks(np.arange(26), np.unique(Y))\n",
    "plt.xlabel(u'Vérité terrain')\n",
    "plt.ylabel(u'Prédiction')\n",
    "plt.savefig(\"mat_conf_lettres.png\")"
   ]
  },
  {
   "cell_type": "markdown",
   "metadata": {},
   "source": [
    "## Modèle génératif\n",
    "\n",
    "Utiliser les modèles appris pour générer de nouvelles lettres manuscrites.\n",
    "\n",
    "### Tirage selon une loi de probabilité discrète\n",
    "\n",
    "- faire la somme cumulée de la loi {$sc$}\n",
    "- tirer un nombre aléatoire {$t$} entre 0 et 1\n",
    "- trouver la première valeur de {$sc$} qui est supérieure à {$t$}\n",
    "- retourner cet état \n",
    "\n",
    "**Note :** comme vu en cours, tout repose sur la somme cumulée (notée ici `sc$`, calculable en appelant `np.cumsum`. Sur un exemple: la loi `V = [0.2, 0.4, 0.3, 0.1]` a pour somme cumulée `V.cumsum() == [0.2,  0.6,  0.9,  1.0]`\n",
    "\n",
    "### Génération d'une séquence de longueur N\n",
    "\n",
    "- tirer un état {$s_0$} selon Pi\n",
    "- tant que la longueur n'est pas atteinte :\n",
    "  - tirer un état {$s_{t+1}$} selon {$A[s_{t}]$} "
   ]
  },
  {
   "cell_type": "code",
   "execution_count": null,
   "metadata": {},
   "outputs": [],
   "source": [
    "# Votre code"
   ]
  },
  {
   "cell_type": "markdown",
   "metadata": {},
   "source": [
    "### Affichage du résultat"
   ]
  },
  {
   "cell_type": "code",
   "execution_count": null,
   "metadata": {},
   "outputs": [],
   "source": [
    "newa = generate(models[0][0], models[0][1], 20)       # generation d'une séquence d'états\n",
    "intervalle = 360. / d                                 # pour passer des états => valeur d'angles\n",
    "newa_continu = np.array([i * intervalle for i in newa]) # conv int => double\n",
    "tracerLettre(newa_continu)"
   ]
  },
  {
   "cell_type": "code",
   "execution_count": null,
   "metadata": {},
   "outputs": [],
   "source": []
  }
 ],
 "metadata": {
  "kernelspec": {
   "display_name": "Python 3",
   "language": "python",
   "name": "python3"
  },
  "language_info": {
   "codemirror_mode": {
    "name": "ipython",
    "version": 3
   },
   "file_extension": ".py",
   "mimetype": "text/x-python",
   "name": "python",
   "nbconvert_exporter": "python",
   "pygments_lexer": "ipython3",
   "version": "3.7.4"
  }
 },
 "nbformat": 4,
 "nbformat_minor": 4
}
